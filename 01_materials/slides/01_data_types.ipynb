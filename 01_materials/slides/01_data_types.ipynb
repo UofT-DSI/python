{
 "cells": [
  {
   "cell_type": "markdown",
   "metadata": {},
   "source": [
    "# Data Types\n",
    "We will be learning the fundamental data types used often in Python.\n",
    "\n",
    "<hr>"
   ]
  },
  {
   "cell_type": "markdown",
   "metadata": {},
   "source": [
    "# Contents:\n",
    "\n",
    "1. Types\n",
    "2. Statements and Expressions\n",
    "3. Additional Arithmetic Operators\n",
    "4. Logical\n",
    "5. Variables"
   ]
  },
  {
   "cell_type": "markdown",
   "metadata": {},
   "source": [
    "## Types\n",
    "\n",
    "Every piece of data in Python has a _type_. Data types dictate how values are stored by the computer and what operations we can perform on the data. For example, an `int`, or integer, value must be a whole number, and we can use it for arithmetic. The `float`, or floating point data type supports decimal numbers. There are other types for text (`string`), true/false values (`bool`), and more complex data that we will go into later.\n",
    "\n",
    "## Statements and Expressions\n",
    "\n",
    "A _statement_ in programming is a command. You can think of them as the smallest units of code. An _expression_ is a statement that produces a single value.\n",
    "\n",
    "We can use arithmetic operators like `+` and `-` to write simple expressions."
   ]
  },
  {
   "cell_type": "code",
   "execution_count": null,
   "metadata": {},
   "outputs": [],
   "source": [
    "5 + 6"
   ]
  },
  {
   "cell_type": "markdown",
   "metadata": {},
   "source": [
    "`5 + 6` is an expression.  \n",
    "`+` is an operator.  \n",
    "`5` and `6` are operands.  \n",
    "`11` is a value.\n",
    "\n",
    "The result of an expression may be a different data type than its inputs."
   ]
  },
  {
   "cell_type": "code",
   "execution_count": null,
   "metadata": {},
   "outputs": [],
   "source": [
    "5 / 2"
   ]
  },
  {
   "cell_type": "markdown",
   "metadata": {},
   "source": [
    "## Additional Arithmetic Operators\n",
    "\n",
    "| Operator | Description |\n",
    "|---|---|\n",
    "| // | Integer division (always rounds down)|\n",
    "| % | Modulo or remainder |\n",
    "| ** | Exponentiation |"
   ]
  },
  {
   "cell_type": "markdown",
   "metadata": {},
   "source": [
    "### Examples"
   ]
  },
  {
   "cell_type": "code",
   "execution_count": null,
   "metadata": {},
   "outputs": [
    {
     "data": {
      "text/plain": [
       "3"
      ]
     },
     "execution_count": 9,
     "metadata": {},
     "output_type": "execute_result"
    }
   ],
   "source": [
    "10 // 3\n",
    "10 % 3\n",
    "10 ** 3\n",
    "10 / 3\n",
    "10 // 3\n"
   ]
  },
  {
   "cell_type": "markdown",
   "metadata": {},
   "source": [
    "# Logical \n",
    "\n",
    "## True/False\n",
    "\n",
    "Python also has a data type, `bool`, for `True` and `False` values. The term `bool` derives from Boolean, which is itself a reference to the mathematician and logician George Boole, whose work underpins information and computing.\n",
    "\n",
    "## Comparison operators\n",
    "\n",
    "Python has comparison operators as well as arithmetic operators. Unlike arithmetic expressions, which produce integer or float values, comparison expressions produce a Boolean value.\n",
    "\n",
    "| Operator | Description |\n",
    "| --- | --- |\n",
    "| `>` | Greater than |\n",
    "| `>=` | Greater than or equal to |\n",
    "| `<` | Less than |\n",
    "| `<=` | Less than or equal to |\n",
    "| `==` | Equal to |\n",
    "| `!=` | Not equal to |\n",
    "\n",
    "### Examples"
   ]
  },
  {
   "cell_type": "code",
   "execution_count": null,
   "metadata": {},
   "outputs": [],
   "source": [
    "50 > 25\n",
    "-15 >= -14.99\n",
    "20 == 20"
   ]
  },
  {
   "cell_type": "markdown",
   "metadata": {},
   "source": [
    "## Exercise\n",
    "Create three (3) additional examples using the operators above."
   ]
  },
  {
   "cell_type": "code",
   "execution_count": 12,
   "metadata": {},
   "outputs": [
    {
     "data": {
      "text/plain": [
       "True"
      ]
     },
     "execution_count": 12,
     "metadata": {},
     "output_type": "execute_result"
    }
   ],
   "source": [
    "1 == 2\n",
    "2 > 3\n",
    "3 >= 2 + 1"
   ]
  },
  {
   "cell_type": "markdown",
   "metadata": {},
   "source": [
    "## Operator precedence\n",
    "\n",
    "Arithmetic and comparison operators are evaluated in the following order. We can enclose operations in parentheses to override the order of precedence -- operations in parentheses are evaluated before the rest of the expression.\n",
    "\n",
    "| Order | Operator | Description |\n",
    "|---|---|---|\n",
    "| 1 | `**` | Exponentiation |\n",
    "| 2 | `-`| Negation |\n",
    "| 3 | `*`, `/`, `//`, `%` | Multiplication, division, integer division, and modulo |\n",
    "| 4 | `+`, `-` | Addition and subtraction |\n",
    "| 5 | `<`, `<=`, `>`, `>=`, `==`, `!=` | Less than, less than or equal to, greater than, greater than or equal to, equal, not equal |"
   ]
  },
  {
   "cell_type": "markdown",
   "metadata": {},
   "source": [
    "# Variables\n",
    "\n",
    "## What is a variable?\n",
    "\n",
    "A _variable_ is a name that refers to a value. Variables make it easier to keep track of data.\n",
    "\n",
    "Variable names in Python can include letters, digits, and underscores. They cannot start with a digit. They are also case sensitive, so `variable` and `Variable` would be two different variables!\n",
    "\n",
    "## Creating variables\n",
    "\n",
    "To create a variable, we assign it a value using the assignment operator `=`."
   ]
  },
  {
   "cell_type": "code",
   "execution_count": 15,
   "metadata": {},
   "outputs": [],
   "source": [
    "degrees_celsius = 25"
   ]
  },
  {
   "cell_type": "markdown",
   "metadata": {},
   "source": [
    "This statement is called an _assignment statement_. Now that the variable `degrees_celsius` has been assigned a value, we can use it anywhere we would use that value."
   ]
  },
  {
   "cell_type": "code",
   "execution_count": 14,
   "metadata": {},
   "outputs": [
    {
     "data": {
      "text/plain": [
       "32.0"
      ]
     },
     "execution_count": 14,
     "metadata": {},
     "output_type": "execute_result"
    }
   ],
   "source": [
    "degrees_fahrenheit = (9 / 5) * degrees_celsius + 32\n",
    "degrees_fahrenheit"
   ]
  },
  {
   "cell_type": "markdown",
   "metadata": {},
   "source": [
    "## Reassigning variables\n",
    "\n",
    "When we reassign a variable, we change the value that variable refers to. Reassigning a variable does not change any other variable. Notice that `degrees_fahrenheit` stayed the same, even when we reassigned `degrees_celsius`."
   ]
  },
  {
   "cell_type": "code",
   "execution_count": 16,
   "metadata": {},
   "outputs": [
    {
     "data": {
      "text/plain": [
       "32.0"
      ]
     },
     "execution_count": 16,
     "metadata": {},
     "output_type": "execute_result"
    }
   ],
   "source": [
    "degrees_celsius = 0\n",
    "degrees_fahrenheit"
   ]
  },
  {
   "cell_type": "markdown",
   "metadata": {},
   "source": [
    "We can use a variable on both sides of an assignment statement. This is useful for updating a variable based on its current value."
   ]
  },
  {
   "cell_type": "code",
   "execution_count": 17,
   "metadata": {},
   "outputs": [
    {
     "data": {
      "text/plain": [
       "10"
      ]
     },
     "execution_count": 17,
     "metadata": {},
     "output_type": "execute_result"
    }
   ],
   "source": [
    "degrees_celsius = degrees_celsius + 10\n",
    "degrees_celsius"
   ]
  },
  {
   "cell_type": "markdown",
   "metadata": {},
   "source": [
    "Notice what happens when we set one variable equal to another, then reassign the first one."
   ]
  },
  {
   "cell_type": "code",
   "execution_count": 20,
   "metadata": {},
   "outputs": [
    {
     "data": {
      "text/plain": [
       "1"
      ]
     },
     "execution_count": 20,
     "metadata": {},
     "output_type": "execute_result"
    }
   ],
   "source": [
    "a = 1\n",
    "b = a\n",
    "b"
   ]
  },
  {
   "cell_type": "code",
   "execution_count": 21,
   "metadata": {},
   "outputs": [
    {
     "data": {
      "text/plain": [
       "1"
      ]
     },
     "execution_count": 21,
     "metadata": {},
     "output_type": "execute_result"
    }
   ],
   "source": [
    "a = 2\n",
    "b"
   ]
  },
  {
   "cell_type": "code",
   "execution_count": 22,
   "metadata": {},
   "outputs": [
    {
     "name": "stdout",
     "output_type": "stream",
     "text": [
      "4314082520\n",
      "4314082488\n"
     ]
    }
   ],
   "source": [
    "print(id(a))\n",
    "print(id(b))"
   ]
  },
  {
   "cell_type": "markdown",
   "metadata": {},
   "source": [
    "## Augmented assignment\n",
    "\n",
    "While `degrees_celsius = degrees_celsius + 10` is a valid statement, there is a more concise way to express this: by putting the operator `+` before the assignment operator `=`."
   ]
  },
  {
   "cell_type": "code",
   "execution_count": 26,
   "metadata": {},
   "outputs": [
    {
     "data": {
      "text/plain": [
       "10"
      ]
     },
     "execution_count": 26,
     "metadata": {},
     "output_type": "execute_result"
    }
   ],
   "source": [
    "degrees_celsius = 0\n",
    "degrees_celsius += 10\n",
    "degrees_celsius\n"
   ]
  },
  {
   "cell_type": "markdown",
   "metadata": {},
   "source": [
    "Similarly, subtraction, multiplication, division, expontiation, integer division, and modulo can be used as an augmented assignment."
   ]
  }
 ],
 "metadata": {
  "kernelspec": {
   "display_name": "base",
   "language": "python",
   "name": "python3"
  },
  "language_info": {
   "codemirror_mode": {
    "name": "ipython",
    "version": 3
   },
   "file_extension": ".py",
   "mimetype": "text/x-python",
   "name": "python",
   "nbconvert_exporter": "python",
   "pygments_lexer": "ipython3",
   "version": "3.13.5"
  }
 },
 "nbformat": 4,
 "nbformat_minor": 2
}
