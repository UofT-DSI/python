{
 "cells": [
  {
   "cell_type": "markdown",
   "metadata": {},
   "source": [
    "# Errors\n",
    "\n",
    "## Contents:\n",
    "1. Errors\n",
    "2. Comments\n",
    "3. Readability\n",
    "\n",
    "## What causes errors?\n",
    "\n",
    "Errors indicate that there is something in the code that the computer cannot execute. We will see some of the reasons that can happen. When an error occurs, Python produces an error message called a _traceback_. Tracebacks can be quite cryptic, but they tell us what code was running at the time of the error. When in doubt, copying the error message at the bottom of a traceback into a search engine can help.\n",
    "\n",
    "## Syntax errors\n",
    "\n",
    "A _syntax error_ occurs when our program contains code that isn't valid Python. Below, we are trying to assign the value `x` to the variable `12` -- but variable names that start with digits are not allowed in Python!"
   ]
  },
  {
   "cell_type": "code",
   "execution_count": null,
   "metadata": {},
   "outputs": [
    {
     "ename": "SyntaxError",
     "evalue": "cannot assign to literal here. Maybe you meant '==' instead of '='? (1319875306.py, line 1)",
     "output_type": "error",
     "traceback": [
      "  \u001b[36mCell\u001b[39m\u001b[36m \u001b[39m\u001b[32mIn[2]\u001b[39m\u001b[32m, line 1\u001b[39m\n\u001b[31m    \u001b[39m\u001b[31m\"12\" = x\u001b[39m\n    ^\n\u001b[31mSyntaxError\u001b[39m\u001b[31m:\u001b[39m cannot assign to literal here. Maybe you meant '==' instead of '='?\n"
     ]
    }
   ],
   "source": [
    "12 = x\n"
   ]
  },
  {
   "cell_type": "markdown",
   "metadata": {},
   "source": [
    "Below, Python expects another operand to the right of `-`, and throws a syntax error because there isn't a second operand."
   ]
  },
  {
   "cell_type": "code",
   "execution_count": 3,
   "metadata": {},
   "outputs": [
    {
     "ename": "SyntaxError",
     "evalue": "invalid syntax (934255472.py, line 1)",
     "output_type": "error",
     "traceback": [
      "  \u001b[36mCell\u001b[39m\u001b[36m \u001b[39m\u001b[32mIn[3]\u001b[39m\u001b[32m, line 1\u001b[39m\n\u001b[31m    \u001b[39m\u001b[31m25 -\u001b[39m\n        ^\n\u001b[31mSyntaxError\u001b[39m\u001b[31m:\u001b[39m invalid syntax\n"
     ]
    }
   ],
   "source": [
    "25 -"
   ]
  },
  {
   "cell_type": "markdown",
   "metadata": {},
   "source": [
    "## Name errors\n",
    "\n",
    "A _name error_ occurs when we try to use a variable that hasn't been assigned yet. Name errors are especially common when working in notebooks, where code is often not run from top to bottom."
   ]
  },
  {
   "cell_type": "code",
   "execution_count": 4,
   "metadata": {},
   "outputs": [
    {
     "ename": "NameError",
     "evalue": "name 'my_variable' is not defined",
     "output_type": "error",
     "traceback": [
      "\u001b[31m---------------------------------------------------------------------------\u001b[39m",
      "\u001b[31mNameError\u001b[39m                                 Traceback (most recent call last)",
      "\u001b[36mCell\u001b[39m\u001b[36m \u001b[39m\u001b[32mIn[4]\u001b[39m\u001b[32m, line 1\u001b[39m\n\u001b[32m----> \u001b[39m\u001b[32m1\u001b[39m \u001b[43mmy_variable\u001b[49m + \u001b[32m1\u001b[39m\n",
      "\u001b[31mNameError\u001b[39m: name 'my_variable' is not defined"
     ]
    }
   ],
   "source": [
    "my_variable + 1"
   ]
  },
  {
   "cell_type": "markdown",
   "metadata": {},
   "source": [
    "# Comments\n",
    "\n",
    "## What are comments?\n",
    "\n",
    "Comments are a way to annotate code within code. They're used to explain parts of code to human audiences. In Python, comments start with a `#` symbol. The interpreter ignores everything from the `#` to the end of the line when translating a program into machine instructions."
   ]
  },
  {
   "cell_type": "code",
   "execution_count": null,
   "metadata": {},
   "outputs": [],
   "source": [
    "# This is a comment. It is not evaluated when we run our code"
   ]
  },
  {
   "cell_type": "code",
   "execution_count": 5,
   "metadata": {},
   "outputs": [
    {
     "data": {
      "text/plain": [
       "71.33333333333333"
      ]
     },
     "execution_count": 5,
     "metadata": {},
     "output_type": "execute_result"
    }
   ],
   "source": [
    "student1_grade = 90\n",
    "student2_grade = 50\n",
    "student3_grade = 74\n",
    "average_grade = (student1_grade + student2_grade + student3_grade) / 3\n",
    "average_grade  # These lines of code will produce a value.\n",
    "# Python will ignore everything after the # symbol."
   ]
  },
  {
   "cell_type": "markdown",
   "metadata": {},
   "source": [
    "# Readability\n",
    "\n",
    "## What is readable code and why should we care?\n",
    "\n",
    "Code that is easier to read is easier to debug and maintain. Readability becomes more important the larger the codebase or the team is.\n",
    "\n",
    "Some practices that make code easier to read:  \n",
    "* **White space**: A space to either side of an operand helps readability. We can also split code across multiple lines by wrapping it in parentheses.\n",
    "* **Comments**: Comments communicate the gist of a program and help explain complicated sections of code. They can also be used to plan future work in plain language, or to toggle lines of code on and off for debugging.\n",
    "* **Clear and consistent variable names**: Descriptive variable names contribute to self-documenting code and reduce the need for comments. Consistent naming practices reduce the likelihood of referencing the wrong variable or raising a NameError.\n",
    "\n",
    "## Which code is easier to read and follow?\n",
    "\n",
    "Version 1\n",
    "```python\n",
    "studentone_grade=90\n",
    "StudentGrade2=50\n",
    "stu3gr=74\n",
    "avggrade=(studentone_grade+StudentGrade2+stut3gr)/3\n",
    "```\n",
    "\n",
    "Version 2 \n",
    "```python\n",
    "student1_grade = 90\n",
    "student2_grade = 50\n",
    "student3_grade = 74\n",
    "average_grade = ((student1_grade\n",
    "                  + student2_grade\n",
    "                  + student3_grade)\n",
    "                 / 3)\n",
    "```\n"
   ]
  }
 ],
 "metadata": {
  "kernelspec": {
   "display_name": "base",
   "language": "python",
   "name": "python3"
  },
  "language_info": {
   "codemirror_mode": {
    "name": "ipython",
    "version": 3
   },
   "file_extension": ".py",
   "mimetype": "text/x-python",
   "name": "python",
   "nbconvert_exporter": "python",
   "pygments_lexer": "ipython3",
   "version": "3.13.5"
  }
 },
 "nbformat": 4,
 "nbformat_minor": 2
}
