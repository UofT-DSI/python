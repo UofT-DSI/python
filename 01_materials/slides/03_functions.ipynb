{
  "cells": [
    {
      "cell_type": "markdown",
      "id": "f31cc4a9",
      "metadata": {
        "id": "f31cc4a9"
      },
      "source": [
        "# Functions"
      ]
    },
    {
      "cell_type": "markdown",
      "id": "14665d06",
      "metadata": {},
      "source": [
        "## Contents\n",
        "1. What is a function?\n",
        "2. Built-in functions\n",
        "3. More built-in functions\n",
        "4. Nesting functions\n",
        "5. Writing your own functions\n",
        "6. Documenting functions\n",
        "7. Docstrings\n",
        "8. Structure of a function\n",
        "9. Variable Scope\n",
        "10. Function Design Recipe"
      ]
    },
    {
      "cell_type": "markdown",
      "id": "3a700ac7",
      "metadata": {
        "id": "3a700ac7"
      },
      "source": [
        "## What is a function?\n",
        "\n",
        "A _function_ is a block of code that performs a task. A function takes zero or more inputs and _returns_ an output.\n",
        "\n",
        "When we use a function, we say we are _calling_ it. We call a function by typing out the function's name followed by parentheses. Inside the parentheses, we can _pass_ in data for the function to use. These values are called _arguments_."
      ]
    },
    {
      "cell_type": "markdown",
      "id": "b79adc3b",
      "metadata": {
        "id": "b79adc3b"
      },
      "source": [
        "## Built-in functions\n",
        "\n",
        "Python comes with several functions already built in. To display information, for example, we can call the `print()` function. (Note that if the last line in a notebook cell is an expression, the notebook will automatically display the result, no `print()` function needed.)"
      ]
    },
    {
      "cell_type": "code",
      "execution_count": null,
      "id": "345bda77",
      "metadata": {
        "colab": {
          "base_uri": "https://localhost:8080/"
        },
        "id": "345bda77",
        "outputId": "600f7c37-4cd3-45ee-a5a3-04137eedaeb8"
      },
      "outputs": [
        {
          "name": "stdout",
          "output_type": "stream",
          "text": [
            "42\n"
          ]
        }
      ],
      "source": [
        "print(42)"
      ]
    },
    {
      "cell_type": "markdown",
      "id": "d25e6107",
      "metadata": {
        "id": "d25e6107"
      },
      "source": [
        "To check the data type of a value, we can call the `type()` function."
      ]
    },
    {
      "cell_type": "code",
      "execution_count": 2,
      "id": "d4bad1e7",
      "metadata": {
        "colab": {
          "base_uri": "https://localhost:8080/"
        },
        "id": "d4bad1e7",
        "outputId": "0a4308b2-73e4-413f-83ad-da40c20749f7"
      },
      "outputs": [
        {
          "data": {
            "text/plain": [
              "int"
            ]
          },
          "execution_count": 2,
          "metadata": {},
          "output_type": "execute_result"
        }
      ],
      "source": [
        "type(42)"
      ]
    },
    {
      "cell_type": "markdown",
      "id": "f70b9a2d",
      "metadata": {
        "id": "f70b9a2d"
      },
      "source": [
        "We can pass in expressions as arguments."
      ]
    },
    {
      "cell_type": "code",
      "execution_count": 3,
      "id": "47c6ffff",
      "metadata": {
        "colab": {
          "base_uri": "https://localhost:8080/"
        },
        "id": "47c6ffff",
        "outputId": "fcc37f1c-563f-4416-93d1-e03dc1a2693b"
      },
      "outputs": [
        {
          "name": "stdout",
          "output_type": "stream",
          "text": [
            "100\n"
          ]
        }
      ],
      "source": [
        "print(10 ** 2)"
      ]
    },
    {
      "cell_type": "markdown",
      "id": "aa7eec74",
      "metadata": {
        "id": "aa7eec74"
      },
      "source": [
        "## More built-in functions\n",
        "\n",
        "Some other useful built-in functions include `abs()` for absolute values, `round()` for rounding, and `int()` and `float()` for type conversion into integers and floats, respectively."
      ]
    },
    {
      "cell_type": "code",
      "execution_count": 4,
      "id": "3cf13d07",
      "metadata": {
        "colab": {
          "base_uri": "https://localhost:8080/"
        },
        "id": "3cf13d07",
        "outputId": "3bbf3381-4353-4db0-8682-e0d541affc88"
      },
      "outputs": [
        {
          "data": {
            "text/plain": [
              "43"
            ]
          },
          "execution_count": 4,
          "metadata": {},
          "output_type": "execute_result"
        }
      ],
      "source": [
        "abs(-43)"
      ]
    },
    {
      "cell_type": "code",
      "execution_count": 5,
      "id": "bf9825ec",
      "metadata": {
        "colab": {
          "base_uri": "https://localhost:8080/"
        },
        "id": "bf9825ec",
        "outputId": "27d9c8f6-426f-4595-fc36-b2bb7e67d857"
      },
      "outputs": [
        {
          "data": {
            "text/plain": [
              "1"
            ]
          },
          "execution_count": 5,
          "metadata": {},
          "output_type": "execute_result"
        }
      ],
      "source": [
        "round(2/3)"
      ]
    },
    {
      "cell_type": "code",
      "execution_count": 6,
      "id": "c1bff1ca",
      "metadata": {
        "colab": {
          "base_uri": "https://localhost:8080/"
        },
        "id": "c1bff1ca",
        "outputId": "e3c36027-b473-440f-d30e-07765bc5ab64"
      },
      "outputs": [
        {
          "data": {
            "text/plain": [
              "3"
            ]
          },
          "execution_count": 6,
          "metadata": {},
          "output_type": "execute_result"
        }
      ],
      "source": [
        "int(3.99)"
      ]
    },
    {
      "cell_type": "code",
      "execution_count": 7,
      "id": "9c79d3da",
      "metadata": {
        "colab": {
          "base_uri": "https://localhost:8080/"
        },
        "id": "9c79d3da",
        "outputId": "63f9f2a8-ef80-4a62-c732-cec979ea55da"
      },
      "outputs": [
        {
          "data": {
            "text/plain": [
              "7.0"
            ]
          },
          "execution_count": 7,
          "metadata": {},
          "output_type": "execute_result"
        }
      ],
      "source": [
        "float(7)"
      ]
    },
    {
      "cell_type": "markdown",
      "id": "93f36746",
      "metadata": {
        "id": "93f36746"
      },
      "source": [
        "## Nesting functions\n",
        "\n",
        "We can also _nest_ functions within one another. Nested functions are evaluated from the inside out. The code below is evaluated in the following order:\n",
        "\n",
        "1. `2 * 1.5`\n",
        "2. `round()`\n",
        "3. `type()`\n",
        "4. `print()`"
      ]
    },
    {
      "cell_type": "code",
      "execution_count": 8,
      "id": "49041e2a",
      "metadata": {
        "colab": {
          "base_uri": "https://localhost:8080/"
        },
        "id": "49041e2a",
        "outputId": "b247fd1b-5004-472a-f036-336f5a8e28e7"
      },
      "outputs": [
        {
          "name": "stdout",
          "output_type": "stream",
          "text": [
            "<class 'int'>\n"
          ]
        }
      ],
      "source": [
        "print(type(round(2 * 1.5)))"
      ]
    },
    {
      "cell_type": "markdown",
      "id": "5d6190cf",
      "metadata": {},
      "source": [
        "## Getting help\n",
        "\n",
        "How do we know what a function does or what arguments it can take? One way is by looking up documentation online. Another is by using the built in `help()` function, with the name of the function we want to know about passed in as an argument."
      ]
    },
    {
      "cell_type": "code",
      "execution_count": 9,
      "id": "95c23628",
      "metadata": {},
      "outputs": [
        {
          "name": "stdout",
          "output_type": "stream",
          "text": [
            "Help on built-in function round in module builtins:\n",
            "\n",
            "round(number, ndigits=None)\n",
            "    Round a number to a given precision in decimal digits.\n",
            "\n",
            "    The return value is an integer if ndigits is omitted or None.  Otherwise\n",
            "    the return value has the same type as the number.  ndigits may be negative.\n",
            "\n"
          ]
        }
      ],
      "source": [
        "help(round)"
      ]
    },
    {
      "cell_type": "markdown",
      "id": "b8e495fb",
      "metadata": {
        "id": "b8e495fb"
      },
      "source": [
        "## Writing our own functions\n",
        "\n",
        "We can also create our own functions, which allows us to reuse code without copying and pasting. As we write longer programs, functions also help structure our code."
      ]
    },
    {
      "cell_type": "markdown",
      "id": "ffe15547",
      "metadata": {
        "id": "ffe15547"
      },
      "source": [
        "We use the `def` keyword to start a _function definition statement_. The function name follows `def`. Function names can use letters, digits, and underscores; they cannot start with a digit; and they are case sensitive. Functions in Python typically start with lowercase letters.\n",
        "\n",
        "After the function name comes parameter names enclosed in parentheses. A _parameter_ is a variable used only within a function. When we pass an argument to a function, the argument value is assigned to a corresponding parameter.\n",
        "\n",
        "After the closing parenthesis comes a colon (`:`). The function _body_ follows on the next lines. The function body is an indented block of code that runs whenever we call the function. It can include comments as well as statements. The body does not run when we define the function, though!\n",
        "\n",
        "Finally, the body ends with a `return` statement. The return statement tells the function what value, if any, to output when it is called. Some functions, like `print()`, return `None` -- a special data type representing no data. If we don't write a `return` statement, Python will fill in an implicit one and return `None`."
      ]
    },
    {
      "cell_type": "markdown",
      "id": "01274079",
      "metadata": {
        "id": "01274079"
      },
      "source": [
        "`degrees_fahrenheit = (9 / 5) * degrees_celsius + 32`\n",
        "\n",
        "Let's turn our Celsius-to-Fahrenheit conversion code from earlier into a function.  "
      ]
    },
    {
      "cell_type": "markdown",
      "id": "bdcf02c8",
      "metadata": {
        "id": "bdcf02c8"
      },
      "source": [
        "We want our output to be a number representing degrees Fahrenheit. Our input is a number representing degrees Celsius.\n",
        "\n",
        "To make it easy to understand what our function does, let's call it `c_to_f()`. We'll need a parameter name for our input within the parentheses as well -- let's use `degrees_c`. Before writing any code in the body, we can add a comment briefly explaining what the function does.\n",
        "\n",
        "The output is the result of the expression `(9 / 5) * degrees_c + 32`. This calculation is pretty short, so we can put it in the `return` statement as is."
      ]
    },
    {
      "cell_type": "code",
      "execution_count": 21,
      "id": "69a1cfea",
      "metadata": {
        "id": "69a1cfea"
      },
      "outputs": [],
      "source": [
        "def c_to_f(degrees_c):\n",
        "    # Convert degrees from Celsius to Fahrenheit\n",
        "    return ((9 / 5) * degrees_c + 32)"
      ]
    },
    {
      "cell_type": "markdown",
      "id": "ce855b6f",
      "metadata": {
        "id": "ce855b6f"
      },
      "source": [
        "Let's try `c_to_f()` out!"
      ]
    },
    {
      "cell_type": "code",
      "execution_count": 22,
      "id": "c9ed1dff",
      "metadata": {
        "colab": {
          "base_uri": "https://localhost:8080/"
        },
        "id": "c9ed1dff",
        "outputId": "3ea1b703-5025-41ab-92f4-cddac7bbe136"
      },
      "outputs": [
        {
          "name": "stdout",
          "output_type": "stream",
          "text": [
            "212.0\n",
            "12.2\n"
          ]
        }
      ],
      "source": [
        "print(c_to_f(100))\n",
        "print(c_to_f(-11))"
      ]
    },
    {
      "cell_type": "markdown",
      "id": "d0dd42b0",
      "metadata": {
        "id": "d0dd42b0"
      },
      "source": [
        "We can save the output of a function by assigning it to a variable."
      ]
    },
    {
      "cell_type": "code",
      "execution_count": 23,
      "id": "f27a7980",
      "metadata": {
        "colab": {
          "base_uri": "https://localhost:8080/"
        },
        "id": "f27a7980",
        "outputId": "53a6e7a6-8d5d-4ba5-bf0a-0562cc0b486c"
      },
      "outputs": [
        {
          "data": {
            "text/plain": [
              "32.0"
            ]
          },
          "execution_count": 23,
          "metadata": {},
          "output_type": "execute_result"
        }
      ],
      "source": [
        "freezing_f = c_to_f(0)\n",
        "freezing_f"
      ]
    },
    {
      "cell_type": "markdown",
      "id": "c68d1a1f",
      "metadata": {},
      "source": [
        "### Exercise 1\n",
        "Write a function to convert F to C."
      ]
    },
    {
      "cell_type": "code",
      "execution_count": null,
      "id": "5fb6b608",
      "metadata": {},
      "outputs": [],
      "source": [
        "# Your code goes here"
      ]
    },
    {
      "cell_type": "markdown",
      "id": "936d16a9",
      "metadata": {
        "id": "936d16a9"
      },
      "source": [
        "### Multiple parameters\n",
        "\n",
        "Functions can have multiple parameters. In this case, the order that arguments are passed in matters. The first argument corresponds to the first parameter, the second argument to the second parameter, and so on."
      ]
    },
    {
      "cell_type": "code",
      "execution_count": 24,
      "id": "e8f57c4f",
      "metadata": {
        "colab": {
          "base_uri": "https://localhost:8080/"
        },
        "id": "e8f57c4f",
        "outputId": "2254f921-da30-4709-f668-f6afdfbcf901"
      },
      "outputs": [
        {
          "name": "stdout",
          "output_type": "stream",
          "text": [
            "0.0\n"
          ]
        }
      ],
      "source": [
        "def divide(dividend, divisor):\n",
        "    return dividend / divisor\n",
        "\n",
        "print(divide(0, 2))"
      ]
    },
    {
      "cell_type": "code",
      "execution_count": 27,
      "id": "81d0aa06",
      "metadata": {
        "colab": {
          "base_uri": "https://localhost:8080/",
          "height": 276
        },
        "id": "81d0aa06",
        "outputId": "0b4bfb64-27f4-44a0-ccdd-543e1e1a0cb9"
      },
      "outputs": [
        {
          "ename": "ZeroDivisionError",
          "evalue": "division by zero",
          "output_type": "error",
          "traceback": [
            "\u001b[31m---------------------------------------------------------------------------\u001b[39m",
            "\u001b[31mZeroDivisionError\u001b[39m                         Traceback (most recent call last)",
            "\u001b[36mCell\u001b[39m\u001b[36m \u001b[39m\u001b[32mIn[27]\u001b[39m\u001b[32m, line 1\u001b[39m\n\u001b[32m----> \u001b[39m\u001b[32m1\u001b[39m \u001b[38;5;28mprint\u001b[39m(\u001b[43mdivide\u001b[49m\u001b[43m(\u001b[49m\u001b[32;43m2\u001b[39;49m\u001b[43m,\u001b[49m\u001b[43m \u001b[49m\u001b[32;43m0\u001b[39;49m\u001b[43m)\u001b[49m)\n",
            "\u001b[36mCell\u001b[39m\u001b[36m \u001b[39m\u001b[32mIn[24]\u001b[39m\u001b[32m, line 2\u001b[39m, in \u001b[36mdivide\u001b[39m\u001b[34m(dividend, divisor)\u001b[39m\n\u001b[32m      1\u001b[39m \u001b[38;5;28;01mdef\u001b[39;00m\u001b[38;5;250m \u001b[39m\u001b[34mdivide\u001b[39m(dividend, divisor):\n\u001b[32m----> \u001b[39m\u001b[32m2\u001b[39m     \u001b[38;5;28;01mreturn\u001b[39;00m \u001b[43mdividend\u001b[49m\u001b[43m \u001b[49m\u001b[43m/\u001b[49m\u001b[43m \u001b[49m\u001b[43mdivisor\u001b[49m\n",
            "\u001b[31mZeroDivisionError\u001b[39m: division by zero"
          ]
        }
      ],
      "source": [
        "print(divide(2, 0))"
      ]
    },
    {
      "cell_type": "markdown",
      "id": "7f49baa4",
      "metadata": {
        "id": "7f49baa4"
      },
      "source": [
        "### Optional parameters and default arguments\n",
        "\n",
        "Functions can have default values for parameters. This is convenient when there is a commonly used default -- it means we do not have to supply that argument if the default value works for our purposes. To override the default, we can pass in an additional argument.\n",
        "\n",
        "Below, we define a sales tax calculator that uses Ontario's tax rate as the default."
      ]
    },
    {
      "cell_type": "code",
      "execution_count": 26,
      "id": "2287bab3",
      "metadata": {
        "colab": {
          "base_uri": "https://localhost:8080/"
        },
        "id": "2287bab3",
        "outputId": "a9692e79-99cd-4911-f494-af60185a90c7"
      },
      "outputs": [
        {
          "name": "stdout",
          "output_type": "stream",
          "text": [
            "0.65\n",
            "0.4\n"
          ]
        }
      ],
      "source": [
        "def calc_sales_tax(price, tax_rate=0.13):\n",
        "    return price * tax_rate\n",
        "\n",
        "print(calc_sales_tax(5))\n",
        "print(calc_sales_tax(5, .08))"
      ]
    },
    {
      "cell_type": "markdown",
      "id": "58e03fa7",
      "metadata": {
        "id": "58e03fa7"
      },
      "source": [
        "### Keyword arguments\n",
        "\n",
        "If there are multiple optional parameters, use _keyword arguments_ to specify which parameter a value should be used for. Using a keyword argument resembles assigning a variable.\n",
        "\n",
        "The function below has multiple optional parameters."
      ]
    },
    {
      "cell_type": "code",
      "execution_count": 13,
      "id": "1e81e377",
      "metadata": {
        "id": "1e81e377"
      },
      "outputs": [],
      "source": [
        "def calc_total_bill(price, tax_rate=0.13, tip_rate=0.2):\n",
        "    tax = price * tax_rate\n",
        "    tip = price * tip_rate\n",
        "    return price + tax + tip"
      ]
    },
    {
      "cell_type": "markdown",
      "id": "39510068",
      "metadata": {
        "id": "39510068"
      },
      "source": [
        "Accept all defaults:"
      ]
    },
    {
      "cell_type": "code",
      "execution_count": 14,
      "id": "34b595e3",
      "metadata": {
        "colab": {
          "base_uri": "https://localhost:8080/"
        },
        "id": "34b595e3",
        "outputId": "2cbdadef-e05c-4d6f-b9de-39ebca33259c"
      },
      "outputs": [
        {
          "data": {
            "text/plain": [
              "133.0"
            ]
          },
          "execution_count": 14,
          "metadata": {},
          "output_type": "execute_result"
        }
      ],
      "source": [
        "calc_total_bill(100)"
      ]
    },
    {
      "cell_type": "markdown",
      "id": "c2485199",
      "metadata": {
        "id": "c2485199"
      },
      "source": [
        "Python assumes the second argument is for the second parameter, `tax_rate`."
      ]
    },
    {
      "cell_type": "code",
      "execution_count": 15,
      "id": "bede3708",
      "metadata": {
        "colab": {
          "base_uri": "https://localhost:8080/"
        },
        "id": "bede3708",
        "outputId": "1408e666-dc36-4504-abe6-86bfabb0e762"
      },
      "outputs": [
        {
          "name": "stdout",
          "output_type": "stream",
          "text": [
            "142.0\n"
          ]
        }
      ],
      "source": [
        "print(calc_total_bill(100, 0.22))"
      ]
    },
    {
      "cell_type": "markdown",
      "id": "a2cffd6f",
      "metadata": {
        "id": "a2cffd6f"
      },
      "source": [
        "Use the `tip_rate` keyword argument to specify that the second argument is not the tax rate."
      ]
    },
    {
      "cell_type": "code",
      "execution_count": 16,
      "id": "d1d9f3d2",
      "metadata": {
        "colab": {
          "base_uri": "https://localhost:8080/"
        },
        "id": "d1d9f3d2",
        "outputId": "42cd36d2-717b-4729-9f87-d7b073793a37"
      },
      "outputs": [
        {
          "name": "stdout",
          "output_type": "stream",
          "text": [
            "135.0\n"
          ]
        }
      ],
      "source": [
        "print(calc_total_bill(100, tip_rate=0.22))"
      ]
    },
    {
      "cell_type": "markdown",
      "id": "fc58762b",
      "metadata": {
        "id": "fc58762b"
      },
      "source": [
        "## Documenting functions\n",
        "\n",
        "We can call `help()` on user-defined functions as well as built-in functions."
      ]
    },
    {
      "cell_type": "code",
      "execution_count": 28,
      "id": "8dc69f93",
      "metadata": {
        "colab": {
          "base_uri": "https://localhost:8080/"
        },
        "id": "8dc69f93",
        "outputId": "a4575900-536e-4a9d-d3cb-8da053af11d5"
      },
      "outputs": [
        {
          "name": "stdout",
          "output_type": "stream",
          "text": [
            "Help on function c_to_f in module __main__:\n",
            "\n",
            "c_to_f(degrees_c)\n",
            "\n"
          ]
        }
      ],
      "source": [
        "help(c_to_f)"
      ]
    },
    {
      "cell_type": "markdown",
      "id": "5747c4ed",
      "metadata": {
        "id": "5747c4ed"
      },
      "source": [
        "## Docstrings\n",
        "\n",
        "In order to get useful results, though, a user-defined function needs a docstring. A _docstring_ is a special kind of string, or text data, that describes what a function does. It is the first thing in a function after the definition statement, and it is typically surrounded by triple single or double quotes (`'''` or `\"\"\"`). `help()` looks for a docstring when it is called."
      ]
    },
    {
      "cell_type": "markdown",
      "id": "cedc4bcc",
      "metadata": {
        "id": "cedc4bcc"
      },
      "source": [
        "Let's convert our comment from earlier into a docstring, then try calling `help()` again."
      ]
    },
    {
      "cell_type": "code",
      "execution_count": 29,
      "id": "5c55eb30",
      "metadata": {
        "colab": {
          "base_uri": "https://localhost:8080/"
        },
        "id": "5c55eb30",
        "outputId": "9528ca9e-50f6-4d24-b4d8-da0f7029c4c2"
      },
      "outputs": [
        {
          "name": "stdout",
          "output_type": "stream",
          "text": [
            "Help on function c_to_f in module __main__:\n",
            "\n",
            "c_to_f(degrees_c)\n",
            "    Convert degrees from Celsius to Fahrenheit\n",
            "\n"
          ]
        }
      ],
      "source": [
        "def c_to_f(degrees_c):\n",
        "    '''Convert degrees from Celsius to Fahrenheit'''\n",
        "    return ((9 / 5) * degrees_c + 32)\n",
        "\n",
        "help(c_to_f)"
      ]
    },
    {
      "cell_type": "markdown",
      "id": "182f59a6",
      "metadata": {
        "id": "182f59a6"
      },
      "source": [
        "## Structure of a function\n",
        "\n",
        "Now that we've written our first function, let's review the structure.\n",
        "\n",
        "`c_to_f(degrees_c)` is the _function header_. It tells us what the function name and parameters are.\n",
        "\n",
        "`'''Convert degrees from Celsius to Fahrenheit'''` is the _docstring_. It briefly describes what the function does. Docstrings can include more information about the function, such as examples, what types of data are accepted as arguments, or what gets returned.\n",
        "\n",
        "`return ((9 / 5) * degrees_c + 32)` makes up the function _body_, or the code that runs when a function is called. This is typically more than one line of code. The body ends with a `return` statement specifying what the output of the function should be. If no `return` statement is written out, the function will return `None`."
      ]
    },
    {
      "cell_type": "markdown",
      "id": "a243134e",
      "metadata": {
        "id": "a243134e"
      },
      "source": [
        "## Variable Scope\n",
        "\n",
        "We mentioned that parameters were variables used only in functions. This means that the parameter does not exist outside of the function call -- if we try to access `degrees_c` outside of `c_to_f()`, we get a NameError."
      ]
    },
    {
      "cell_type": "code",
      "execution_count": 30,
      "id": "3799ebfc",
      "metadata": {
        "colab": {
          "base_uri": "https://localhost:8080/",
          "height": 174
        },
        "id": "3799ebfc",
        "outputId": "ae4453b0-1607-4f16-f98b-2ef866ad0e1e"
      },
      "outputs": [
        {
          "ename": "NameError",
          "evalue": "name 'degrees_c' is not defined",
          "output_type": "error",
          "traceback": [
            "\u001b[31m---------------------------------------------------------------------------\u001b[39m",
            "\u001b[31mNameError\u001b[39m                                 Traceback (most recent call last)",
            "\u001b[36mCell\u001b[39m\u001b[36m \u001b[39m\u001b[32mIn[30]\u001b[39m\u001b[32m, line 1\u001b[39m\n\u001b[32m----> \u001b[39m\u001b[32m1\u001b[39m \u001b[43mdegrees_c\u001b[49m\n",
            "\u001b[31mNameError\u001b[39m: name 'degrees_c' is not defined"
          ]
        }
      ],
      "source": [
        "degrees_c"
      ]
    },
    {
      "cell_type": "markdown",
      "id": "69e2892f",
      "metadata": {
        "id": "69e2892f"
      },
      "source": [
        "Parameters are _locally scoped_ variables. _Scope_ refers to the context in which a variable can be accessed. _Local_ indicates that the variable can only be accessed within the function itself."
      ]
    },
    {
      "cell_type": "markdown",
      "id": "b3bedf20",
      "metadata": {
        "id": "b3bedf20"
      },
      "source": [
        "In contrast, a variable defined outside of a function has _global scope_. It can be accessed from anywhere in the program."
      ]
    },
    {
      "cell_type": "code",
      "execution_count": null,
      "id": "8d6408c9",
      "metadata": {
        "colab": {
          "base_uri": "https://localhost:8080/"
        },
        "id": "8d6408c9",
        "outputId": "81da20d0-3622-4c9e-8aac-57ee1be6dbf9"
      },
      "outputs": [],
      "source": [
        "# boiling_c is a global variable\n",
        "boiling_c = 100\n",
        "\n",
        "# boiling_f is too\n",
        "boiling_f = c_to_f(100)\n",
        "\n",
        "print(boiling_c, boiling_f)"
      ]
    },
    {
      "cell_type": "markdown",
      "id": "722d2c13",
      "metadata": {
        "id": "722d2c13"
      },
      "source": [
        "## Exercise 2: Function Design Recipe\n",
        "\n",
        "This function design recipe standardizes the steps to write a function.\n",
        "\n",
        "1. Think about what your function does. Come up with a few examples of inputs and outputs.\n",
        "2. Think of a meaningful function name.\n",
        "3. Write thorough function documentation.\n",
        "4. Code the function body.\n",
        "5. Test the function against the examples from step 1."
      ]
    },
    {
      "cell_type": "markdown",
      "id": "34d71c1c",
      "metadata": {},
      "source": [
        "# References\n",
        "\n",
        "- Bostroem, Bekolay, and Staneva (eds): \"Software Carpentry: Programming with Python\"  Version 2016.06, June 2016, https://github.com/swcarpentry/python-novice-inflammation, 10.5281/zenodo.57492.\n",
        "- Chapters 1, 2, 3, and 4, Gries, Campbell, and Montojo, 2017, *Practical Programming: An Introduction to Computer Science Using Python 3.6*\n",
        "- Chapter 8, Adhikari, DeNero, and Wagner, 2021, *Computational and Inferential Thinking: The Foundations of Data Science*\n",
        "- \"String methods\", Python Software Foundation, *Python Language Reference, version 3.* Available at https://docs.python.org/3/library/stdtypes.html#string-methods"
      ]
    }
  ],
  "metadata": {
    "celltoolbar": "Slideshow",
    "colab": {
      "collapsed_sections": [
        "0294d7fe",
        "b3f69e98",
        "cd134d80",
        "16f27979",
        "f1caca54",
        "3a700ac7",
        "722d2c13",
        "ed8b70b9"
      ],
      "provenance": [],
      "toc_visible": true
    },
    "kernelspec": {
      "display_name": "base",
      "language": "python",
      "name": "python3"
    },
    "language_info": {
      "codemirror_mode": {
        "name": "ipython",
        "version": 3
      },
      "file_extension": ".py",
      "mimetype": "text/x-python",
      "name": "python",
      "nbconvert_exporter": "python",
      "pygments_lexer": "ipython3",
      "version": "3.13.5"
    },
    "rise": {
      "scroll": true,
      "theme": "solarized",
      "transition": "none"
    }
  },
  "nbformat": 4,
  "nbformat_minor": 5
}
