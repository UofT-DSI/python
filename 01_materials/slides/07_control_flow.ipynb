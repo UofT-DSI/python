{
  "cells": [
    {
      "cell_type": "markdown",
      "id": "40d3f376",
      "metadata": {
        "id": "40d3f376"
      },
      "source": [
        "# Dealing with Reality: Control Flow and Iterables"
      ]
    },
    {
      "cell_type": "markdown",
      "id": "e5e5ab47",
      "metadata": {
        "id": "e5e5ab47"
      },
      "source": [
        "# Contents:\n",
        "\n",
        "1. Logic, Revisited\n",
        "2. Control Flow: Conditionals\n",
        "3. Collections of Values\n",
        "  1. Lists and Tuples\n",
        "  3. Sets\n",
        "  4. Dictionaries\n",
        "4. Control Flow: Iteration"
      ]
    },
    {
      "cell_type": "markdown",
      "id": "c28a8f55",
      "metadata": {
        "id": "c28a8f55"
      },
      "source": [
        "# Logic"
      ]
    },
    {
      "cell_type": "markdown",
      "id": "dcda64da",
      "metadata": {
        "id": "dcda64da"
      },
      "source": [
        "## Logic Operators\n",
        "\n",
        "Earlier, we introduced the `bool` data type, which has only two possible values: `True` and `False`. There are _boolean_ or _logic operators_ that work with Boolean values:\n",
        "\n",
        "* `not`: negates the truth value of the statement\n",
        "* `and`: check if the statements on both sides are true\n",
        "* `or`: check if at least one of the statements are true"
      ]
    },
    {
      "cell_type": "markdown",
      "id": "410fed7f",
      "metadata": {
        "id": "410fed7f"
      },
      "source": [
        "## `not`\n",
        "\n",
        "|X|`not` X|\n",
        "|-|-|\n",
        "|True|False|\n",
        "|False|True|"
      ]
    },
    {
      "cell_type": "code",
      "execution_count": null,
      "id": "6436bb1e",
      "metadata": {
        "colab": {
          "base_uri": "https://localhost:8080/"
        },
        "id": "6436bb1e",
        "outputId": "a246c1a1-b9c9-4fe9-ba47-893d8d2e47db"
      },
      "outputs": [],
      "source": [
        "not True"
      ]
    },
    {
      "cell_type": "code",
      "execution_count": null,
      "id": "e46591dc",
      "metadata": {
        "colab": {
          "base_uri": "https://localhost:8080/"
        },
        "id": "e46591dc",
        "outputId": "03267ccb-3360-4f65-cc60-bec50f16a31d"
      },
      "outputs": [],
      "source": [
        "3 == 3"
      ]
    },
    {
      "cell_type": "code",
      "execution_count": null,
      "id": "5c5d2b17",
      "metadata": {
        "colab": {
          "base_uri": "https://localhost:8080/"
        },
        "id": "5c5d2b17",
        "outputId": "8dd373a5-d4fb-4acd-8eab-c2096613fc0a"
      },
      "outputs": [],
      "source": [
        "not (3 == 3)"
      ]
    },
    {
      "cell_type": "markdown",
      "id": "f555e138",
      "metadata": {
        "id": "f555e138"
      },
      "source": [
        "## `and`\n",
        "\n",
        "Evaluates to `True` if both statements are true.\n",
        "\n",
        "|X|Y|X `and` Y|\n",
        "|-|-|-|\n",
        "|True|True|True|\n",
        "|False|True|False|\n",
        "|True|False|False|\n",
        "|False|False|False|"
      ]
    },
    {
      "cell_type": "code",
      "execution_count": null,
      "id": "be67c37a",
      "metadata": {
        "colab": {
          "base_uri": "https://localhost:8080/"
        },
        "id": "be67c37a",
        "outputId": "6465dd3e-c150-4869-e623-a1a7433d033a"
      },
      "outputs": [],
      "source": [
        "7 == 7.0 and 32 > 9"
      ]
    },
    {
      "cell_type": "code",
      "execution_count": null,
      "id": "a1a68c4f",
      "metadata": {
        "colab": {
          "base_uri": "https://localhost:8080/"
        },
        "id": "a1a68c4f",
        "outputId": "fa6eaffd-c4c0-4815-e951-d04f596b550c"
      },
      "outputs": [],
      "source": [
        "'Python' == 'python' and True"
      ]
    },
    {
      "cell_type": "code",
      "execution_count": null,
      "id": "81cc08f5",
      "metadata": {
        "colab": {
          "base_uri": "https://localhost:8080/"
        },
        "id": "81cc08f5",
        "outputId": "a8a14822-75a4-4121-a6f6-4b93b9c32d24"
      },
      "outputs": [],
      "source": [
        "is_summer = True\n",
        "is_sunny = True\n",
        "is_summer and is_sunny"
      ]
    },
    {
      "cell_type": "markdown",
      "id": "36602c44",
      "metadata": {},
      "source": [
        "**Note that the behavior of the `and` operator returns the first falsy value encountered or the last truthy value if all operands are `true` based on the conditions provided.**\n",
        "\n",
        "**Example 1:**\n",
        "```python\n",
        "is_winter = \"True\"  # String with value \"True\"\n",
        "is_cloudy = True     # Boolean with value True\n",
        "\n",
        "# Explanation:\n",
        "# - `is_winter` is a non-empty string, which in a boolean context, is considered `True` (non-empty strings are truthy in Python).\n",
        "# - `is_cloudy` is a boolean with a value of `True`.\n",
        "# - When you use the `and` operator, both conditions are `True`. \n",
        "# - According to the behavior of the `and` operator, it returns the second operand (`is_cloudy`) because both operands are truthy.\n",
        "# Therefore, the result is `True`.\n",
        "result = is_winter and is_cloudy\n",
        "print(result)  # Output: True\n",
        "```\n",
        "\n",
        "**Example 2:**\n",
        "```python\n",
        "is_winter = True     # Boolean with value True\n",
        "is_cloudy = \"True\"   # String with value \"True\"\n",
        "\n",
        "# Explanation:\n",
        "# - `is_winter` is a boolean with a value of `True`.\n",
        "# - `is_cloudy` is a string with the value `\"True\"`.\n",
        "# - When you use the `and` operator, Python evaluates the first operand (`is_winter`).\n",
        "# - Since it's True, it then evaluates the second operand.\n",
        "# - In logical operations, Python doesn't convert the string \"True\" to a boolean; instead, it returns the second operand (is_cloudy) which is the string \"True\" itself.\n",
        "result = is_winter and is_cloudy\n",
        "print(result)  # Output: \"True\"\n",
        "```\n",
        "\n",
        "**Example 3:**\n",
        "```python\n",
        "# Explanation:\n",
        "# - `\"Python\"` is a non-empty string, which is considered truthy.\n",
        "# - `\"python\"` is also a non-empty string, which is also considered truthy.\n",
        "# - Since both operands are truthy, the `and` operator returns the last evaluated operand, which is `\"python\"`.\n",
        "# This happens because Python doesn't directly return a boolean result for non-boolean operands in an `and` operation.\n",
        "result = \"Python\" and \"python\"\n",
        "print(result)  # Output: \"python\"\n",
        "```"
      ]
    },
    {
      "cell_type": "markdown",
      "id": "3e98c97b",
      "metadata": {
        "id": "3e98c97b"
      },
      "source": [
        "## `or`\n",
        "\n",
        "Evaluates to `True` if just one of the statements is true.\n",
        "\n",
        "|X|Y|X `or` Y|\n",
        "|-|-|-|\n",
        "|True|True|True|\n",
        "|False|True|True|\n",
        "|True|False|True|\n",
        "|False|False|False|"
      ]
    },
    {
      "cell_type": "code",
      "execution_count": null,
      "id": "2dbfb92a",
      "metadata": {
        "colab": {
          "base_uri": "https://localhost:8080/"
        },
        "id": "2dbfb92a",
        "outputId": "e1324eaf-822e-4ef2-e64b-de51cf0c1b1f"
      },
      "outputs": [],
      "source": [
        "'Python' == 'python' or True"
      ]
    },
    {
      "cell_type": "code",
      "execution_count": null,
      "id": "92880290",
      "metadata": {
        "colab": {
          "base_uri": "https://localhost:8080/"
        },
        "id": "92880290",
        "outputId": "454d8067-6d07-43dd-d911-e10114793c60"
      },
      "outputs": [],
      "source": [
        "not (7 % 2 == 1) or False"
      ]
    },
    {
      "cell_type": "markdown",
      "id": "3244469d",
      "metadata": {},
      "source": [
        "**The behavior of the `or` operator returns the first truthy value encountered or the last falsy value if all operands are `False` based on the conditions provided.**\n",
        "\n",
        "**Example 1:**\n",
        "```python\n",
        "is_winter = \"True\"  # String with value \"True\"\n",
        "is_cloudy = True     # Boolean with value True\n",
        "\n",
        "# Explanation:\n",
        "# - `is_winter` is a non-empty string, which is considered truthy.\n",
        "# - `is_cloudy` is a boolean with a value of `True`.\n",
        "# - When you use the `or` operator, the first operand \"is_winter\" is truthy, so it returns the first truthy value, which is \"True\".\n",
        "print(result)  # Output: \"True\"\n",
        "```\n",
        "\n",
        "**Example 2:**\n",
        "```python\n",
        "is_winter = True     # Boolean with value True\n",
        "is_cloudy = \"True\"   # String with value \"True\"\n",
        "\n",
        "# Explanation:\n",
        "# - `is_winter` is a boolean with a value of `True`.\n",
        "# - `is_cloudy` is a string with the value `\"True\"`.\n",
        "# - When you use the `or` operator, the first operand \"is_winter\" is truthy.\n",
        "# - The second operand is a comparison expression, which evaluates to True because \"is_cloudy\" is equal to \"True\".\n",
        "# Since the first operand is truthy, the `or` operator returns the first truthy value, which is True.\n",
        "print(result)  # Output: True\n",
        "```\n",
        "\n",
        "**Example 3:**\n",
        "```python\n",
        "# Explanation:\n",
        "# - `\"Python\"` is a non-empty string, which is considered truthy.\n",
        "# - `\"python\"` is also a non-empty string, which is also considered truthy.\n",
        "# - Since both operands are truthy, the `or` operator returns the first truthy value, which is \"Python\".\n",
        "print(result)  # Output: \"Python\"\n",
        "```\n",
        "\n",
        "To summarize, the `or` operator returns the first truthy value encountered or the last falsy value if all operands are `False`."
      ]
    },
    {
      "cell_type": "markdown",
      "id": "06d2c862",
      "metadata": {},
      "source": [
        "## To avoid confusion and ensure consistent behaviour, it's recommended to use boolean values (`True` or `False`) explicitly when working with logical operations to ensure predictable outcomes based on boolean logic."
      ]
    },
    {
      "cell_type": "markdown",
      "id": "fa05eeb9",
      "metadata": {
        "id": "fa05eeb9"
      },
      "source": [
        "## Operator precedence\n",
        "\n",
        "Boolean operators are evaluated after arithmetic and comparison operators.\n",
        "\n",
        "| Order | Operator | Description |\n",
        "|---|---|---|\n",
        "| 1 | `**` | Exponentiation |\n",
        "| 2 | `-`| Negation |\n",
        "| 3 | `*`, `/`, `//`, `%` | Multiplication, division, integer division, and modulo |\n",
        "| 4 | `+`, `-` | Addition and subtraction |\n",
        "| 5 | `<`, `<=`, `>`, `>=`, `==`, `!=` | Less than, less than or equal to, greater than, greater than or equal to, equal, not equal |\n",
        "| 6 | `not` | Not |\n",
        "| 7 | `and` | And |\n",
        "| 8 | `or` | Or|"
      ]
    },
    {
      "cell_type": "markdown",
      "id": "e92b6a3a",
      "metadata": {
        "id": "e92b6a3a"
      },
      "source": [
        "# Control Flow"
      ]
    },
    {
      "cell_type": "markdown",
      "id": "319df456",
      "metadata": {
        "id": "319df456"
      },
      "source": [
        "## What is control flow?\n",
        "\n",
        "_Control flow_ refers to the way computers execute programs. More specifically, control flow determines the order in which functions are called and statements are executed. Up until now, the code we have written has been more or less linear."
      ]
    },
    {
      "cell_type": "markdown",
      "id": "6a4d1def",
      "metadata": {
        "id": "6a4d1def"
      },
      "source": [
        "## Conditionals\n",
        "\n",
        "With a conditional statement, Python will run different lines of code depending on whether the condition is met -- in other words, whether the condition evaluates to `True`."
      ]
    },
    {
      "cell_type": "markdown",
      "id": "70765b71",
      "metadata": {
        "id": "70765b71"
      },
      "source": [
        "### `if`\n",
        "\n",
        "Conditional statements start with `if` followed by a condition. If the condition evaluates to `True`, the indented code block below the `if` statement runs. If the condition evaluates to `False`, the code block does not run."
      ]
    },
    {
      "cell_type": "code",
      "execution_count": null,
      "id": "df30db67",
      "metadata": {
        "colab": {
          "base_uri": "https://localhost:8080/"
        },
        "id": "df30db67",
        "outputId": "001e0d5c-d1ee-409c-b8bf-5f1c30b9ee7a"
      },
      "outputs": [],
      "source": [
        "year = 2022\n",
        "\n",
        "if year >= 2000:\n",
        "    print('We are in the 21st century.')"
      ]
    },
    {
      "cell_type": "markdown",
      "id": "5a3c9bac",
      "metadata": {
        "id": "5a3c9bac"
      },
      "source": [
        "### `else`\n",
        "\n",
        "We can use an `else` statement to tell Python what code to run if the condition evaluates to `False`. An `else` statement must always be paired with an `if` statement, but as we have seen, `if` statements do not need to be paired with `else`."
      ]
    },
    {
      "cell_type": "code",
      "execution_count": null,
      "id": "d639d8a5",
      "metadata": {
        "colab": {
          "base_uri": "https://localhost:8080/"
        },
        "id": "d639d8a5",
        "outputId": "2bae8f94-ae1b-4b16-8934-043499e15259"
      },
      "outputs": [],
      "source": [
        "year = 1999\n",
        "\n",
        "if year >= 2000:\n",
        "    print('We are in the 21st century.')\n",
        "else:\n",
        "    print('We are not in the 21st century.')"
      ]
    },
    {
      "cell_type": "markdown",
      "id": "8bb36f3c",
      "metadata": {
        "id": "8bb36f3c"
      },
      "source": [
        "### `elif`\n",
        "\n",
        "We can evaluate several conditions one after another with `elif`, which is short for \"else if\". Conditions are checked in the order they appear. Python will execute the code block under the first `True` condition and skip subsequent `elif` and `else` statements after without evaluating them."
      ]
    },
    {
      "cell_type": "code",
      "execution_count": null,
      "id": "1f623bb3",
      "metadata": {
        "colab": {
          "base_uri": "https://localhost:8080/"
        },
        "id": "1f623bb3",
        "outputId": "acdb38de-1bd8-4a8d-f9cf-6be1e99cf717"
      },
      "outputs": [],
      "source": [
        "year = 1867\n",
        "\n",
        "if year >= 2000:\n",
        "    print('We are in the 21st century.')\n",
        "elif year >= 1900:\n",
        "    print('We are in the 20th century.')\n",
        "elif year >= 1800:\n",
        "    print('We are in the 19th century.')\n",
        "elif year >= 1700:\n",
        "    print('We are in the 18th century.')\n",
        "else:\n",
        "    print('We have gone way back in time!')"
      ]
    },
    {
      "cell_type": "markdown",
      "id": "47414a15",
      "metadata": {},
      "source": [
        "## Exercise\n",
        "Write a program where it outputs how cold the weather is based on these conditions:\n",
        "* Less than 0C, it is freezing cold!\n",
        "* Between 1 and 15C, it is cold!\n",
        "* Between 16 and 30C, it is hot!\n",
        "* Between 31 and 45C, it is really hot!\n",
        "* Over 45C, it is extremely hot!"
      ]
    },
    {
      "cell_type": "code",
      "execution_count": null,
      "id": "a014bfd8",
      "metadata": {},
      "outputs": [],
      "source": [
        "# Your code goes here"
      ]
    },
    {
      "cell_type": "markdown",
      "id": "60fd6461",
      "metadata": {
        "id": "60fd6461"
      },
      "source": [
        "### Building more complex conditionals with logical operators\n",
        "\n",
        "We can use logical operators to check more complex conditions."
      ]
    },
    {
      "cell_type": "code",
      "execution_count": null,
      "id": "f1cf3a8d",
      "metadata": {
        "colab": {
          "base_uri": "https://localhost:8080/"
        },
        "id": "f1cf3a8d",
        "outputId": "7f85d36f-4927-4193-c0bb-ed572775ec8e"
      },
      "outputs": [],
      "source": [
        "day_of_week = 'Thursday'\n",
        "\n",
        "if day_of_week == 'Saturday' or day_of_week == 'Sunday':\n",
        "    print('Weekend')\n",
        "else:\n",
        "    print('Weekday')"
      ]
    },
    {
      "cell_type": "markdown",
      "id": "da2b9507",
      "metadata": {
        "id": "da2b9507"
      },
      "source": [
        "### Nested conditionals\n",
        "\n",
        "Conditionals can be nested within one another. This offers another way to test more complex conditionals. Whether to use conditions with logical operators, nested conditionals, or both can depend on personal preference and what we're trying to check.\n",
        "\n",
        "### Conditionals in functions\n",
        "\n",
        "We can also use conditionals in functions to return different values."
      ]
    },
    {
      "cell_type": "markdown",
      "id": "a8203091",
      "metadata": {
        "id": "a8203091"
      },
      "source": [
        "#### Example: Will OHIP cover an eye exam?\n",
        "\n",
        "OHIP covers eye exams [in some cases](https://www.ontario.ca/page/what-ohip-covers#section-6). We can translate the eligibility criteria into conditionals."
      ]
    },
    {
      "cell_type": "code",
      "execution_count": null,
      "id": "1565990f",
      "metadata": {
        "id": "1565990f"
      },
      "outputs": [],
      "source": [
        "def eye_exam_covered(age, qualifying_condition, time_since_last_exam):\n",
        "    if age <= 19:\n",
        "        if time_since_last_exam >= 12:\n",
        "            return \"You are eligible for 1 major eye exam and any minor assessments.\"\n",
        "        else:\n",
        "            return \"It hasn't been 12 months since your last major eye exam.\"\n",
        "    elif 20 <= age <= 64:\n",
        "        if qualifying_condition:\n",
        "            if time_since_last_exam >= 12:\n",
        "                return \"You are eligible for 1 major eye exam and 2 additional follow-up minor assessments.\"\n",
        "            else:\n",
        "                return \"It hasn't been 12 months since your last major eye exam.\"\n",
        "        else:\n",
        "            return \"You do not have an eligible medical condition affecting your eyes.\"\n",
        "    elif age >= 65:\n",
        "        if time_since_last_exam >= 18:\n",
        "            return \"You are eligible for 1 major eye exam and 2 additional follow-up minor assessments.\"\n",
        "        else:\n",
        "            return \"It hasn't been 18 months since your last major eye exam.\"\n",
        "    else:\n",
        "        return \"Invalid age input.\"\n"
      ]
    },
    {
      "cell_type": "code",
      "execution_count": null,
      "id": "e210905c",
      "metadata": {
        "colab": {
          "base_uri": "https://localhost:8080/"
        },
        "id": "e210905c",
        "outputId": "162ef0b8-a03c-420a-b24b-c7bda0b96c1c"
      },
      "outputs": [],
      "source": [
        "eye_exam_covered(19, False, 11)"
      ]
    },
    {
      "cell_type": "code",
      "execution_count": null,
      "id": "5ee26253",
      "metadata": {
        "colab": {
          "base_uri": "https://localhost:8080/"
        },
        "id": "5ee26253",
        "outputId": "a252f667-f7cf-47dc-ac49-62604f6a7e56"
      },
      "outputs": [],
      "source": [
        "eye_exam_covered(27, True, 15)"
      ]
    },
    {
      "cell_type": "markdown",
      "id": "602b56d0",
      "metadata": {
        "id": "602b56d0"
      },
      "source": [
        "# Collections of values"
      ]
    },
    {
      "cell_type": "markdown",
      "id": "006eb53a",
      "metadata": {
        "id": "006eb53a"
      },
      "source": [
        "## Working with multiple values\n",
        "\n",
        "So far, we've worked with individual values: integers, floating point numbers, strings, and booleans. However, we often want to work with groups of values\n",
        "\n",
        "Python offers built-in data types to store and work with multiple values together. They are _lists_, _tuples_, _sets_, and _dictionaries_."
      ]
    },
    {
      "cell_type": "markdown",
      "id": "1e277da4",
      "metadata": {
        "id": "1e277da4"
      },
      "source": [
        "## Lists\n",
        "\n",
        "Python lists let us store and work with multiple values at once. We can create a list by putting values in square brackets (`[]`)"
      ]
    },
    {
      "cell_type": "markdown",
      "id": "baf64490",
      "metadata": {
        "id": "baf64490"
      },
      "source": [
        "## Creating lists\n",
        "\n",
        "We can create a list by putting values in square brackets."
      ]
    },
    {
      "cell_type": "code",
      "execution_count": null,
      "id": "88635d63",
      "metadata": {
        "colab": {
          "base_uri": "https://localhost:8080/"
        },
        "id": "88635d63",
        "outputId": "9d5703ee-6918-48f0-d230-ca1cde6ab375"
      },
      "outputs": [],
      "source": [
        "vowels = ['a', 'e', 'i', 'o', 'u']\n",
        "print(f'{vowels} are vowels.')"
      ]
    },
    {
      "cell_type": "markdown",
      "id": "483f9f18",
      "metadata": {
        "id": "483f9f18"
      },
      "source": [
        "We can create an empty list by just using square brackets with nothing in them. It is also possible to create an empty list with the `list()` function, but this is not considered best practice."
      ]
    },
    {
      "cell_type": "code",
      "execution_count": null,
      "id": "0a973fe6",
      "metadata": {
        "colab": {
          "base_uri": "https://localhost:8080/"
        },
        "id": "0a973fe6",
        "outputId": "57a9d969-c1c1-44f2-f219-671decbc92fc"
      },
      "outputs": [],
      "source": [
        "# create an empty list the conventional way\n",
        "empty_list = []\n",
        "print('empty_list is', type(empty_list))\n",
        "\n",
        "# this also works\n",
        "empty_list2 = list()\n",
        "print('empty_list2 is', type(empty_list2))"
      ]
    },
    {
      "cell_type": "markdown",
      "id": "a8274795",
      "metadata": {
        "id": "a8274795"
      },
      "source": [
        "The values in a list can be different types. They can also repeat."
      ]
    },
    {
      "cell_type": "code",
      "execution_count": null,
      "id": "38f7147d",
      "metadata": {
        "id": "38f7147d"
      },
      "outputs": [],
      "source": [
        "# all valid lists!\n",
        "scores = [90, 80, 82, 91, 80]\n",
        "grades = ['K', 1, 2, 3, 4, 5, 6, 7, 8, 9, 10, 11, 12]\n",
        "summary_functions = [len, sum, max, min]"
      ]
    },
    {
      "cell_type": "markdown",
      "id": "e13bc874",
      "metadata": {
        "id": "e13bc874"
      },
      "source": [
        "We can even store lists within lists. The list below is written out over multiple lines so that it is easier to read."
      ]
    },
    {
      "cell_type": "code",
      "execution_count": null,
      "id": "40052e17",
      "metadata": {
        "id": "40052e17"
      },
      "outputs": [],
      "source": [
        "mystery_solvers = [\n",
        "    ['Sherlock', 'Watson'],\n",
        "    ['Scooby', 'Shaggy', 'Fred', 'Velma', 'Daphne'],\n",
        "    'Poirot'\n",
        "]"
      ]
    },
    {
      "cell_type": "markdown",
      "id": "fa641860",
      "metadata": {
        "id": "fa641860"
      },
      "source": [
        "## Accessing items in a list\n",
        "\n",
        "Lists are _ordered_, which means that each item in a list can be referenced by its index, or position in the list. Just like getting characters from a string, we can get items from a list by index. We can also slice lists by providing the indices to start and end at in square brackets, separated by a colon. Negative indices count backwards from the end. If we try to access an item at an index that doesn't exist, we will get an error."
      ]
    },
    {
      "cell_type": "code",
      "execution_count": null,
      "id": "16979fa9",
      "metadata": {
        "colab": {
          "base_uri": "https://localhost:8080/",
          "height": 35
        },
        "id": "16979fa9",
        "outputId": "0e7b1a07-cda6-4bdc-f1bf-ef722c451e10"
      },
      "outputs": [],
      "source": [
        "# get the first school grade\n",
        "grades[0]"
      ]
    },
    {
      "cell_type": "code",
      "execution_count": null,
      "id": "c7105f5e",
      "metadata": {
        "colab": {
          "base_uri": "https://localhost:8080/"
        },
        "id": "c7105f5e",
        "outputId": "b300f7ea-e8ed-4674-bfeb-39c834081160"
      },
      "outputs": [],
      "source": [
        "# get middle school grades\n",
        "grades[6:9]"
      ]
    },
    {
      "cell_type": "code",
      "execution_count": null,
      "id": "2d2d13af",
      "metadata": {
        "colab": {
          "base_uri": "https://localhost:8080/"
        },
        "id": "2d2d13af",
        "outputId": "c9371dd8-f443-42a6-f5d2-caf6cd945110"
      },
      "outputs": [],
      "source": [
        "# get high school grades\n",
        "grades[-4:]"
      ]
    },
    {
      "cell_type": "code",
      "execution_count": null,
      "id": "34c6721a",
      "metadata": {
        "colab": {
          "base_uri": "https://localhost:8080/",
          "height": 174
        },
        "id": "34c6721a",
        "outputId": "d359a850-fc41-4760-f71a-3fc741f0533a"
      },
      "outputs": [],
      "source": [
        "grades[13]"
      ]
    },
    {
      "cell_type": "markdown",
      "id": "0dae8395",
      "metadata": {
        "id": "0dae8395"
      },
      "source": [
        "### List membership\n",
        "\n",
        "We can check if a value is in a list with the `in` operator."
      ]
    },
    {
      "cell_type": "code",
      "execution_count": null,
      "id": "a1ce4d32",
      "metadata": {
        "colab": {
          "base_uri": "https://localhost:8080/"
        },
        "id": "a1ce4d32",
        "outputId": "930f1ec1-6c0f-49ea-a364-c4e1676bf7c8"
      },
      "outputs": [],
      "source": [
        "# recall the vowels list\n",
        "vowels"
      ]
    },
    {
      "cell_type": "code",
      "execution_count": null,
      "id": "4867a3fb",
      "metadata": {
        "colab": {
          "base_uri": "https://localhost:8080/"
        },
        "id": "4867a3fb",
        "outputId": "bfbdd490-57d2-4878-b0f2-b10e1855ed5b"
      },
      "outputs": [],
      "source": [
        "'e' in vowels"
      ]
    },
    {
      "cell_type": "markdown",
      "id": "30641400",
      "metadata": {
        "id": "30641400"
      },
      "source": [
        "## Mutating lists\n",
        "\n",
        "Lists are _mutable_, which means they can be modified in place. In contrast, data types like strings and numbers are _immutable_. They cannot be changed. When we update a string or numeric variable, we are actually replacing the value entirely."
      ]
    },
    {
      "cell_type": "markdown",
      "id": "8d052370",
      "metadata": {
        "id": "8d052370"
      },
      "source": [
        "To _mutate_, or change a value in a list, we access it by its index and assign the new value."
      ]
    },
    {
      "cell_type": "code",
      "execution_count": null,
      "id": "f9b6627b",
      "metadata": {
        "colab": {
          "base_uri": "https://localhost:8080/"
        },
        "id": "f9b6627b",
        "outputId": "589aef25-246b-4c6d-c279-9b34adbfff96"
      },
      "outputs": [],
      "source": [
        "perfect_squares = [1, 4, 9, 16, 25, 37, 49]\n",
        "\n",
        "# fix the error\n",
        "perfect_squares[5] = 36\n",
        "perfect_squares"
      ]
    },
    {
      "cell_type": "markdown",
      "id": "8045c00a",
      "metadata": {
        "id": "8045c00a"
      },
      "source": [
        "## Mutator beware\n",
        "\n",
        "List variables behave in ways that can be surprising."
      ]
    },
    {
      "cell_type": "code",
      "execution_count": null,
      "id": "e385b52d",
      "metadata": {
        "id": "e385b52d"
      },
      "outputs": [],
      "source": [
        "sandwich = ['bread', 'cheese', 'bread']"
      ]
    },
    {
      "cell_type": "code",
      "execution_count": null,
      "id": "cc2bdfbc",
      "metadata": {
        "id": "cc2bdfbc"
      },
      "outputs": [],
      "source": [
        "sandwich_copy = sandwich"
      ]
    },
    {
      "cell_type": "code",
      "execution_count": null,
      "id": "aa04a766",
      "metadata": {
        "id": "aa04a766"
      },
      "outputs": [],
      "source": [
        "# change original sandwich filling\n",
        "sandwich[1] = 'ham'"
      ]
    },
    {
      "cell_type": "code",
      "execution_count": null,
      "id": "ca9105c9",
      "metadata": {
        "colab": {
          "base_uri": "https://localhost:8080/"
        },
        "id": "ca9105c9",
        "outputId": "d0df3d22-5cfe-4785-9497-890172233b14"
      },
      "outputs": [],
      "source": [
        "sandwich_copy"
      ]
    },
    {
      "cell_type": "code",
      "execution_count": null,
      "id": "e7ab8cea",
      "metadata": {
        "colab": {
          "base_uri": "https://localhost:8080/"
        },
        "id": "e7ab8cea",
        "outputId": "7eaa6786-4b3f-475b-860c-ad7793d23d57"
      },
      "outputs": [],
      "source": [
        "sandwich_copy[1] = 'tomato'\n",
        "print(sandwich)\n",
        "print(id(sandwich))\n",
        "print(id(sandwich_copy))"
      ]
    },
    {
      "cell_type": "markdown",
      "id": "f8da2d7e",
      "metadata": {
        "id": "f8da2d7e"
      },
      "source": [
        "### What just happened?\n",
        "\n",
        "When we assign a value to a variable, the value is stored somewhere in the computer's memory. This somewhere has an _address_. Python keeps track of the addresses where different variable values can be found.\n",
        "\n",
        "When we assigned `sandwich` to `sandwich_copy`, we did not actually tell Python that the value of `sandwich_copy` is `['bread', 'cheese', 'bread']`. We told Python that the value of `sandwich_copy` can be found at the same memory address as the value of `sandwich`.\n",
        "\n",
        "Remember how we said that lists mutate \"in place\"? The \"in place\" refers to a place in memory. When we updated `sandwich`, we updated the value stored at the memory address linked to both `sandwich` and `sandwich_copy`. As a result, `sandwich_copy` is now also a ham sandwich.\n",
        "\n",
        "Mutating `sandwich_copy` will similarly update the value of `sandwich`."
      ]
    },
    {
      "cell_type": "markdown",
      "id": "7b97ffb0",
      "metadata": {
        "id": "7b97ffb0"
      },
      "source": [
        "### Why doesn't this happen with string and numeric variables?\n",
        "\n",
        "Because strings and numeric values are immutable, they cannot be changed in place. When we update a string or numeric variable, the memory address where the value is found changes."
      ]
    },
    {
      "cell_type": "code",
      "execution_count": null,
      "id": "319588e8",
      "metadata": {
        "colab": {
          "base_uri": "https://localhost:8080/"
        },
        "id": "319588e8",
        "outputId": "5be9744d-35ef-4aa1-ee74-ff90eb587320"
      },
      "outputs": [],
      "source": [
        "# Python tracks where in memory 1 is stored\n",
        "a = 1\n",
        "\n",
        "# Python will look for b's value at the same memory address as a's value\n",
        "b = a\n",
        "\n",
        "# 2 is stored at a new address. 1 is still stored at the old address\n",
        "a = 2\n",
        "\n",
        "# Python still looks to the old address a and b shared to find b's value\n",
        "b"
      ]
    },
    {
      "cell_type": "markdown",
      "id": "1c3314f6",
      "metadata": {
        "id": "1c3314f6"
      },
      "source": [
        "### Making an independent copy of a list\n",
        "\n",
        "To make an independent copy of a list, we can pass the list we want to copy to the `list()` function."
      ]
    },
    {
      "cell_type": "code",
      "execution_count": null,
      "id": "f6ad422d",
      "metadata": {
        "colab": {
          "base_uri": "https://localhost:8080/"
        },
        "id": "f6ad422d",
        "outputId": "a3ae5ee3-ec3d-4460-9d40-f13de729b34b"
      },
      "outputs": [],
      "source": [
        "combo = ['burger', 'fries', 'drink']\n",
        "kid_meal = list(combo)\n",
        "combo[0] = 'chicken sandwich'\n",
        "kid_meal"
      ]
    },
    {
      "cell_type": "markdown",
      "id": "7ecc552c",
      "metadata": {
        "id": "7ecc552c"
      },
      "source": [
        "## Operations on lists\n",
        "\n",
        "There are many ways to manipulate data in a list. Some produce summary statistics about the values in the list."
      ]
    },
    {
      "cell_type": "code",
      "execution_count": null,
      "id": "a00d5f22",
      "metadata": {
        "colab": {
          "base_uri": "https://localhost:8080/"
        },
        "id": "a00d5f22",
        "outputId": "49c772b1-707b-4515-cb7a-f9ac8b7aa4c6"
      },
      "outputs": [],
      "source": [
        "len(perfect_squares)"
      ]
    },
    {
      "cell_type": "code",
      "execution_count": null,
      "id": "e6207e4d",
      "metadata": {
        "colab": {
          "base_uri": "https://localhost:8080/"
        },
        "id": "e6207e4d",
        "outputId": "9fbca13b-a15e-4c86-e493-37d63daefefa"
      },
      "outputs": [],
      "source": [
        "max(perfect_squares)"
      ]
    },
    {
      "cell_type": "code",
      "execution_count": null,
      "id": "f35e3c9d",
      "metadata": {
        "colab": {
          "base_uri": "https://localhost:8080/"
        },
        "id": "f35e3c9d",
        "outputId": "26dd0254-d258-4bf1-b975-2f0f28652cf3"
      },
      "outputs": [],
      "source": [
        "sum(perfect_squares)"
      ]
    },
    {
      "cell_type": "markdown",
      "id": "15a35d8e",
      "metadata": {
        "id": "15a35d8e"
      },
      "source": [
        "The `+` and `*` operators work on lists as well. `+` concatenates two lists."
      ]
    },
    {
      "cell_type": "code",
      "execution_count": null,
      "id": "4b3f1abb",
      "metadata": {
        "colab": {
          "base_uri": "https://localhost:8080/"
        },
        "id": "4b3f1abb",
        "outputId": "1f7c30c7-1765-44a4-9103-a495ef4bdda3"
      },
      "outputs": [],
      "source": [
        "letters = ['a', 'b', 'c']\n",
        "numbers = [1, 2, 3]\n",
        "characters = letters + numbers\n",
        "characters"
      ]
    },
    {
      "cell_type": "markdown",
      "id": "c5b26a22",
      "metadata": {
        "id": "c5b26a22"
      },
      "source": [
        "`*` repeats the list's items `int` times."
      ]
    },
    {
      "cell_type": "code",
      "execution_count": null,
      "id": "e0946f89",
      "metadata": {
        "colab": {
          "base_uri": "https://localhost:8080/"
        },
        "id": "e0946f89",
        "outputId": "b7994553-ca9a-412b-fc05-31068ba00ea4"
      },
      "outputs": [],
      "source": [
        "letters * 2"
      ]
    },
    {
      "cell_type": "code",
      "execution_count": null,
      "id": "70327087",
      "metadata": {
        "colab": {
          "base_uri": "https://localhost:8080/"
        },
        "id": "70327087",
        "outputId": "a0883073-f733-4981-aaef-ded158eac54f"
      },
      "outputs": [],
      "source": [
        "numbers * 2"
      ]
    },
    {
      "cell_type": "code",
      "execution_count": null,
      "id": "7369a425",
      "metadata": {
        "colab": {
          "base_uri": "https://localhost:8080/"
        },
        "id": "7369a425",
        "outputId": "4e05ed99-0c67-41b1-c017-54ef3ad6f7ed"
      },
      "outputs": [],
      "source": [
        "letters"
      ]
    },
    {
      "cell_type": "markdown",
      "id": "7b8573c0",
      "metadata": {
        "id": "7b8573c0"
      },
      "source": [
        "Notice that `letters` did not change. `+` and `*` do not mutate lists."
      ]
    },
    {
      "cell_type": "markdown",
      "id": "32dd471b",
      "metadata": {
        "id": "32dd471b"
      },
      "source": [
        "## List methods\n",
        "\n",
        "Lists, like strings, have their own methods. Remember that methods are called with the pattern `value.method(arguments)`.\n",
        "\n",
        "Almost all list methods modify lists in place. That is, they mutate them."
      ]
    },
    {
      "cell_type": "markdown",
      "id": "e8f64e9b",
      "metadata": {
        "id": "e8f64e9b"
      },
      "source": [
        "### Adding items\n",
        "\n",
        "We can add items to the end of a list with `append()` and `extend()`. `append()` takes one (and only one!) argument and tacks that value on to the end of a list."
      ]
    },
    {
      "cell_type": "code",
      "execution_count": null,
      "id": "a30b6271",
      "metadata": {
        "id": "a30b6271"
      },
      "outputs": [],
      "source": [
        "rainbow = ['red', 'orange', 'yellow', 'green', 'light blue', 'blue', 'violet']"
      ]
    },
    {
      "cell_type": "code",
      "execution_count": null,
      "id": "48b89f8f",
      "metadata": {
        "colab": {
          "base_uri": "https://localhost:8080/"
        },
        "id": "48b89f8f",
        "outputId": "4940d7f6-f9b2-4f9c-c7f9-0a6e12bb3693"
      },
      "outputs": [],
      "source": [
        "rainbow.append('purple')\n",
        "rainbow"
      ]
    },
    {
      "cell_type": "code",
      "execution_count": null,
      "id": "d296dab5",
      "metadata": {
        "colab": {
          "base_uri": "https://localhost:8080/"
        },
        "id": "d296dab5",
        "outputId": "713c4452-5c2d-45e1-a780-e2d6f9310de6"
      },
      "outputs": [],
      "source": [
        "# try appending a list\n",
        "rainbow.append(['purple'])\n",
        "rainbow"
      ]
    },
    {
      "cell_type": "markdown",
      "id": "f5652c01",
      "metadata": {
        "id": "f5652c01"
      },
      "source": [
        "`extend()` also adds a single argument to the end of a list. Notice the difference -- it adds the argument value in pieces."
      ]
    },
    {
      "cell_type": "code",
      "execution_count": null,
      "id": "3b3684ca",
      "metadata": {
        "colab": {
          "base_uri": "https://localhost:8080/"
        },
        "id": "3b3684ca",
        "outputId": "5ef6587e-4b22-41b8-f944-25fd824c8af6"
      },
      "outputs": [],
      "source": [
        "rainbow.extend(['magenta', 'pink'])\n",
        "rainbow"
      ]
    },
    {
      "cell_type": "markdown",
      "id": "59ae62c6",
      "metadata": {
        "id": "59ae62c6"
      },
      "source": [
        "Strings get broken up into single characters."
      ]
    },
    {
      "cell_type": "code",
      "execution_count": null,
      "id": "26a9b6f6",
      "metadata": {
        "colab": {
          "base_uri": "https://localhost:8080/"
        },
        "id": "26a9b6f6",
        "outputId": "ef92d9ec-b5df-460a-a19e-b664d7895352"
      },
      "outputs": [],
      "source": [
        "rainbow.extend('pale pink')\n",
        "rainbow"
      ]
    },
    {
      "cell_type": "markdown",
      "id": "dd3b4077",
      "metadata": {
        "id": "dd3b4077"
      },
      "source": [
        "And numbers don't work with `extend()` at all."
      ]
    },
    {
      "cell_type": "code",
      "execution_count": null,
      "id": "35dd6e4a",
      "metadata": {
        "colab": {
          "base_uri": "https://localhost:8080/",
          "height": 174
        },
        "id": "35dd6e4a",
        "outputId": "8d898f70-a642-4db6-8fec-e632389bfdb7"
      },
      "outputs": [],
      "source": [
        "rainbow.extend(2.3)"
      ]
    },
    {
      "cell_type": "markdown",
      "id": "8e9de0fe",
      "metadata": {
        "id": "8e9de0fe"
      },
      "source": [
        "What happens if we try to append data and assign the list to a new variable?"
      ]
    },
    {
      "cell_type": "code",
      "execution_count": null,
      "id": "a8e0c225",
      "metadata": {
        "colab": {
          "base_uri": "https://localhost:8080/"
        },
        "id": "a8e0c225",
        "outputId": "eedf3937-9319-469a-9f92-40a8d84883de"
      },
      "outputs": [],
      "source": [
        "new_rainbow = rainbow.append('dark purple')\n",
        "print(new_rainbow)"
      ]
    },
    {
      "cell_type": "markdown",
      "id": "e0b4e5c7",
      "metadata": {
        "id": "e0b4e5c7"
      },
      "source": [
        "**List methods that only mutate a list return `None`, or no data.** The data we're looking for is in the original list."
      ]
    },
    {
      "cell_type": "markdown",
      "id": "0d03bf24",
      "metadata": {
        "id": "0d03bf24"
      },
      "source": [
        "### Inserting items\n",
        "\n",
        "If we want to add an item somewhere else to a list besides the end, we can use the `insert()` method, passing in the index to insert data into and what value to put in. Like the `append()` and `extend()`, `insert()` modifies the list in place."
      ]
    },
    {
      "cell_type": "code",
      "execution_count": null,
      "id": "5d8b8486",
      "metadata": {
        "colab": {
          "base_uri": "https://localhost:8080/"
        },
        "id": "5d8b8486",
        "outputId": "a8fbeb8d-6493-431f-a9f4-e83183d6a9fb"
      },
      "outputs": [],
      "source": [
        "rainbow.insert(6, 'indigo')\n",
        "rainbow"
      ]
    },
    {
      "cell_type": "markdown",
      "id": "f6da6b49",
      "metadata": {
        "id": "f6da6b49"
      },
      "source": [
        "### Removing items\n",
        "\n",
        "We can remove items by value with the `remove()` method. Notice that `remove()` only gets rid of the first match."
      ]
    },
    {
      "cell_type": "code",
      "execution_count": null,
      "id": "87836c7c",
      "metadata": {
        "colab": {
          "base_uri": "https://localhost:8080/"
        },
        "id": "87836c7c",
        "outputId": "78a75920-af6c-4f45-d51d-774e492e0187"
      },
      "outputs": [],
      "source": [
        "rainbow.remove('p')\n",
        "rainbow"
      ]
    },
    {
      "cell_type": "markdown",
      "id": "413912d9",
      "metadata": {
        "id": "413912d9"
      },
      "source": [
        "We can also remove one or more items by index with the `del` operator."
      ]
    },
    {
      "cell_type": "code",
      "execution_count": null,
      "id": "d057d783",
      "metadata": {
        "colab": {
          "base_uri": "https://localhost:8080/"
        },
        "id": "d057d783",
        "outputId": "60bbd5b1-458b-4449-ed73-65fcb5fa7cb4",
        "scrolled": true
      },
      "outputs": [],
      "source": [
        "# get rid of all the stuff we appended and extended\n",
        "del rainbow[-13:]\n",
        "rainbow"
      ]
    },
    {
      "cell_type": "markdown",
      "id": "5d08aa26",
      "metadata": {
        "id": "5d08aa26"
      },
      "source": [
        "To empty a list out completely, we can `clear()` it."
      ]
    },
    {
      "cell_type": "code",
      "execution_count": null,
      "id": "466b4610",
      "metadata": {
        "colab": {
          "base_uri": "https://localhost:8080/"
        },
        "id": "466b4610",
        "outputId": "4885d05c-05ee-41dc-e84f-4d12b34e56c8"
      },
      "outputs": [],
      "source": [
        "rainbow.clear()\n",
        "rainbow"
      ]
    },
    {
      "cell_type": "markdown",
      "id": "d384d98b",
      "metadata": {
        "id": "d384d98b"
      },
      "source": [
        "## Sorting lists\n",
        "\n",
        "Lists are ordered, which means that the elements maintain a specific sequence, and this sequence is preserved. You can access elements by their index (position) in the collection.\n",
        "\n",
        "Since lists are ordered you are able to sort them, and there are two ways to do this. Which way to use depends on if we want to modify the original list in place or if we want to make a brand new list.\n",
        "\n",
        "It can be easier to follow code that creates a brand new list. Mutating the original list, on the other hand, is more efficient for large lists."
      ]
    },
    {
      "cell_type": "markdown",
      "id": "d8ca8dff",
      "metadata": {
        "id": "d8ca8dff"
      },
      "source": [
        "### Modifying in place\n",
        "\n",
        "The `sort()` method reorders a list's values in place and returns `None`."
      ]
    },
    {
      "cell_type": "code",
      "execution_count": null,
      "id": "32e6b82f",
      "metadata": {
        "colab": {
          "base_uri": "https://localhost:8080/"
        },
        "id": "32e6b82f",
        "outputId": "bab3f36d-2887-46da-e0d5-7d545b0088e5"
      },
      "outputs": [],
      "source": [
        "fruits = ['pineapple', 'apple', 'kiwi', 'banana']\n",
        "print(f'Output of sort(): {fruits.sort()}')\n",
        "print(f'Original list: {fruits}')"
      ]
    },
    {
      "cell_type": "markdown",
      "id": "c7a3aac5",
      "metadata": {
        "id": "c7a3aac5"
      },
      "source": [
        "### Make a new sorted list\n",
        "\n",
        "The `sorted()` function takes a list as an argument and returns a new list with sorted values."
      ]
    },
    {
      "cell_type": "code",
      "execution_count": null,
      "id": "781702f0",
      "metadata": {
        "colab": {
          "base_uri": "https://localhost:8080/"
        },
        "id": "781702f0",
        "outputId": "fcd90582-bf70-4d0e-c165-396b1aaf9057"
      },
      "outputs": [],
      "source": [
        "veggies = ['potato', 'celery', 'cabbage', 'bell pepper', 'onion']\n",
        "print(f'Output of sorted(): {sorted(veggies)}')\n",
        "print(f'Original list: {veggies}')"
      ]
    },
    {
      "cell_type": "markdown",
      "id": "9d3cd462",
      "metadata": {
        "id": "9d3cd462"
      },
      "source": [
        "### Defining sorting criteria\n",
        "\n",
        "By default, numerical data types (integers and floats) will be sorted in ascending order. For strings, will be sorted alphabetically based on the Unicode code point value of each character. This means strings are sorted lexicographically (dictionary order) where uppercase letters come before lowercase letters due to their Unicode values. For example, in Unicode, 'A' (65) is less than 'a' (97), so uppercase letters come before lowercase letters in the default sort order.\n",
        "\n",
        "Both `sort()` and `sorted()` take an optional `key` argument. We can pass any function name without parentheses to `key` depending on how we want to sort a list."
      ]
    },
    {
      "cell_type": "code",
      "execution_count": null,
      "id": "a1f89496",
      "metadata": {
        "id": "a1f89496"
      },
      "outputs": [],
      "source": [
        "def last_letter(text):\n",
        "    return text[-1]"
      ]
    },
    {
      "cell_type": "code",
      "execution_count": null,
      "id": "1413b3fb",
      "metadata": {
        "colab": {
          "base_uri": "https://localhost:8080/"
        },
        "id": "1413b3fb",
        "outputId": "6eba6d33-6ff0-4949-9ab6-14bb8387f733"
      },
      "outputs": [],
      "source": [
        "sorted(veggies, key=last_letter)"
      ]
    },
    {
      "cell_type": "markdown",
      "id": "f644b1fe",
      "metadata": {
        "id": "f644b1fe"
      },
      "source": [
        "We can use our own functions to even sort nested lists."
      ]
    },
    {
      "cell_type": "code",
      "execution_count": null,
      "id": "c739ca0d",
      "metadata": {
        "id": "c739ca0d"
      },
      "outputs": [],
      "source": [
        "students_per_class = [['Grade 9', 20], ['Grade 10', 17], ['Grade 11', 13], ['Grade 12', 22]]"
      ]
    },
    {
      "cell_type": "code",
      "execution_count": null,
      "id": "48df2d04",
      "metadata": {
        "id": "48df2d04"
      },
      "outputs": [],
      "source": [
        "def second_element(item):\n",
        "    return item[1]"
      ]
    },
    {
      "cell_type": "code",
      "execution_count": null,
      "id": "afb408d0",
      "metadata": {
        "colab": {
          "base_uri": "https://localhost:8080/"
        },
        "id": "afb408d0",
        "outputId": "95fa4e0a-d007-4155-cd9a-a747e944caca"
      },
      "outputs": [],
      "source": [
        "students_per_class.sort(key = second_element)\n",
        "students_per_class"
      ]
    },
    {
      "cell_type": "markdown",
      "id": "012f3f7c",
      "metadata": {
        "id": "012f3f7c"
      },
      "source": [
        "## Tuples\n",
        "\n",
        "_Tuples_ are a built-in data type similar to lists. Like lists, they are ordered collections of values. We can store multiple values in them, access values by index, slice them, and do things like calculate their length.\n",
        "\n",
        "**The key difference is that tuples are _immutable_: they cannot be changed once they are created.** We cannot update a tuple to add, remove, replace, or reorder items in place. This makes tuples a good choice for storing values that should be read-only."
      ]
    },
    {
      "cell_type": "markdown",
      "id": "ed57cd80",
      "metadata": {
        "id": "ed57cd80"
      },
      "source": [
        "## Creating tuples\n",
        "\n",
        "We can create a tuple by surrounding values in parentheses."
      ]
    },
    {
      "cell_type": "code",
      "execution_count": null,
      "id": "03a4588b",
      "metadata": {
        "colab": {
          "base_uri": "https://localhost:8080/"
        },
        "id": "03a4588b",
        "outputId": "db2c020b-5558-495d-f82a-000a54f258cf"
      },
      "outputs": [],
      "source": [
        "mutable_synonyms = ('changeable', 'fluctuating', 'inconstant', 'variable')\n",
        "mutable_synonyms"
      ]
    },
    {
      "cell_type": "markdown",
      "id": "78dbe8b5",
      "metadata": {
        "id": "78dbe8b5"
      },
      "source": [
        "To create an empty tuple, we can use either parentheses or the `tuple()` function. We can't add things to an empty tuple later!"
      ]
    },
    {
      "cell_type": "code",
      "execution_count": null,
      "id": "dd7866e6",
      "metadata": {
        "colab": {
          "base_uri": "https://localhost:8080/"
        },
        "id": "dd7866e6",
        "outputId": "52c5b256-f870-4cec-c3a5-08f6fddcb2b1"
      },
      "outputs": [],
      "source": [
        "empty = ()\n",
        "type(empty)"
      ]
    },
    {
      "cell_type": "code",
      "execution_count": null,
      "id": "a1455b74",
      "metadata": {
        "colab": {
          "base_uri": "https://localhost:8080/"
        },
        "id": "a1455b74",
        "outputId": "b6dcd6c9-d457-4ae3-e352-7ee2e6fb2d1c"
      },
      "outputs": [],
      "source": [
        "also_empty = tuple()\n",
        "type(also_empty)"
      ]
    },
    {
      "cell_type": "code",
      "execution_count": null,
      "id": "3b7b303b",
      "metadata": {
        "colab": {
          "base_uri": "https://localhost:8080/",
          "height": 191
        },
        "id": "3b7b303b",
        "outputId": "70b57f43-fc66-48f2-9968-80e05d2b1d98"
      },
      "outputs": [],
      "source": [
        "# not an actual tuple method\n",
        "empty.append('hi')"
      ]
    },
    {
      "cell_type": "markdown",
      "id": "738e9291",
      "metadata": {
        "id": "738e9291"
      },
      "source": [
        "## Working with tuples\n",
        "\n",
        "Functions that work on lists _and do not modify the list in place_ also work on tuples."
      ]
    },
    {
      "cell_type": "code",
      "execution_count": null,
      "id": "6704df77",
      "metadata": {
        "colab": {
          "base_uri": "https://localhost:8080/"
        },
        "id": "6704df77",
        "outputId": "da587002-bb41-40ee-8671-7d941e3dc8a7"
      },
      "outputs": [],
      "source": [
        "len(mutable_synonyms)"
      ]
    },
    {
      "cell_type": "code",
      "execution_count": null,
      "id": "06cf3451",
      "metadata": {
        "colab": {
          "base_uri": "https://localhost:8080/"
        },
        "id": "06cf3451",
        "outputId": "0f131b32-a699-409e-f1a0-81444d78ad9f"
      },
      "outputs": [],
      "source": [
        "sorted(mutable_synonyms)"
      ]
    },
    {
      "cell_type": "code",
      "execution_count": null,
      "id": "fd3265cc",
      "metadata": {
        "colab": {
          "base_uri": "https://localhost:8080/"
        },
        "id": "fd3265cc",
        "outputId": "86b572c0-accd-46b9-864c-c1098e4dbdb5"
      },
      "outputs": [],
      "source": [
        "mutable_synonyms + ('modifiable', 'shifting')"
      ]
    },
    {
      "cell_type": "code",
      "execution_count": null,
      "id": "a37eb94c",
      "metadata": {
        "colab": {
          "base_uri": "https://localhost:8080/"
        },
        "id": "a37eb94c",
        "outputId": "15e14d67-4374-45f7-f108-d9d3c0083bd9"
      },
      "outputs": [],
      "source": [
        "# check that mutable_synonyms hasn't changed\n",
        "mutable_synonyms"
      ]
    },
    {
      "cell_type": "markdown",
      "id": "61112f8b",
      "metadata": {
        "id": "61112f8b"
      },
      "source": [
        "## Sets\n",
        "\n",
        "_Sets_ are another built-in data type. Like lists, they are mutable. Unlike lists and tuples, the items in a set are **unordered and distinct**. \n",
        "\n",
        "Since sets are unordered, the elements do not maintain any specific order, and the order in which you iterate over the elements is not guaranteed to be the same as the order in which you inserted them. \n",
        "\n",
        "Since sets are distinct, all elements are unique. This means that when you create a set or add elements to it, duplicates will be automatically removed. Also, if you try to add an element that is already present in the set, the set will not change. \n",
        "\n",
        "This makes them well-suited for cases where we do not want any duplicates in our data, like when de-duping a list or comparing unique values."
      ]
    },
    {
      "cell_type": "markdown",
      "id": "06cf4974",
      "metadata": {
        "id": "06cf4974"
      },
      "source": [
        "## Creating Sets\n",
        "\n",
        "We can create a set by surrounding values in curly braces."
      ]
    },
    {
      "cell_type": "code",
      "execution_count": null,
      "id": "5d80afd8",
      "metadata": {
        "colab": {
          "base_uri": "https://localhost:8080/"
        },
        "id": "5d80afd8",
        "outputId": "5181f775-1263-4bd6-ed47-15570b96756b"
      },
      "outputs": [],
      "source": [
        "things = {'coat', 'lock', 'box', 'book', 'apple', 'hair','xylophone', 'lock', 'book'}\n",
        "things"
      ]
    },
    {
      "cell_type": "code",
      "execution_count": null,
      "id": "b0b6379a",
      "metadata": {
        "colab": {
          "base_uri": "https://localhost:8080/"
        },
        "id": "b0b6379a",
        "outputId": "e0a23ee4-1638-414d-aa41-849e8c0a4dac"
      },
      "outputs": [],
      "source": [
        "# turn a list into a set to remove duplicates\n",
        "visitor_post_codes = ['M5R', 'M5V', 'M1M', 'M1M', 'M1T']\n",
        "set(visitor_post_codes)"
      ]
    },
    {
      "cell_type": "markdown",
      "id": "f3335d87",
      "metadata": {
        "id": "f3335d87"
      },
      "source": [
        "The only way to create an empty set is with the `set()` function."
      ]
    },
    {
      "cell_type": "code",
      "execution_count": null,
      "id": "6bac952a",
      "metadata": {
        "colab": {
          "base_uri": "https://localhost:8080/"
        },
        "id": "6bac952a",
        "outputId": "06a45aaf-a454-46e9-bbe4-5da679f23d54"
      },
      "outputs": [],
      "source": [
        "empty_set = set()\n",
        "empty_set"
      ]
    },
    {
      "cell_type": "markdown",
      "id": "df56002b",
      "metadata": {
        "id": "df56002b"
      },
      "source": [
        "## Working with sets\n",
        "\n",
        "Sets are mutable, so we can add and remove items, and the set will be modified in place. This also means we have to be careful when setting one set equal to another -- modifying one means modifying both!"
      ]
    },
    {
      "cell_type": "markdown",
      "id": "6e30c27e",
      "metadata": {
        "id": "6e30c27e"
      },
      "source": [
        "If an item is already in a set, it won't be duplicated."
      ]
    },
    {
      "cell_type": "code",
      "execution_count": null,
      "id": "a6f6df51",
      "metadata": {
        "colab": {
          "base_uri": "https://localhost:8080/"
        },
        "id": "a6f6df51",
        "outputId": "18b16665-6eb7-4709-b4da-65b9e93769dd"
      },
      "outputs": [],
      "source": [
        "# check for membership\n",
        "'lock' in things"
      ]
    },
    {
      "cell_type": "code",
      "execution_count": null,
      "id": "08ad81be",
      "metadata": {
        "colab": {
          "base_uri": "https://localhost:8080/"
        },
        "id": "08ad81be",
        "outputId": "b096abed-50a7-4cee-a168-1812fa810115"
      },
      "outputs": [],
      "source": [
        "# the set will not update\n",
        "things.add('lock')\n",
        "things"
      ]
    },
    {
      "cell_type": "code",
      "execution_count": null,
      "id": "9136a509",
      "metadata": {
        "colab": {
          "base_uri": "https://localhost:8080/"
        },
        "id": "9136a509",
        "outputId": "e2748e26-8356-454b-a82c-728b201fb7ba"
      },
      "outputs": [],
      "source": [
        "# notice where mirror appears in the set\n",
        "things.add('mirror')\n",
        "things"
      ]
    },
    {
      "cell_type": "code",
      "execution_count": null,
      "id": "2f0e8e77",
      "metadata": {
        "colab": {
          "base_uri": "https://localhost:8080/"
        },
        "id": "2f0e8e77",
        "outputId": "d40a1e3f-8615-4bf9-8fab-1406a53762cb"
      },
      "outputs": [],
      "source": [
        "things.remove('apple')\n",
        "things"
      ]
    },
    {
      "cell_type": "markdown",
      "id": "78dd87cf",
      "metadata": {
        "id": "78dd87cf"
      },
      "source": [
        "Since sets are unordered, we cannot slice them or access items by index."
      ]
    },
    {
      "cell_type": "code",
      "execution_count": null,
      "id": "1f861290",
      "metadata": {
        "colab": {
          "base_uri": "https://localhost:8080/",
          "height": 174
        },
        "id": "1f861290",
        "outputId": "9b25543a-bc75-43dc-ebc4-43be5a863637"
      },
      "outputs": [],
      "source": [
        "things[1]"
      ]
    },
    {
      "cell_type": "markdown",
      "id": "92127bd7",
      "metadata": {
        "id": "92127bd7"
      },
      "source": [
        "## Set operations\n",
        "\n",
        "There are some operations that are unique to sets. A _union_ combines two sets to get the unique values in both. An _intersection_ finds the values two sets have in common. A _symmetric difference_ finds the values that are in only one of two sets. And _difference_ finds the values in the first set that are not in the second set.\n",
        "\n",
        "Each operation has a corresponding set method."
      ]
    },
    {
      "cell_type": "code",
      "execution_count": null,
      "id": "31a4a0b4",
      "metadata": {
        "id": "31a4a0b4"
      },
      "outputs": [],
      "source": [
        "rainbow = {'red', 'orange', 'yellow', 'green', 'blue', 'indigo', 'violet'}\n",
        "olympic_flag = {'red', 'green', 'yellow', 'blue', 'black'}"
      ]
    },
    {
      "cell_type": "code",
      "execution_count": null,
      "id": "77906906",
      "metadata": {
        "colab": {
          "base_uri": "https://localhost:8080/"
        },
        "id": "77906906",
        "outputId": "4a75c52f-5926-4416-ac54-ee8a2e4f17d7"
      },
      "outputs": [],
      "source": [
        "print(f'In the rainbow but not the Olympic flag: {rainbow.difference(olympic_flag)}')\n",
        "print(f'In the Olympic flag but not the rainbow: {olympic_flag.difference(rainbow)}')"
      ]
    },
    {
      "cell_type": "code",
      "execution_count": null,
      "id": "0f70aa26",
      "metadata": {
        "colab": {
          "base_uri": "https://localhost:8080/"
        },
        "id": "0f70aa26",
        "outputId": "83ace290-4513-4913-9306-65125f4a1db5"
      },
      "outputs": [],
      "source": [
        "print(f'Only in one: {rainbow.symmetric_difference(olympic_flag)}')"
      ]
    },
    {
      "cell_type": "code",
      "execution_count": null,
      "id": "eca13bed",
      "metadata": {
        "colab": {
          "base_uri": "https://localhost:8080/"
        },
        "id": "eca13bed",
        "outputId": "062f832d-8d79-4d41-a1ca-66bfc42b9551"
      },
      "outputs": [],
      "source": [
        "print(f'Common colours : {rainbow.intersection(olympic_flag)}')"
      ]
    },
    {
      "cell_type": "code",
      "execution_count": null,
      "id": "26c9bc0d",
      "metadata": {
        "colab": {
          "base_uri": "https://localhost:8080/"
        },
        "id": "26c9bc0d",
        "outputId": "e9e5ba5e-cb7d-4354-c046-cfd51769e363"
      },
      "outputs": [],
      "source": [
        "print(f'All colours: {rainbow.union(olympic_flag)}')"
      ]
    },
    {
      "cell_type": "markdown",
      "id": "351c544b",
      "metadata": {
        "id": "351c544b"
      },
      "source": [
        "## Dictionaries\n",
        "\n",
        "Dictionaries are our last collection of data. They store data in _key:value_ pairs and let us look up values by key. Dictionaries, like lists, are ordered and mutable. Every key in a dictionary is unique."
      ]
    },
    {
      "cell_type": "markdown",
      "id": "eddaf0db",
      "metadata": {
        "id": "eddaf0db"
      },
      "source": [
        "## Creating dictionaries\n",
        "\n",
        "To make a dictionary, we place curly braces around key:value pairs. Keys can be any immutable data type -- strings, numbers, booleans, and tuples all work. Values can be any data type."
      ]
    },
    {
      "cell_type": "code",
      "execution_count": null,
      "id": "4ebcf461",
      "metadata": {
        "colab": {
          "base_uri": "https://localhost:8080/"
        },
        "id": "4ebcf461",
        "outputId": "ce3ccb1a-f249-4845-aa64-5fcc9996afb1"
      },
      "outputs": [],
      "source": [
        "capitals = {'Canada': 'Ottawa',\n",
        "           'United States': 'Washington, D.C.',\n",
        "           'Mexico': 'Mexico City'}\n",
        "capitals"
      ]
    },
    {
      "cell_type": "code",
      "execution_count": null,
      "id": "26204e75",
      "metadata": {
        "colab": {
          "base_uri": "https://localhost:8080/"
        },
        "id": "26204e75",
        "outputId": "2af033a8-3ceb-45e7-f244-9dc62ba4679d"
      },
      "outputs": [],
      "source": [
        "olympics_cities = {2020: 'Tokyo', 2016: 'Rio de Janiero', 2012: 'London'}\n",
        "olympics_cities"
      ]
    },
    {
      "cell_type": "markdown",
      "id": "dbef9ac7",
      "metadata": {
        "id": "dbef9ac7"
      },
      "source": [
        "We can nest dictionaries within dictionaries."
      ]
    },
    {
      "cell_type": "code",
      "execution_count": null,
      "id": "9567a42f",
      "metadata": {
        "colab": {
          "base_uri": "https://localhost:8080/"
        },
        "id": "9567a42f",
        "outputId": "59470523-941a-4b35-e046-ee0f1ced7e41"
      },
      "outputs": [],
      "source": [
        "all_olympics_hosts = {'summer': olympics_cities,\n",
        "                     'winter': {2022: 'Beijing', 2018: 'Pyeongchang'}}\n",
        "all_olympics_hosts"
      ]
    },
    {
      "cell_type": "markdown",
      "id": "b6456f09",
      "metadata": {
        "id": "b6456f09"
      },
      "source": [
        "The preferred way to create an empty dictionary is with curly braces, but the `dict()` function also works."
      ]
    },
    {
      "cell_type": "code",
      "execution_count": null,
      "id": "82ea8a74",
      "metadata": {
        "colab": {
          "base_uri": "https://localhost:8080/"
        },
        "id": "82ea8a74",
        "outputId": "3bac7409-d1a3-4f64-d8c7-4cf77c69728e"
      },
      "outputs": [],
      "source": [
        "empty_dictionary = {}\n",
        "type(empty_dictionary)"
      ]
    },
    {
      "cell_type": "code",
      "execution_count": null,
      "id": "740e8ab8",
      "metadata": {
        "colab": {
          "base_uri": "https://localhost:8080/"
        },
        "id": "740e8ab8",
        "outputId": "75013ccf-664c-4fb1-8b6e-8462b6cf3270"
      },
      "outputs": [],
      "source": [
        "still_empty = dict()\n",
        "type(still_empty)"
      ]
    },
    {
      "cell_type": "markdown",
      "id": "0273d8d1",
      "metadata": {
        "id": "0273d8d1"
      },
      "source": [
        "## Accessing, adding, and updating dictionary items\n",
        "\n",
        "We access the content of a dictionary by specifying the dictionary, then the key to look up in square brackets. To access nested values, we _chain_ together bracket selections."
      ]
    },
    {
      "cell_type": "code",
      "execution_count": null,
      "id": "d8c5c78b",
      "metadata": {
        "colab": {
          "base_uri": "https://localhost:8080/",
          "height": 35
        },
        "id": "d8c5c78b",
        "outputId": "2702af14-b7b7-4bb5-ca16-a039638df12b"
      },
      "outputs": [],
      "source": [
        "olympics_cities[2016]"
      ]
    },
    {
      "cell_type": "code",
      "execution_count": null,
      "id": "8c3ef741",
      "metadata": {
        "colab": {
          "base_uri": "https://localhost:8080/",
          "height": 35
        },
        "id": "8c3ef741",
        "outputId": "6b4ae8be-a240-429e-920d-a89bac3af54b"
      },
      "outputs": [],
      "source": [
        "all_olympics_hosts['winter'][2018]"
      ]
    },
    {
      "cell_type": "markdown",
      "id": "07cfdbaa",
      "metadata": {
        "id": "07cfdbaa"
      },
      "source": [
        "Trying to access a key that doesn't exist results in an error."
      ]
    },
    {
      "cell_type": "code",
      "execution_count": null,
      "id": "22e5885c",
      "metadata": {
        "colab": {
          "base_uri": "https://localhost:8080/",
          "height": 174
        },
        "id": "22e5885c",
        "outputId": "5411f9dc-8829-4d84-e398-4e57d5b42e86"
      },
      "outputs": [],
      "source": [
        "olympics_cities[2014]"
      ]
    },
    {
      "cell_type": "markdown",
      "id": "49190dce",
      "metadata": {
        "id": "49190dce"
      },
      "source": [
        "The get() method provides a safe way to work with dictionary values. It takes the name of the key to look up and returns the corresponding value if the key exists; otherwise, it returns a specified default value without modifying the dictionary."
      ]
    },
    {
      "cell_type": "code",
      "execution_count": null,
      "id": "2db879ff",
      "metadata": {
        "colab": {
          "base_uri": "https://localhost:8080/"
        },
        "id": "2db879ff",
        "outputId": "d2aefe14-0fcb-4b54-b5c2-003591e28081"
      },
      "outputs": [],
      "source": [
        "olympics_cities.get(2004, 'Athens')"
      ]
    },
    {
      "cell_type": "code",
      "execution_count": null,
      "id": "0ba675d1",
      "metadata": {},
      "outputs": [],
      "source": [
        "olympics_cities"
      ]
    },
    {
      "cell_type": "markdown",
      "id": "5b266b2a",
      "metadata": {
        "id": "5b266b2a"
      },
      "source": [
        "We can check to see if a key is in a dictionary with `in`."
      ]
    },
    {
      "cell_type": "code",
      "execution_count": null,
      "id": "bbaf14b2",
      "metadata": {
        "colab": {
          "base_uri": "https://localhost:8080/"
        },
        "id": "bbaf14b2",
        "outputId": "81f005e7-37bf-4ad1-83a5-6812cc36d397"
      },
      "outputs": [],
      "source": [
        "2016 in olympics_cities"
      ]
    },
    {
      "cell_type": "code",
      "execution_count": null,
      "id": "e9980b1e",
      "metadata": {
        "colab": {
          "base_uri": "https://localhost:8080/"
        },
        "id": "e9980b1e",
        "outputId": "5ada2602-ed03-4c43-d4b5-20e89c679c03"
      },
      "outputs": [],
      "source": [
        "# 'in' looks for matching keys\n",
        "'Rio de Janiero' in olympics_cities"
      ]
    },
    {
      "cell_type": "markdown",
      "id": "d995abbd",
      "metadata": {
        "id": "d995abbd"
      },
      "source": [
        "If we assign a value to a key that doesn't exist, the key:value pair will be added to the dictionary. If we assign a value to a key that already exists, the value for that key will be updated."
      ]
    },
    {
      "cell_type": "code",
      "execution_count": null,
      "id": "b4716837",
      "metadata": {
        "colab": {
          "base_uri": "https://localhost:8080/"
        },
        "id": "b4716837",
        "outputId": "21dbad30-f511-47ed-f25c-9b60c03b4be4"
      },
      "outputs": [],
      "source": [
        "olympics_cities[2008] = 'Barcelona'\n",
        "olympics_cities"
      ]
    },
    {
      "cell_type": "code",
      "execution_count": null,
      "id": "24f9054f",
      "metadata": {
        "colab": {
          "base_uri": "https://localhost:8080/"
        },
        "id": "24f9054f",
        "outputId": "904c966e-2232-472a-f79b-3e374ded9fd6"
      },
      "outputs": [],
      "source": [
        "# fix 2008's city\n",
        "olympics_cities[2008] = 'Beijing'\n",
        "olympics_cities"
      ]
    },
    {
      "cell_type": "markdown",
      "id": "eff9bfad",
      "metadata": {
        "id": "eff9bfad"
      },
      "source": [
        "### Mutations, mutations\n",
        "\n",
        "Notice that updating a dictionary will also change other variables that reference it! Let's take a look at our `all_olympics_hosts` dictionary."
      ]
    },
    {
      "cell_type": "code",
      "execution_count": null,
      "id": "3b592169",
      "metadata": {
        "colab": {
          "base_uri": "https://localhost:8080/"
        },
        "id": "3b592169",
        "outputId": "30e6f21c-9b93-4d8e-afae-5b986698904e"
      },
      "outputs": [],
      "source": [
        "all_olympics_hosts"
      ]
    },
    {
      "cell_type": "markdown",
      "id": "16a219ae",
      "metadata": {
        "id": "16a219ae"
      },
      "source": [
        "## Deleting dictionary items\n",
        "\n",
        "To remove a key:value pair from a dictionary, we can use the `del` operator."
      ]
    },
    {
      "cell_type": "code",
      "execution_count": null,
      "id": "1f186d4c",
      "metadata": {
        "colab": {
          "base_uri": "https://localhost:8080/"
        },
        "id": "1f186d4c",
        "outputId": "6782e3ff-22e0-4658-a7d2-c64ee69244af"
      },
      "outputs": [],
      "source": [
        "del olympics_cities[2020]\n",
        "olympics_cities"
      ]
    },
    {
      "cell_type": "markdown",
      "id": "bad3cc3f",
      "metadata": {
        "id": "bad3cc3f"
      },
      "source": [
        "## Dictionary methods\n",
        "\n",
        "Python dictionaries have methods for getting keys, values, and items (that is, key:value pairs). This is useful for getting all dictionary keys, checking for values in a dictionary, and, as we'll see soon, working with keys, values, and items one-by-one."
      ]
    },
    {
      "cell_type": "code",
      "execution_count": null,
      "id": "9765afb3",
      "metadata": {
        "colab": {
          "base_uri": "https://localhost:8080/"
        },
        "id": "9765afb3",
        "outputId": "aaeeaf75-b2a5-4373-fa10-b2f5a4850cfa"
      },
      "outputs": [],
      "source": [
        "all_olympics_hosts.keys()"
      ]
    },
    {
      "cell_type": "code",
      "execution_count": null,
      "id": "1790f770",
      "metadata": {
        "colab": {
          "base_uri": "https://localhost:8080/"
        },
        "id": "1790f770",
        "outputId": "0459e303-4571-4f14-c7e5-d2cbcd02f525"
      },
      "outputs": [],
      "source": [
        "if 'London' in olympics_cities.values():\n",
        "    print('London was a host city')\n",
        "else:\n",
        "    print('London was not a host city')"
      ]
    },
    {
      "cell_type": "code",
      "execution_count": null,
      "id": "c8061f92",
      "metadata": {
        "colab": {
          "base_uri": "https://localhost:8080/"
        },
        "id": "c8061f92",
        "outputId": "b52a12bc-6f3e-4b65-b688-1e0e94a7a947"
      },
      "outputs": [],
      "source": [
        "# get keys and values for the nested winter dictionary\n",
        "all_olympics_hosts['winter'].items()"
      ]
    },
    {
      "cell_type": "markdown",
      "id": "66118b34",
      "metadata": {
        "id": "66118b34"
      },
      "source": [
        "## Collections: a summary\n",
        "\n",
        "(Adapted from: Table 17, Chapter 11, _Practical Programming: An Introduction to Computer Science Using Python 3.6_)\n",
        "\n",
        "| Collection | Mutable? | Ordered? | Use when...|\n",
        "|---|---|---|---|\n",
        "| `str` | No | Yes | You want to keep track of text. |\n",
        "| `list` | Yes | Yes | You want to keep track of and update an ordered sequence.|\n",
        "| `tuple` | No | Yes | You want to build an ordered sequence that you know won't change or that you want to use as a key in a dictionary or as a value in a set. |\n",
        "| `set` | Yes | No | You want to keep track of values, but order doesn't matter, and you don't want duplicates. The values must be immutable. |\n",
        "| `dict` | Yes | No | You want to keep a mapping of keys to values. The keys must be immutable. |"
      ]
    },
    {
      "cell_type": "markdown",
      "id": "60cda1ba",
      "metadata": {
        "id": "60cda1ba"
      },
      "source": [
        "# Control Flow: Iteration"
      ]
    },
    {
      "cell_type": "markdown",
      "id": "ca6a6ced",
      "metadata": {
        "id": "ca6a6ced"
      },
      "source": [
        "## What are iteration and loops?\n",
        "\n",
        "Earlier, we saw how to control the flow of a program through `if`/`elif`/`else` statements, which tell Python to run or skip blocks of code depending on whether a condition is met.\n",
        "\n",
        "We can also tell Python to repeat code in a loop for a certain number of times or until a condition is met, a technique called _iteration_. For example, we may want to manipulate every item in a list individually. Copy/pasting code for each item is inefficient and error-prone. Instead, we can use one of Python's two loops: `for` loops or `while` loops."
      ]
    },
    {
      "cell_type": "markdown",
      "id": "a2dfa50a",
      "metadata": {
        "id": "a2dfa50a"
      },
      "source": [
        "## `for` loops\n",
        "\n",
        "A `for` loop runs an indented block of code for every item in an _iterable_ -- a data type like a list, tuple, set, dictionary, or even string. When setting up a `for` loop, we have to specify a variable name to refer to individual items by. Try to pick one that makes sense, but if you're in a rush, `i` (for index) is conventional."
      ]
    },
    {
      "cell_type": "code",
      "execution_count": null,
      "id": "d248517f",
      "metadata": {
        "colab": {
          "base_uri": "https://localhost:8080/"
        },
        "id": "d248517f",
        "outputId": "cf2eddd0-89b2-4d74-f5dd-3cdf38267212"
      },
      "outputs": [],
      "source": [
        "for vowel in vowels:\n",
        "    print(f'Give me an {vowel}!')"
      ]
    },
    {
      "cell_type": "markdown",
      "id": "8e1ba720",
      "metadata": {
        "id": "8e1ba720"
      },
      "source": [
        "If we simply want to run a block of code _n_ number of times, we can use the `range()` function to create an iterable to loop over."
      ]
    },
    {
      "cell_type": "code",
      "execution_count": null,
      "id": "0e0b74ff",
      "metadata": {
        "colab": {
          "base_uri": "https://localhost:8080/"
        },
        "id": "0e0b74ff",
        "outputId": "e7ae4e42-0f6f-4de2-b928-10b88531c6eb"
      },
      "outputs": [],
      "source": [
        "for i in range(7):\n",
        "    print(i, i*2)"
      ]
    },
    {
      "cell_type": "markdown",
      "id": "2ad93ebf",
      "metadata": {
        "id": "2ad93ebf"
      },
      "source": [
        "We can use loops to build new lists (and other iterables)."
      ]
    },
    {
      "cell_type": "code",
      "execution_count": null,
      "id": "e01cb12f",
      "metadata": {
        "colab": {
          "base_uri": "https://localhost:8080/"
        },
        "id": "e01cb12f",
        "outputId": "34037d18-ff0e-42eb-9359-ce6c66ac1c66"
      },
      "outputs": [],
      "source": [
        "input_files = ['data_01.csv', 'data_02.csv', 'data_03.csv', 'data_04.csv']\n",
        "output_files = []\n",
        "\n",
        "for i in input_files:\n",
        "    output_file_name = 'processed_' + i.replace('.csv', '.xlsx')\n",
        "    output_files.append(output_file_name)\n",
        "\n",
        "output_files"
      ]
    },
    {
      "cell_type": "markdown",
      "id": "d5949e22",
      "metadata": {
        "id": "d5949e22"
      },
      "source": [
        "## Looping with multiple values\n",
        "\n",
        "It is often useful to iterate over more than one value at once, such as when working with functions like `enumerate()` and methods like `dict.items()`, which give us index:value and key:value pairs, respectively. Because these methods give us two values at once, we need to supply two looping variables. The returned value pairs are _unpacked_ to our variables."
      ]
    },
    {
      "cell_type": "code",
      "execution_count": null,
      "id": "dbf18fa4",
      "metadata": {
        "colab": {
          "base_uri": "https://localhost:8080/"
        },
        "id": "dbf18fa4",
        "outputId": "bcedc555-debf-4cdb-b3ec-6d9c7340d303"
      },
      "outputs": [],
      "source": [
        "stops = ['Sheppard-Yonge', 'Bayview', 'Bessarion', 'Leslie', 'Don Mills']\n",
        "for idx, stop in enumerate(stops):\n",
        "    print(f'Stop {idx + 1} is {stop}.')"
      ]
    },
    {
      "cell_type": "code",
      "execution_count": null,
      "id": "dffcff90",
      "metadata": {
        "colab": {
          "base_uri": "https://localhost:8080/"
        },
        "id": "dffcff90",
        "outputId": "66fddd3f-ce24-4ee7-a35f-eecb055e64d1"
      },
      "outputs": [],
      "source": [
        "# double a list in place\n",
        "numbers = [1, 10, 100, 1000]\n",
        "for idx, val in enumerate(numbers):\n",
        "    numbers[idx] = val * 2\n",
        "numbers"
      ]
    },
    {
      "cell_type": "markdown",
      "id": "3859b887",
      "metadata": {
        "id": "3859b887"
      },
      "source": [
        "## Looping over two iterables at once\n",
        "\n",
        "To loop over more than one iterable at the same time, we can `zip()` them up. Note that if the iterables are different lengths, we won't get the \"extra\" values in the longer iterable."
      ]
    },
    {
      "cell_type": "code",
      "execution_count": null,
      "id": "1df5c753",
      "metadata": {
        "colab": {
          "base_uri": "https://localhost:8080/"
        },
        "id": "1df5c753",
        "outputId": "b670d4e9-cfe5-42cc-869d-7f7e9078d0df"
      },
      "outputs": [],
      "source": [
        "lats = (43.650, 45.520, 49.280)\n",
        "lons = (-79.380, -73.570, -123.130)\n",
        "\n",
        "for i, j in zip(lats, lons):\n",
        "    print(f'({i}, {j})')"
      ]
    },
    {
      "cell_type": "markdown",
      "id": "c93d6c38",
      "metadata": {
        "id": "c93d6c38"
      },
      "source": [
        "## Loops within loops\n",
        "\n",
        "We can nest loops within each other, indenting once more each time. The variables from the higher-level loop are available at the lower levels.\n",
        "\n",
        "One thing to keep in mind is that the number of times code runs increases very quickly with nested loops -- slightly longer iterables can mean a longer-running program than expected!"
      ]
    },
    {
      "cell_type": "code",
      "execution_count": null,
      "id": "d2fa7beb",
      "metadata": {
        "colab": {
          "base_uri": "https://localhost:8080/"
        },
        "id": "d2fa7beb",
        "outputId": "ca56c393-9ee3-42ee-a23a-0de4f0b60318"
      },
      "outputs": [],
      "source": [
        "for key, value in all_olympics_hosts.items():\n",
        "    for year, city in value.items():\n",
        "        print(f'The {year} {key.title()} Olympics were in {city}.')"
      ]
    },
    {
      "cell_type": "code",
      "execution_count": null,
      "id": "123ca926",
      "metadata": {
        "id": "123ca926"
      },
      "outputs": [],
      "source": [
        "def print_table(n):\n",
        "    \"\"\"Print the multiplication table for numbers 1 through n inclusive.\n",
        "    >>> print_table(3)\n",
        "      1 2  3\n",
        "    1 1 2  3\n",
        "    2 2 4  6\n",
        "    3 3 6  9\n",
        "    \"\"\"\n",
        "    # The numbers to include in the table.\n",
        "    numbers = list(range(1, n + 1))\n",
        "    # Print the header row.\n",
        "    for i in numbers:\n",
        "        print(f'\\t{i}', end='')\n",
        "    # End the header row.\n",
        "    print()\n",
        "    # Print each row number and the contents of each row.\n",
        "    for i in numbers:\n",
        "        print (i, end='')\n",
        "        for j in numbers:\n",
        "            print(f'\\t{i * j}', end='')\n",
        "        # End the current row.\n",
        "        print()"
      ]
    },
    {
      "cell_type": "code",
      "execution_count": null,
      "id": "26858eb7",
      "metadata": {
        "colab": {
          "base_uri": "https://localhost:8080/"
        },
        "id": "26858eb7",
        "outputId": "f9738465-5d8b-415a-9571-746ea265717a"
      },
      "outputs": [],
      "source": [
        "print_table(5)"
      ]
    },
    {
      "cell_type": "markdown",
      "id": "cd0a8cd4",
      "metadata": {
        "id": "cd0a8cd4"
      },
      "source": [
        "## `while` loops\n",
        "\n",
        "What if we aren't sure how many times code needs to run, but we know how to tell when we're done? In that case, we can use a `while` loop, which runs an indented block of code until a condition is met."
      ]
    },
    {
      "cell_type": "code",
      "execution_count": null,
      "id": "755633ee",
      "metadata": {
        "colab": {
          "base_uri": "https://localhost:8080/"
        },
        "id": "755633ee",
        "outputId": "0cda116b-fb50-4f7b-9190-295581c803cd"
      },
      "outputs": [],
      "source": [
        "countdown = 4\n",
        "\n",
        "while countdown > 0:\n",
        "    print(countdown)\n",
        "    countdown -= 1"
      ]
    },
    {
      "cell_type": "markdown",
      "id": "9dead781",
      "metadata": {
        "id": "9dead781"
      },
      "source": [
        "## Infinite loops\n",
        "\n",
        "What happens if we omit the last line of code in the countdown example? The countdown never changes, so it never hits zero, and our program keeps printing \"4\". We've just created an _infinite loop_.\n",
        "\n",
        "(**NOTE**: If you try this, you will need to interrupt the program. In Anaconda, press `Ctrl+C` (Windows/Linux) or `Cmd+C` (Mac) on your keyboard or go to **Kernel --> Interrupt** in the toolbar. You may want to try this in a new notebook.)"
      ]
    },
    {
      "cell_type": "code",
      "execution_count": null,
      "id": "bab8a554",
      "metadata": {
        "id": "bab8a554"
      },
      "outputs": [],
      "source": [
        "# uncomment the lines below to run\n",
        "#countdown = 4\n",
        "\n",
        "#while countdown > 0:\n",
        "#    print(countdown)"
      ]
    },
    {
      "cell_type": "markdown",
      "id": "60840e98",
      "metadata": {
        "id": "60840e98"
      },
      "source": [
        "Infinite loops are sometimes necessary. They are used extensively in gaming or to run a connection to a server, for example. To create an intentional infinite loop, we make the `while` condition `True`."
      ]
    },
    {
      "cell_type": "markdown",
      "id": "0d942f1c",
      "metadata": {
        "id": "0d942f1c"
      },
      "source": [
        "## `break`ing free\n",
        "\n",
        "A `break` statement interrupts the execution of a loop."
      ]
    },
    {
      "cell_type": "code",
      "execution_count": null,
      "id": "b497e524",
      "metadata": {
        "colab": {
          "base_uri": "https://localhost:8080/"
        },
        "id": "b497e524",
        "outputId": "7e839855-8907-442d-e2d1-4de8990f8caa"
      },
      "outputs": [],
      "source": [
        "countdown = 4\n",
        "\n",
        "while countdown > 0:\n",
        "    print(countdown)\n",
        "    if countdown == 3:\n",
        "        print('We are breaking the loop early.')\n",
        "        break\n",
        "    countdown -=1\n",
        "\n",
        "print('Done iterating.')"
      ]
    },
    {
      "cell_type": "markdown",
      "id": "3b5ab52c",
      "metadata": {
        "id": "3b5ab52c"
      },
      "source": [
        "Even infinite loops can be exited."
      ]
    },
    {
      "cell_type": "code",
      "execution_count": null,
      "id": "055270c4",
      "metadata": {
        "colab": {
          "base_uri": "https://localhost:8080/"
        },
        "id": "055270c4",
        "outputId": "aee02a18-e058-4e60-876c-52310d1d16bf",
        "scrolled": true
      },
      "outputs": [],
      "source": [
        "while True:\n",
        "    password = input(\"What's the password? \")\n",
        "    # case-insensitive comparison\n",
        "    if password.lower() == 'open sesame':\n",
        "        print(\"You're in!\")\n",
        "        break"
      ]
    },
    {
      "cell_type": "markdown",
      "id": "a7b6ffbc",
      "metadata": {
        "id": "a7b6ffbc"
      },
      "source": [
        "## Please `continue`...\n",
        "\n",
        "Lastly, we can interrupt a loop with a `continue` statement, which tells Python to leave the current iteration of the loop and start back up at the top"
      ]
    },
    {
      "cell_type": "code",
      "execution_count": null,
      "id": "fdcea735",
      "metadata": {
        "colab": {
          "base_uri": "https://localhost:8080/"
        },
        "id": "fdcea735",
        "outputId": "e82418da-a0e8-44e4-fcda-7894520fcada"
      },
      "outputs": [],
      "source": [
        "wishes = 3\n",
        "while wishes > 0:\n",
        "    wish = input('Make a wish: ')\n",
        "    if 'infinite wishes' in wish.lower():\n",
        "        print('You can\\'t do that!')\n",
        "        continue\n",
        "    else:\n",
        "        print('Wish granted.')\n",
        "    wishes -= 1\n",
        "print('You have used all your wishes.')"
      ]
    },
    {
      "cell_type": "markdown",
      "id": "0d1c483c",
      "metadata": {
        "id": "0d1c483c"
      },
      "source": [
        "# References\n",
        "\n",
        "- Bostroem, Bekolay, and Staneva (eds): \"Software Carpentry: Programming with Python\" Version 2016.06, June 2016, https://github.com/swcarpentry/python-novice-inflammation, 10.5281/zenodo.57492.\n",
        "- Chapter 8, 9, and 11, Gries, Campbell, and Montojo, 2017, *Practical Programming: An Introduction to Computer Science Using Python 3.6*"
      ]
    }
  ],
  "metadata": {
    "celltoolbar": "Slideshow",
    "colab": {
      "collapsed_sections": [
        "fa05eeb9",
        "319df456",
        "006eb53a",
        "1e277da4",
        "f8da2d7e",
        "012f3f7c",
        "61112f8b",
        "351c544b",
        "66118b34",
        "ca6a6ced",
        "9dead781"
      ],
      "provenance": []
    },
    "kernelspec": {
      "display_name": "Python 3 (ipykernel)",
      "language": "python",
      "name": "python3"
    },
    "language_info": {
      "codemirror_mode": {
        "name": "ipython",
        "version": 3
      },
      "file_extension": ".py",
      "mimetype": "text/x-python",
      "name": "python",
      "nbconvert_exporter": "python",
      "pygments_lexer": "ipython3",
      "version": "3.11.5"
    },
    "rise": {
      "scroll": true,
      "theme": "solarized",
      "transition": "none"
    }
  },
  "nbformat": 4,
  "nbformat_minor": 5
}
