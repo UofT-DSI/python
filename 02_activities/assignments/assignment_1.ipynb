{
 "cells": [
  {
   "cell_type": "markdown",
   "metadata": {},
   "source": [
    "# Assignment #1: Anagram Checker\n",
    "\n",
    "**Background**: Anagram Checker is a program that takes two words and determines if an anagram can be made from it. If so, the program will return `true`, otherwise `false`."
   ]
  },
  {
   "cell_type": "markdown",
   "metadata": {},
   "source": [
    "## Submission Information\n",
    "\n",
    "🚨 **Please review our [Assignment Submission Guide](https://github.com/UofT-DSI/onboarding/blob/main/onboarding_documents/submissions.md)** 🚨 for detailed instructions on how to format, branch, and submit your work. Following these guidelines is crucial for your submissions to be evaluated correctly.\n",
    "\n",
    "### Submission Parameters:\n",
    "* Submission Due Date: `11:59 PM - May 4, 2025`\n",
    "* The branch name for your repo should be: `assignment-1`\n",
    "* What to submit for this assignment:\n",
    "    * This Jupyter Notebook (assignment_1.ipynb) should be populated and should be the only change in your pull request.\n",
    "* What the pull request link should look like for this assignment: `https://github.com/<your_github_username>/python/pull/<pr_id>`\n",
    "    * Open a private window in your browser. Copy and paste the link to your pull request into the address bar. Make sure you can see your pull request properly. This helps the technical facilitator and learning support staff review your submission easily.\n",
    "\n",
    "Checklist:\n",
    "- [ ] Created a branch with the correct naming convention.\n",
    "- [ ] Ensured that the repository is public.\n",
    "- [ ] Reviewed the PR description guidelines and adhered to them.\n",
    "- [ ] Verify that the link is accessible in a private browser window.\n",
    "\n",
    "If you encounter any difficulties or have questions, please don't hesitate to reach out to our team via our Slack at `#dc-help`. Our Technical Facilitators and Learning Support staff are here to help you navigate any challenges."
   ]
  },
  {
   "cell_type": "markdown",
   "metadata": {},
   "source": [
    "### Part 1: Building the base Anagram Checker\n",
    "\n",
    "Given two valid strings, check to see if they are anagrams of each other. If it is, return `True`, else `False`. For this part, we can assume that uppercase letters are the same as if it was a lowercase character.\n",
    "\n",
    "Examples of anagrams:\n",
    "* Silent and Listen\n",
    "* Night and Think\n",
    "\n",
    "Example outputs:\n",
    "```python\n",
    "anagram_checker(\"Silent\", \"listen\") # True\n",
    "anagram_checker(\"Silent\", \"Night\") # False\n",
    "anagram_checker(\"night\", \"Thing\") # True\n",
    "```"
   ]
  },
  {
   "cell_type": "code",
   "execution_count": null,
   "metadata": {},
   "outputs": [
    {
     "name": "stdout",
     "output_type": "stream",
     "text": [
      "Failed to compare the strings\n"
     ]
    },
    {
     "data": {
      "text/plain": [
       "False"
      ]
     },
     "execution_count": 23,
     "metadata": {},
     "output_type": "execute_result"
    }
   ],
   "source": [
    "# For testing purposes, we will write our code in the function\n",
    "def anagram_checker(word_a, word_b):\n",
    "# ```Function to compare two words to see if they are anagrams```\n",
    "  # Your code here\n",
    "  # OLD CODE #\n",
    "  # if len(word_a) == len(word_b):\n",
    "  #   for letter in word_a.lower():\n",
    "  #     if letter in word_b.lower():\n",
    "  #       # return True\n",
    "  #       return True\n",
    "  #     else:\n",
    "  #       return False\n",
    "  # else:\n",
    "  #   print(\"The words do not contain the same number of letters\")  \n",
    "  #   return False\n",
    "\n",
    "  # NEW CODE #\n",
    "  if len(word_a) == len(word_b):\n",
    "      word_a = sorted(word_a.lower())\n",
    "      word_b = sorted(word_b.lower())\n",
    "     \n",
    "      if word_a == word_b:\n",
    "          return True\n",
    "      else:\n",
    "          print('These words are not anagrams')\n",
    "          return False\n",
    "  else:\n",
    "    print(\"The words do not contain the same number of letters\")  \n",
    "    return False\n",
    "\n",
    "# Run your code to check using the words below:\n",
    "anagram_checker(\"Silent\", \"listen\")"
   ]
  },
  {
   "cell_type": "code",
   "execution_count": 34,
   "metadata": {},
   "outputs": [
    {
     "name": "stdout",
     "output_type": "stream",
     "text": [
      "The words do not contain the same number of letters\n"
     ]
    },
    {
     "data": {
      "text/plain": [
       "False"
      ]
     },
     "execution_count": 34,
     "metadata": {},
     "output_type": "execute_result"
    }
   ],
   "source": [
    "anagram_checker(\"Silent\", \"Night\")"
   ]
  },
  {
   "cell_type": "code",
   "execution_count": 28,
   "metadata": {},
   "outputs": [
    {
     "data": {
      "text/plain": [
       "True"
      ]
     },
     "execution_count": 28,
     "metadata": {},
     "output_type": "execute_result"
    }
   ],
   "source": [
    "anagram_checker(\"night\", \"Thing\")"
   ]
  },
  {
   "cell_type": "markdown",
   "metadata": {},
   "source": [
    "### Part 2: Expanding the functionality of the Anagram Checker\n",
    "\n",
    "Using your existing and functional anagram checker, let's add a boolean option called `is_case_sensitive`, which will return `True` or `False` based on if the two compared words are anagrams and if we are checking for case sensitivity."
   ]
  },
  {
   "cell_type": "code",
   "execution_count": null,
   "metadata": {},
   "outputs": [
    {
     "data": {
      "text/plain": [
       "True"
      ]
     },
     "execution_count": 33,
     "metadata": {},
     "output_type": "execute_result"
    }
   ],
   "source": [
    "def anagram_checker(word_a, word_b, is_case_sensitive):\n",
    "  # Modify your existing code here\n",
    "#  '''Function to compare two words to see if they are anagrams; condition: case-sensitive'''\n",
    "  # Your code here\n",
    "\n",
    "  # OLD CODE #\n",
    "  # if len(word_a) == len(word_b):\n",
    "  #   if is_case_sensitive == False: # i.e. does not matter what case the letters are\n",
    "  #     for letter in word_a.lower():\n",
    "  #       if letter in word_b.lower():\n",
    "  #         # return True\n",
    "  #         return True\n",
    "  #       else:\n",
    "  #         print('Not anagrams!')\n",
    "  #         return False\n",
    "  #   else:\n",
    "  #   # elif is_case_sensitive == True:\n",
    "  #     for letter in word_a:\n",
    "  #       if letter in word_b:\n",
    "  #         # return True\n",
    "  #         return True\n",
    "  #       else:\n",
    "  #         print('Case Sensitivity!')\n",
    "  #       return False\n",
    "  # else:\n",
    "  #   print('These words are not the same length!')\n",
    "  #   return False\n",
    "\n",
    "\n",
    "  # NEW CODE #\n",
    "  if len(word_a) == len(word_b):\n",
    "      if is_case_sensitive == False: # i.e. does not matter what case the letters are\n",
    "        word_a = sorted(word_a.lower())\n",
    "        word_b = sorted(word_b.lower())\n",
    "        if word_a == word_b:\n",
    "            return True\n",
    "        else:\n",
    "            print('These words are not anagrams')\n",
    "            return False\n",
    "      elif is_case_sensitive == True:\n",
    "        word_a = sorted(word_a)\n",
    "        word_b = sorted(word_b)\n",
    "        if word_a == word_b:\n",
    "          return True\n",
    "        else:\n",
    "          print('Case Sensitivity!')\n",
    "          return False       \n",
    "  else:\n",
    "    print(\"The words do not contain the same number of letters\")  \n",
    "    return False\n",
    "# Run your code to check using the words below:\n",
    "anagram_checker(\"Silent\", \"listen\", False) # True"
   ]
  },
  {
   "cell_type": "code",
   "execution_count": 30,
   "metadata": {},
   "outputs": [
    {
     "data": {
      "text/plain": [
       "True"
      ]
     },
     "execution_count": 30,
     "metadata": {},
     "output_type": "execute_result"
    }
   ],
   "source": [
    "anagram_checker(\"Silent\", \"Listen\", False) # False"
   ]
  },
  {
   "cell_type": "markdown",
   "metadata": {},
   "source": [
    "|Criteria|Pass|Fail|\n",
    "|---|---|---|\n",
    "|Code Execution|All code cells execute without errors.|Any code cell produces an error upon execution.|\n",
    "|Code Quality|Code is well-organized, concise, and includes necessary comments for clarity. E.g. Great use of variable names.|Code is unorganized, verbose, or lacks necessary comments. E.g. Single character variable names outside of loops.|"
   ]
  }
 ],
 "metadata": {
  "kernelspec": {
   "display_name": "dsi_participant",
   "language": "python",
   "name": "python3"
  },
  "language_info": {
   "codemirror_mode": {
    "name": "ipython",
    "version": 3
   },
   "file_extension": ".py",
   "mimetype": "text/x-python",
   "name": "python",
   "nbconvert_exporter": "python",
   "pygments_lexer": "ipython3",
   "version": "3.9.15"
  }
 },
 "nbformat": 4,
 "nbformat_minor": 2
}
