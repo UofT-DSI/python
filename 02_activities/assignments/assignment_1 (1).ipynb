{
  "cells": [
    {
      "cell_type": "markdown",
      "metadata": {
        "id": "7Whyn8LVs-Sk"
      },
      "source": [
        "# Assignment #1: Anagram Checker\n",
        "\n",
        "**Background**: Anagram Checker is a program that takes two words and determines if an anagram can be made from it. If so, the program will return `true`, otherwise `false`."
      ]
    },
    {
      "cell_type": "markdown",
      "metadata": {
        "id": "ig_THQ-Bs-So"
      },
      "source": [
        "## Submission Information\n",
        "\n",
        "🚨 **Please review our [Assignment Submission Guide](https://github.com/UofT-DSI/onboarding/blob/main/onboarding_documents/submissions.md)** 🚨 for detailed instructions on how to format, branch, and submit your work. Following these guidelines is crucial for your submissions to be evaluated correctly.\n",
        "\n",
        "### Submission Parameters:\n",
        "* Submission Due Date: `11:59 PM - Feb 16, 2025`\n",
        "* The branch name for your repo should be: `assignment-1`\n",
        "* What to submit for this assignment:\n",
        "    * This Jupyter Notebook (assignment_1.ipynb) should be populated and should be the only change in your pull request.\n",
        "* What the pull request link should look like for this assignment: `https://github.com/<your_github_username>/python/pull/<pr_id>`\n",
        "    * Open a private window in your browser. Copy and paste the link to your pull request into the address bar. Make sure you can see your pull request properly. This helps the technical facilitator and learning support staff review your submission easily.\n",
        "\n",
        "Checklist:\n",
        "- [ ] Created a branch with the correct naming convention.\n",
        "- [ ] Ensured that the repository is public.\n",
        "- [ ] Reviewed the PR description guidelines and adhered to them.\n",
        "- [ ] Verify that the link is accessible in a private browser window.\n",
        "\n",
        "If you encounter any difficulties or have questions, please don't hesitate to reach out to our team via our Slack at `#dc-help`. Our Technical Facilitators and Learning Support staff are here to help you navigate any challenges."
      ]
    },
    {
      "cell_type": "markdown",
      "metadata": {
        "id": "w8iQa613s-Sp"
      },
      "source": [
        "### Part 1: Building the base Anagram Checker\n",
        "\n",
        "Given two valid strings, check to see if they are anagrams of each other. If it is, return `True`, else `False`. For this part, we can assume that uppercase letters are the same as if it was a lowercase character.\n",
        "\n",
        "Examples of anagrams:\n",
        "* Silent and Listen\n",
        "* Night and Think\n",
        "\n",
        "Example outputs:\n",
        "```python\n",
        "anagram_checker(\"Silent\", \"listen\") # True\n",
        "anagram_checker(\"Silent\", \"Night\") # False\n",
        "anagram_checker(\"night\", \"Thing\") # True\n",
        "```"
      ]
    },
    {
      "cell_type": "code",
      "execution_count": 10,
      "metadata": {
        "colab": {
          "base_uri": "https://localhost:8080/"
        },
        "id": "7V4wQKWPs-Sp",
        "outputId": "4a61a4e4-76db-4849-86ad-a8a7a825db07"
      },
      "outputs": [
        {
          "output_type": "execute_result",
          "data": {
            "text/plain": [
              "True"
            ]
          },
          "metadata": {},
          "execution_count": 10
        }
      ],
      "source": [
        "def anagram_checker(word_a, word_b):\n",
        "    return sorted(word_a.lower()) == sorted(word_b.lower())\n",
        "\n",
        "# Run your code to check using the words below:\n",
        "anagram_checker(\"Silent\", \"listen\")"
      ]
    },
    {
      "cell_type": "code",
      "execution_count": 11,
      "metadata": {
        "colab": {
          "base_uri": "https://localhost:8080/"
        },
        "id": "KizLVtKRs-Sr",
        "outputId": "0e59b783-ed4b-402b-c3c9-498b93be61e3"
      },
      "outputs": [
        {
          "output_type": "execute_result",
          "data": {
            "text/plain": [
              "False"
            ]
          },
          "metadata": {},
          "execution_count": 11
        }
      ],
      "source": [
        "anagram_checker(\"Silent\", \"Night\")"
      ]
    },
    {
      "cell_type": "code",
      "execution_count": 12,
      "metadata": {
        "colab": {
          "base_uri": "https://localhost:8080/"
        },
        "id": "UyW16TpGs-Sr",
        "outputId": "ea1b9ecd-957a-46d5-9ca2-89ec3e0edfc1"
      },
      "outputs": [
        {
          "output_type": "execute_result",
          "data": {
            "text/plain": [
              "True"
            ]
          },
          "metadata": {},
          "execution_count": 12
        }
      ],
      "source": [
        "anagram_checker(\"night\", \"Thing\")"
      ]
    },
    {
      "cell_type": "markdown",
      "metadata": {
        "id": "izoDDdbKs-Sr"
      },
      "source": [
        "### Part 2: Expanding the functionality of the Anagram Checker\n",
        "\n",
        "Using your existing and functional anagram checker, let's add a boolean option called `is_case_sensitive`, which will return `True` or `False` based on if the two compared words are anagrams and if we are checking for case sensitivity."
      ]
    },
    {
      "cell_type": "code",
      "execution_count": 13,
      "metadata": {
        "colab": {
          "base_uri": "https://localhost:8080/"
        },
        "id": "AhLKpJEQs-Ss",
        "outputId": "6890a602-76d2-48c3-c503-053cdb73736e"
      },
      "outputs": [
        {
          "output_type": "execute_result",
          "data": {
            "text/plain": [
              "True"
            ]
          },
          "metadata": {},
          "execution_count": 13
        }
      ],
      "source": [
        "def anagram_checker(word_a, word_b, is_case_sensitive=False):\n",
        "    if is_case_sensitive:\n",
        "        return sorted(word_a) == sorted(word_b)\n",
        "    else:\n",
        "        return sorted(word_a.lower()) == sorted(word_b.lower())\n",
        "\n",
        "# Run your code to check using the words below:\n",
        "anagram_checker(\"Silent\", \"listen\", False) # True"
      ]
    },
    {
      "cell_type": "code",
      "execution_count": 14,
      "metadata": {
        "colab": {
          "base_uri": "https://localhost:8080/"
        },
        "id": "4YFxO7iLs-Ss",
        "outputId": "4645628c-ccd2-4f2d-caa6-e438df64fcb7"
      },
      "outputs": [
        {
          "output_type": "execute_result",
          "data": {
            "text/plain": [
              "False"
            ]
          },
          "metadata": {},
          "execution_count": 14
        }
      ],
      "source": [
        "anagram_checker(\"Silent\", \"Listen\", True) # False"
      ]
    },
    {
      "cell_type": "markdown",
      "metadata": {
        "id": "ygUmvTYus-Ss"
      },
      "source": [
        "|Criteria|Pass|Fail|\n",
        "|---|---|---|\n",
        "|Code Execution|All code cells execute without errors.|Any code cell produces an error upon execution.|\n",
        "|Code Quality|Code is well-organized, concise, and includes necessary comments for clarity. E.g. Great use of variable names.|Code is unorganized, verbose, or lacks necessary comments. E.g. Single character variable names outside of loops.|"
      ]
    }
  ],
  "metadata": {
    "kernelspec": {
      "display_name": "new-learner",
      "language": "python",
      "name": "python3"
    },
    "language_info": {
      "codemirror_mode": {
        "name": "ipython",
        "version": 3
      },
      "file_extension": ".py",
      "mimetype": "text/x-python",
      "name": "python",
      "nbconvert_exporter": "python",
      "pygments_lexer": "ipython3",
      "version": "3.11.8"
    },
    "colab": {
      "provenance": []
    }
  },
  "nbformat": 4,
  "nbformat_minor": 0
}