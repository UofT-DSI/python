{
 "cells": [
  {
   "cell_type": "markdown",
   "metadata": {
    "id": "4e2hspYloycG"
   },
   "source": [
    "# Control Flow\n",
    "## Practice Problems"
   ]
  },
  {
   "cell_type": "markdown",
   "metadata": {
    "id": "W6-SVI7SqNWb"
   },
   "source": [
    "### 1. Write a conditional that prints different messages if a bank account balance is below `$`3,000, between `$`3,000 and `$`10,000, or over `$`10,000.\n",
    "\n",
    "HINT: You can check if a value `x` is between two other values with a condition like `5 <= x <= 10`, but you can also solve this problem by strategically ordering conditions."
   ]
  },
  {
   "cell_type": "code",
   "execution_count": null,
   "metadata": {
    "colab": {
     "base_uri": "https://localhost:8080/"
    },
    "executionInfo": {
     "elapsed": 199,
     "status": "ok",
     "timestamp": 1668023835926,
     "user": {
      "displayName": "Kaylie Lau",
      "userId": "01284785813595846851"
     },
     "user_tz": 300
    },
    "id": "x92XbNTc9eYN",
    "outputId": "5fd6a60f-13fa-45b9-f231-7aa111d1de7b"
   },
   "outputs": [],
   "source": [
    "# Your code goes here"
   ]
  },
  {
   "cell_type": "markdown",
   "metadata": {},
   "source": [
    "<details>\n",
    "  <summary>Answer</summary>\n",
    "\n",
    "  ```python\n",
    "  balance = 3000\n",
    "\n",
    "  if balance < 3000:\n",
    "    print('Your balance is under $3,000')\n",
    "  elif balance <= 10000:\n",
    "    print('Your balance is between $3,000 and $10,000')\n",
    "  else:\n",
    "    print('Your balance is over $10,000.')\n",
    "\n",
    "  # This would also be a valid solution:\n",
    "  \n",
    "  if balance < 3000:\n",
    "    print('Your balance is under $3,000')\n",
    "  elif balance >= 3000 and balance <= 10000:\n",
    "    print('Your balance is between $3,000 and $10,000')\n",
    "  else:\n",
    "    print('Your balance is over $10,000.')\n",
    "\n",
    "  # And so would this:\n",
    "\n",
    "  if balance < 3000:\n",
    "    print('Your balance is under $3,000')\n",
    "  elif 3000 <= balance <= 10000:\n",
    "    print('Your balance is between $3,000 and $10,000')\n",
    "  else:\n",
    "    print('Your balance is over $10,000.')\n",
    "  ```\n",
    "</details>"
   ]
  },
  {
   "cell_type": "markdown",
   "metadata": {
    "id": "-eLr_oCiqRiH"
   },
   "source": [
    "### 2. Create a list, `books`, containing the following items: `'War and Peace', 'Pride and Prejudice', 'Mockingjay', 'Three Musketeers', 'The Adventures of Robinson Crusoe', 'Yevgeniy Onegin'`. Then:\n",
    "\n",
    "- Using slicing or indexing, create the following:\n",
    "    - An empty list\n",
    "    - The last item of `books`\n",
    "    - List of three items: 'Three Musketeers', 'The Adventures of Robinson Crusoe', 'Yevgeniy Onegin'.\n",
    "   \n",
    "- Using list methods:\n",
    "    - Remove 'Pride and Prejudice' from the list.\n",
    "    - Insert 'Harry Potter and the Chamber of Secrets' after 'Mockingjay'.\n",
    "\n",
    "HINT: Try using the same number as the starting index and ending index of a slice. Useful list methods include `remove()` and `insert()`."
   ]
  },
  {
   "cell_type": "code",
   "execution_count": null,
   "metadata": {
    "id": "7DuSnDQ9-Cs0"
   },
   "outputs": [],
   "source": [
    "# Your code goes here"
   ]
  },
  {
   "cell_type": "markdown",
   "metadata": {},
   "source": [
    "<details>\n",
    "  <summary>Answer</summary>\n",
    "\n",
    "  ```python\n",
    "  books = ['War and Peace', 'Pride and Prejudice', 'Mockingjay', 'Three Musketeers', 'The Adventures of Robinson Crusoe', 'Yevgeniy Onegin']\n",
    "\n",
    "  # an empty list\n",
    "  books[0:0]\n",
    "\n",
    "  # the last item\n",
    "  books[-1]\n",
    "\n",
    "  # the last three items\n",
    "  books[-3:]\n",
    "\n",
    "  # remove 'Pride and Prejudice'\n",
    "  books.remove('Pride and Prejudice')\n",
    "\n",
    "  # Insert Harry Potter and the Chamber of Secrets after Mockingjay\n",
    "  # If you did not remove Pride and Prejudice, the index would be 3, not 2\n",
    "  books.insert(2, 'Harry Potter and the Chamber of Secrets')\n",
    "\n",
    "  books\n",
    "  ```\n",
    "</details>"
   ]
  },
  {
   "cell_type": "markdown",
   "metadata": {
    "id": "1P3cHY0MqWP_"
   },
   "source": [
    "### 3. Given the list `people`, sort it by people's first name, last name and age. Store the sorted lists as `by_first_name`, `by_last_name`, and `by_age`, respectively.  \n",
    "`people = [('Mark', 'Harrison', 56), ('Ken', 'Wolseley', 23), ('Emily', 'Robinson', 77)]`\n",
    "\n",
    "HINT 1: We want our sorting function to return a new list, rather than modifying in place.\n",
    "\n",
    "HINT 2: `sorted()` accepts a `key` argument. This argument is the name of a function to use when sorting list elements."
   ]
  },
  {
   "cell_type": "code",
   "execution_count": null,
   "metadata": {
    "id": "ReUtuKtk_CH6"
   },
   "outputs": [],
   "source": [
    "# Your code goes here"
   ]
  },
  {
   "cell_type": "markdown",
   "metadata": {},
   "source": [
    "<details>\n",
    "  <summary>Answer</summary>\n",
    "\n",
    "  ```python\n",
    "  #Here, we have to write functions to get the first, second, and third items in a list.\n",
    "  #Then, we can use those functions as the keys for sorted().\n",
    "\n",
    "  people = [('Mark', 'Harrison', 56), ('Ken', 'Wolseley', 23), ('Emily', 'Robinson', 77)]\n",
    "\n",
    "  def get_first_item(lst):\n",
    "    return lst[0]\n",
    "\n",
    "  def get_second_item(lst):\n",
    "    return lst[1]\n",
    "\n",
    "  def get_third_item(lst):\n",
    "    return lst[2]\n",
    "\n",
    "  by_first_name = sorted(people, key=get_first_item)\n",
    "  by_last_name = sorted(people, key=get_second_item)\n",
    "  by_age = sorted(people, key=get_third_item)\n",
    "  ```\n",
    "</details>"
   ]
  },
  {
   "cell_type": "markdown",
   "metadata": {
    "id": "UpMWlbwrqZDz"
   },
   "source": [
    "### 4. Write a function called `dict_intersect` that takes two dictionaries, `d1` and `d2`, as arguments and returns a set that contains only the keys found in both of the original dictionaries.\n",
    "\n",
    "HINT: Let's break this down into steps. We need to:\n",
    "*   Get the keys in `d1`\n",
    "*   Get the keys in  `d2`\n",
    "*   Convert them both to sets\n",
    "*   Find their intersection\n",
    "\n",
    "HINT: Some useful functions and methods are `keys()`, `set()`, and `intersection()`."
   ]
  },
  {
   "cell_type": "code",
   "execution_count": null,
   "metadata": {
    "id": "TdBwT7dYACOY"
   },
   "outputs": [],
   "source": [
    "# Your code goes here"
   ]
  },
  {
   "cell_type": "markdown",
   "metadata": {},
   "source": [
    "<details>\n",
    "  <summary>Answer</summary>\n",
    "\n",
    "  ```python\n",
    "  def dict_intersect(d1, d2):\n",
    "    '''Return the set of keys found in both d1 and d2.\n",
    "    >>> dict_intersect({'a': 'A', 'b': 'B', 'c': 'C'}, {'a': 'alpha', 'b': 'beta'})\n",
    "    {'a', 'b'}\n",
    "    >>> dict_intersect({'a': 1, 'b': 2}, {'c': 3, 'd': 2})\n",
    "    set()\n",
    "    '''\n",
    "    d1_keys = set(d1.keys())\n",
    "    d2_keys = set(d2.keys())\n",
    "    return d1_keys.intersection(d2_keys)\n",
    "  ```\n",
    "</details>"
   ]
  },
  {
   "cell_type": "markdown",
   "metadata": {
    "id": "hW3Q-AHFqbZL"
   },
   "source": [
    "### 5. Write a loop that iterates over the two lists below simultaneously. For each pair of values, print the first number divided by the second. When the program encounters a zero divisor, it should skip the pair without printing anything.  \n",
    "\n",
    "```python\n",
    "dividends = [100, 37.5, -12]\n",
    "divisors = [8, 0, -3]\n",
    "```\n",
    "\n",
    "HINT: We can exit a loop early with `break`.\n",
    "\n",
    "HINT 2: Remember that we can bundle two lists pairwise with `zip()`."
   ]
  },
  {
   "cell_type": "code",
   "execution_count": null,
   "metadata": {
    "colab": {
     "base_uri": "https://localhost:8080/"
    },
    "executionInfo": {
     "elapsed": 7,
     "status": "ok",
     "timestamp": 1668024643760,
     "user": {
      "displayName": "Kaylie Lau",
      "userId": "01284785813595846851"
     },
     "user_tz": 300
    },
    "id": "JgcenI9Mngvz",
    "outputId": "630f1104-533a-4210-ebd1-575a9b69760e"
   },
   "outputs": [],
   "source": [
    "# Your code goes here"
   ]
  },
  {
   "cell_type": "markdown",
   "metadata": {},
   "source": [
    "<details>\n",
    "  <summary>Answer</summary>\n",
    "\n",
    "  ```python\n",
    "  dividends = [100, 37.5, -12]\n",
    "  divisors = [8, 0, -3]\n",
    "\n",
    "  for x, y in zip(dividends, divisors):\n",
    "    if y == 0:\n",
    "      continue\n",
    "    else:\n",
    "      print(x/y)\n",
    "  ```\n",
    "</details>"
   ]
  }
 ],
 "metadata": {
  "colab": {
   "authorship_tag": "ABX9TyOqN1klgwmxsG8wtOHzdOL5",
   "collapsed_sections": [],
   "provenance": []
  },
  "kernelspec": {
   "display_name": "Python 3",
   "name": "python3"
  },
  "language_info": {
   "name": "python"
  }
 },
 "nbformat": 4,
 "nbformat_minor": 0
}
