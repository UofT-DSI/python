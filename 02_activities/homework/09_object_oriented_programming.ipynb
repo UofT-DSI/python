{
 "cells": [
  {
   "cell_type": "markdown",
   "metadata": {
    "id": "cxCHAm0GXfFb"
   },
   "source": [
    "# Object Oriented Programming\n",
    "## Practice Problems"
   ]
  },
  {
   "cell_type": "markdown",
   "metadata": {
    "id": "Z34V5gPgjo1B"
   },
   "source": [
    "### 1. Create a class called `Book` that has the attributes `title`, `author`, `pages`, `price`. It also has the method `get_price()` which returns `price`. Then create two instances of this class:\n",
    "\n",
    "- `b1`:\n",
    "`title` -> 'Practical Programming...'\n",
    "`author` -> 'Gries, Campbell, Montojo'\n",
    "`pages` -> 383\n",
    "`price` -> 50\n",
    "\n",
    "- `b2`:\n",
    "`title` -> 'Building a Career in Data Science'\n",
    "`author` -> 'Robinson, Nolis'\n",
    "`pages` -> 322\n",
    "`price` -> 40"
   ]
  },
  {
   "cell_type": "code",
   "execution_count": null,
   "metadata": {
    "colab": {
     "base_uri": "https://localhost:8080/"
    },
    "executionInfo": {
     "elapsed": 11,
     "status": "ok",
     "timestamp": 1668131109931,
     "user": {
      "displayName": "Kaylie Lau",
      "userId": "01284785813595846851"
     },
     "user_tz": 300
    },
    "id": "LJ_Hn1xYmzUw",
    "outputId": "2cb73c7a-b4a8-4f72-cf5a-1a37fdb96389"
   },
   "outputs": [],
   "source": [
    "# Your code goes here"
   ]
  },
  {
   "cell_type": "markdown",
   "metadata": {},
   "source": [
    "<details>\n",
    "  <summary>Answer</summary>\n",
    "\n",
    "  ```python\n",
    "  class Book:\n",
    "    def __init__(self, title, author, pages, price):\n",
    "      self.title = title\n",
    "      self.author = author\n",
    "      self.pages = pages\n",
    "      self.price = price\n",
    "\n",
    "    def get_price(self):\n",
    "      return self.price\n",
    "\n",
    "  b1 = Book('Practical Programming...', 'Gries, Campbell, Montojo', 383, 50)\n",
    "  b2 = Book('Building a Career in Data Science', 'Robinson, Nolis', 322, 40)\n",
    "\n",
    "  print(b1.getprice())\n",
    "  ```\n",
    "</details>"
   ]
  },
  {
   "cell_type": "markdown",
   "metadata": {},
   "source": [
    "### 2. Create a `Phone` class that has the attributes `model`, `id`, `name`, `brand` and `price`. Create the getters and setters for each attribute. As well as the following methods: `calculate_total` which takes the price and calculates it by the tax argument."
   ]
  },
  {
   "cell_type": "code",
   "execution_count": null,
   "metadata": {},
   "outputs": [],
   "source": [
    "# Your code goes here"
   ]
  },
  {
   "cell_type": "markdown",
   "metadata": {},
   "source": [
    "<details>\n",
    "  <summary>Answer</summary>\n",
    "\n",
    "  ```python    \n",
    "  class Phone:\n",
    "    def __init__(self, model, id, name, brand, price):\n",
    "        self._model = model\n",
    "        self._id = id\n",
    "        self._name = name\n",
    "        self._brand = brand\n",
    "        self._price = price\n",
    "\n",
    "    # Getters\n",
    "    def get_model(self):\n",
    "        return self._model\n",
    "    \n",
    "    def get_id(self):\n",
    "        return self._id\n",
    "    \n",
    "    def get_name(self):\n",
    "        return self._name\n",
    "    \n",
    "    def get_brand(self):\n",
    "        return self._brand\n",
    "    \n",
    "    def get_price(self):\n",
    "        return self._price\n",
    "\n",
    "    # Setters\n",
    "    def set_model(self, model):\n",
    "        self._model = model\n",
    "    \n",
    "    def set_id(self, id):\n",
    "        self._id = id\n",
    "    \n",
    "    def set_name(self, name):\n",
    "        self._name = name\n",
    "    \n",
    "    def set_brand(self, brand):\n",
    "        self._brand = brand\n",
    "    \n",
    "    def set_price(self, price):\n",
    "        self._price = price\n",
    "\n",
    "    def calculate_total(self, tax):\n",
    "        return self._price * tax\n",
    "\n",
    "phone = Phone(\"15 Pro Max\", 1, \"iPhone\", \"Apple\", 1599)\n",
    "print(phone.calculate_total(1.13))\n",
    "\n",
    "print(phone.get_name())  # get the name\n",
    "phone.set_price(1699)    # set a new price\n",
    "print(phone.get_price())  # get the updated price\n",
    "\n",
    "  ```\n",
    "</details>"
   ]
  }
 ],
 "metadata": {
  "colab": {
   "authorship_tag": "ABX9TyO3VijQCXDe7a1I0vgK92JH",
   "collapsed_sections": [],
   "provenance": []
  },
  "kernelspec": {
   "display_name": "Python 3",
   "name": "python3"
  },
  "language_info": {
   "codemirror_mode": {
    "name": "ipython",
    "version": 3
   },
   "file_extension": ".py",
   "mimetype": "text/x-python",
   "name": "python",
   "nbconvert_exporter": "python",
   "pygments_lexer": "ipython3",
   "version": "3.11.5"
  }
 },
 "nbformat": 4,
 "nbformat_minor": 0
}
