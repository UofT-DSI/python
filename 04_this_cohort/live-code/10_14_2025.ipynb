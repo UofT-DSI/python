{
 "cells": [
  {
   "cell_type": "code",
   "execution_count": 2,
   "id": "1049c27f",
   "metadata": {},
   "outputs": [
    {
     "name": "stdout",
     "output_type": "stream",
     "text": [
      "4\n"
     ]
    }
   ],
   "source": [
    "print(2 + 2)"
   ]
  },
  {
   "cell_type": "code",
   "execution_count": 16,
   "id": "ce450e03",
   "metadata": {},
   "outputs": [],
   "source": [
    "# parameters are the variables defined in the function's signature\n",
    "# arguments are the actual values passed to the function when it is called\n",
    "\n",
    "def divide(dividend, divisor):\n",
    "    ''' Divide two values. First parameter is dividend, second divisor. '''\n",
    "    result = dividend / divisor\n",
    "    print(result)\n",
    "    # return result"
   ]
  },
  {
   "cell_type": "code",
   "execution_count": 17,
   "id": "2422e314",
   "metadata": {},
   "outputs": [
    {
     "name": "stdout",
     "output_type": "stream",
     "text": [
      "50.0\n"
     ]
    }
   ],
   "source": [
    "first_output = divide(100, 2)"
   ]
  },
  {
   "cell_type": "code",
   "execution_count": 18,
   "id": "0587e902",
   "metadata": {},
   "outputs": [],
   "source": [
    "first_output"
   ]
  },
  {
   "cell_type": "code",
   "execution_count": 23,
   "id": "324c856e",
   "metadata": {},
   "outputs": [
    {
     "name": "stdout",
     "output_type": "stream",
     "text": [
      "Help on built-in function round in module builtins:\n",
      "\n",
      "round(number, ndigits=None)\n",
      "    Round a number to a given precision in decimal digits.\n",
      "    \n",
      "    The return value is an integer if ndigits is omitted or None.  Otherwise\n",
      "    the return value has the same type as the number.  ndigits may be negative.\n",
      "\n"
     ]
    }
   ],
   "source": [
    "help(round)"
   ]
  },
  {
   "cell_type": "code",
   "execution_count": 33,
   "id": "e0bef5e6",
   "metadata": {},
   "outputs": [],
   "source": [
    "def calc_sales_tax(price, tax_rate=0.13):\n",
    "    ''' The return value is the sales tax, tax_rate default 0.13.'''\n",
    "    sales_tax = price * tax_rate\n",
    "    print(sales_tax)\n",
    "    # return sales_tax"
   ]
  },
  {
   "cell_type": "code",
   "execution_count": null,
   "id": "482aa186",
   "metadata": {},
   "outputs": [
    {
     "name": "stdout",
     "output_type": "stream",
     "text": [
      "6.5\n"
     ]
    }
   ],
   "source": [
    "groceries = calc_sales_tax(50) # output is None"
   ]
  },
  {
   "cell_type": "code",
   "execution_count": 37,
   "id": "661f34a5",
   "metadata": {},
   "outputs": [],
   "source": [
    "groceries"
   ]
  },
  {
   "cell_type": "code",
   "execution_count": 30,
   "id": "483a394e",
   "metadata": {},
   "outputs": [
    {
     "data": {
      "text/plain": [
       "4.0"
      ]
     },
     "execution_count": 30,
     "metadata": {},
     "output_type": "execute_result"
    }
   ],
   "source": [
    "calc_sales_tax(50, 0.08)"
   ]
  },
  {
   "cell_type": "code",
   "execution_count": 38,
   "id": "7880a78d",
   "metadata": {},
   "outputs": [],
   "source": [
    "def calc_total_bill(price, tax_rate=0.13, tip_rate=0.15):\n",
    "    tax_amount = price * tax_rate\n",
    "    tip_amount = price * tip_rate\n",
    "    total_amount = tax_amount + tip_amount + price\n",
    "    return total_amount"
   ]
  },
  {
   "cell_type": "code",
   "execution_count": 55,
   "id": "2159278c",
   "metadata": {},
   "outputs": [
    {
     "data": {
      "text/plain": [
       "64.0"
      ]
     },
     "execution_count": 55,
     "metadata": {},
     "output_type": "execute_result"
    }
   ],
   "source": [
    "calc_total_bill(50)"
   ]
  },
  {
   "cell_type": "code",
   "execution_count": 51,
   "id": "b5d24934",
   "metadata": {},
   "outputs": [],
   "source": [
    "price = 1000"
   ]
  },
  {
   "cell_type": "code",
   "execution_count": 52,
   "id": "bc0adec6",
   "metadata": {},
   "outputs": [
    {
     "data": {
      "text/plain": [
       "1000"
      ]
     },
     "execution_count": 52,
     "metadata": {},
     "output_type": "execute_result"
    }
   ],
   "source": [
    "price"
   ]
  },
  {
   "cell_type": "code",
   "execution_count": 53,
   "id": "6b0b63b7",
   "metadata": {},
   "outputs": [],
   "source": [
    "total_amount = 1000"
   ]
  },
  {
   "cell_type": "code",
   "execution_count": 54,
   "id": "956cc976",
   "metadata": {},
   "outputs": [
    {
     "data": {
      "text/plain": [
       "1000"
      ]
     },
     "execution_count": 54,
     "metadata": {},
     "output_type": "execute_result"
    }
   ],
   "source": [
    "total_amount"
   ]
  },
  {
   "cell_type": "code",
   "execution_count": 48,
   "id": "72af1494",
   "metadata": {},
   "outputs": [
    {
     "ename": "NameError",
     "evalue": "name 'tax_rate' is not defined",
     "output_type": "error",
     "traceback": [
      "\u001b[31m---------------------------------------------------------------------------\u001b[39m",
      "\u001b[31mNameError\u001b[39m                                 Traceback (most recent call last)",
      "\u001b[36mCell\u001b[39m\u001b[36m \u001b[39m\u001b[32mIn[48]\u001b[39m\u001b[32m, line 1\u001b[39m\n\u001b[32m----> \u001b[39m\u001b[32m1\u001b[39m \u001b[43mtax_rate\u001b[49m\n",
      "\u001b[31mNameError\u001b[39m: name 'tax_rate' is not defined"
     ]
    }
   ],
   "source": [
    "tax_rate"
   ]
  },
  {
   "cell_type": "code",
   "execution_count": 39,
   "id": "021d4f34",
   "metadata": {},
   "outputs": [
    {
     "data": {
      "text/plain": [
       "128.0"
      ]
     },
     "execution_count": 39,
     "metadata": {},
     "output_type": "execute_result"
    }
   ],
   "source": [
    "calc_total_bill(100)"
   ]
  },
  {
   "cell_type": "code",
   "execution_count": 40,
   "id": "3c9d40ae",
   "metadata": {},
   "outputs": [
    {
     "data": {
      "text/plain": [
       "128.0"
      ]
     },
     "execution_count": 40,
     "metadata": {},
     "output_type": "execute_result"
    }
   ],
   "source": [
    "100 + (100 * 0.13) + (100 * 0.15)"
   ]
  },
  {
   "cell_type": "code",
   "execution_count": 41,
   "id": "ef67d812",
   "metadata": {},
   "outputs": [
    {
     "data": {
      "text/plain": [
       "133.0"
      ]
     },
     "execution_count": 41,
     "metadata": {},
     "output_type": "execute_result"
    }
   ],
   "source": [
    "calc_total_bill(100, 0.18)"
   ]
  },
  {
   "cell_type": "code",
   "execution_count": 42,
   "id": "80443c8b",
   "metadata": {},
   "outputs": [
    {
     "data": {
      "text/plain": [
       "133.0"
      ]
     },
     "execution_count": 42,
     "metadata": {},
     "output_type": "execute_result"
    }
   ],
   "source": [
    "100 + (100 * 0.18) + (100 * 0.15)"
   ]
  },
  {
   "cell_type": "code",
   "execution_count": 43,
   "id": "e6b76d6b",
   "metadata": {},
   "outputs": [
    {
     "data": {
      "text/plain": [
       "131.0"
      ]
     },
     "execution_count": 43,
     "metadata": {},
     "output_type": "execute_result"
    }
   ],
   "source": [
    "calc_total_bill(100, tip_rate=0.18)"
   ]
  },
  {
   "cell_type": "code",
   "execution_count": 44,
   "id": "2afd5ca0",
   "metadata": {},
   "outputs": [
    {
     "data": {
      "text/plain": [
       "131.0"
      ]
     },
     "execution_count": 44,
     "metadata": {},
     "output_type": "execute_result"
    }
   ],
   "source": [
    "100 + (100 * 0.13) + (100 * 0.18)"
   ]
  },
  {
   "cell_type": "code",
   "execution_count": 45,
   "id": "c7abcd29",
   "metadata": {},
   "outputs": [
    {
     "data": {
      "text/plain": [
       "11"
      ]
     },
     "execution_count": 45,
     "metadata": {},
     "output_type": "execute_result"
    }
   ],
   "source": [
    "round(10.6666666)"
   ]
  },
  {
   "cell_type": "code",
   "execution_count": 46,
   "id": "7bc47634",
   "metadata": {},
   "outputs": [
    {
     "data": {
      "text/plain": [
       "10.67"
      ]
     },
     "execution_count": 46,
     "metadata": {},
     "output_type": "execute_result"
    }
   ],
   "source": [
    "round(10.666666, 2)"
   ]
  },
  {
   "cell_type": "code",
   "execution_count": 49,
   "id": "0e140e04",
   "metadata": {},
   "outputs": [],
   "source": [
    "month = 10"
   ]
  },
  {
   "cell_type": "code",
   "execution_count": 50,
   "id": "14e8b37e",
   "metadata": {},
   "outputs": [
    {
     "data": {
      "text/plain": [
       "10"
      ]
     },
     "execution_count": 50,
     "metadata": {},
     "output_type": "execute_result"
    }
   ],
   "source": [
    "month"
   ]
  },
  {
   "cell_type": "code",
   "execution_count": null,
   "id": "21367762",
   "metadata": {},
   "outputs": [],
   "source": [
    "# scope -> context in which a variable can be accessed\n",
    "\n",
    "# parameters -> locally scoped variables\n",
    "# variable can only be accessed within the function\n",
    "\n",
    "# variables defined outside a function -> globally scoped variables\n",
    "# variables can be accessed anywhere in the program"
   ]
  },
  {
   "cell_type": "code",
   "execution_count": 56,
   "id": "8e153304",
   "metadata": {},
   "outputs": [
    {
     "data": {
      "text/plain": [
       "'This is a string'"
      ]
     },
     "execution_count": 56,
     "metadata": {},
     "output_type": "execute_result"
    }
   ],
   "source": [
    "'This is a string'"
   ]
  },
  {
   "cell_type": "code",
   "execution_count": 57,
   "id": "1b44539f",
   "metadata": {},
   "outputs": [
    {
     "data": {
      "text/plain": [
       "'This is also a string'"
      ]
     },
     "execution_count": 57,
     "metadata": {},
     "output_type": "execute_result"
    }
   ],
   "source": [
    "\"This is also a string\""
   ]
  },
  {
   "cell_type": "code",
   "execution_count": 58,
   "id": "a42671cc",
   "metadata": {},
   "outputs": [
    {
     "ename": "SyntaxError",
     "evalue": "unterminated string literal (detected at line 1) (2717929831.py, line 1)",
     "output_type": "error",
     "traceback": [
      "  \u001b[36mCell\u001b[39m\u001b[36m \u001b[39m\u001b[32mIn[58]\u001b[39m\u001b[32m, line 1\u001b[39m\n\u001b[31m    \u001b[39m\u001b[31m'This is not a string\"\u001b[39m\n    ^\n\u001b[31mSyntaxError\u001b[39m\u001b[31m:\u001b[39m unterminated string literal (detected at line 1)\n"
     ]
    }
   ],
   "source": [
    "'This is not a string\""
   ]
  },
  {
   "cell_type": "code",
   "execution_count": 59,
   "id": "efa93b38",
   "metadata": {},
   "outputs": [
    {
     "ename": "SyntaxError",
     "evalue": "unterminated string literal (detected at line 1) (3205553238.py, line 1)",
     "output_type": "error",
     "traceback": [
      "  \u001b[36mCell\u001b[39m\u001b[36m \u001b[39m\u001b[32mIn[59]\u001b[39m\u001b[32m, line 1\u001b[39m\n\u001b[31m    \u001b[39m\u001b[31m'Let's see if this works'\u001b[39m\n                            ^\n\u001b[31mSyntaxError\u001b[39m\u001b[31m:\u001b[39m unterminated string literal (detected at line 1)\n"
     ]
    }
   ],
   "source": [
    "'Let's see if this works'"
   ]
  },
  {
   "cell_type": "code",
   "execution_count": 60,
   "id": "22974e9d",
   "metadata": {},
   "outputs": [
    {
     "data": {
      "text/plain": [
       "\"Let's see if this work\""
      ]
     },
     "execution_count": 60,
     "metadata": {},
     "output_type": "execute_result"
    }
   ],
   "source": [
    "\"Let's see if this work\""
   ]
  },
  {
   "cell_type": "code",
   "execution_count": 62,
   "id": "22716dde",
   "metadata": {},
   "outputs": [
    {
     "name": "stdout",
     "output_type": "stream",
     "text": [
      "\n",
      "I am a multiline string!\n",
      "\n",
      "This is handy!\n",
      " \n"
     ]
    }
   ],
   "source": [
    "print('''\n",
    "I am a multiline string!\n",
    "\n",
    "This is handy!\n",
    " ''')"
   ]
  },
  {
   "cell_type": "markdown",
   "id": "8a311273",
   "metadata": {},
   "source": [
    "### Escape sequences\n",
    "\n",
    "| Escape sequence | Description        |\n",
    "|-----------------|--------------------|\n",
    "| \\\\'             | Single quote       |\n",
    "| \\\\\"             | Double quote       |\n",
    "| \\\\\\\\            | Backslash          |\n",
    "| \\\\t             | Tab                |\n",
    "| \\\\n             | Newline            |\n",
    "| \\\\r             | Carriage return    |"
   ]
  },
  {
   "cell_type": "code",
   "execution_count": 64,
   "id": "bad0782d",
   "metadata": {},
   "outputs": [
    {
     "name": "stdout",
     "output_type": "stream",
     "text": [
      "This is a backslash: \\\n"
     ]
    }
   ],
   "source": [
    "print('This is a backslash: \\\\')"
   ]
  },
  {
   "cell_type": "code",
   "execution_count": 66,
   "id": "3f6d4a6a",
   "metadata": {},
   "outputs": [
    {
     "name": "stdout",
     "output_type": "stream",
     "text": [
      "This is a double-quoted string with a quote inside: \"example\"\n"
     ]
    }
   ],
   "source": [
    "print('This is a double-quoted string with a quote inside: \\\"example\\\"')"
   ]
  },
  {
   "cell_type": "code",
   "execution_count": 67,
   "id": "57fe726e",
   "metadata": {},
   "outputs": [
    {
     "name": "stdout",
     "output_type": "stream",
     "text": [
      "This is a tab: \ttab\n"
     ]
    }
   ],
   "source": [
    "print('This is a tab: \\ttab')"
   ]
  },
  {
   "cell_type": "code",
   "execution_count": null,
   "id": "c6a0e1e3",
   "metadata": {},
   "outputs": [
    {
     "data": {
      "text/plain": [
       "4"
      ]
     },
     "execution_count": 68,
     "metadata": {},
     "output_type": "execute_result"
    }
   ],
   "source": [
    "2 + 2 # int data type"
   ]
  },
  {
   "cell_type": "code",
   "execution_count": null,
   "id": "e8cf81ab",
   "metadata": {},
   "outputs": [
    {
     "data": {
      "text/plain": [
       "'hello world'"
      ]
     },
     "execution_count": 69,
     "metadata": {},
     "output_type": "execute_result"
    }
   ],
   "source": [
    "'hello ' + 'world' # str data type"
   ]
  },
  {
   "cell_type": "code",
   "execution_count": 70,
   "id": "b000346a",
   "metadata": {},
   "outputs": [
    {
     "data": {
      "text/plain": [
       "6"
      ]
     },
     "execution_count": 70,
     "metadata": {},
     "output_type": "execute_result"
    }
   ],
   "source": [
    "2 * 3"
   ]
  },
  {
   "cell_type": "code",
   "execution_count": null,
   "id": "3db2798a",
   "metadata": {},
   "outputs": [
    {
     "data": {
      "text/plain": [
       "'haha'"
      ]
     },
     "execution_count": 71,
     "metadata": {},
     "output_type": "execute_result"
    }
   ],
   "source": [
    "'ha' * 2"
   ]
  },
  {
   "cell_type": "code",
   "execution_count": 75,
   "id": "7f314850",
   "metadata": {},
   "outputs": [
    {
     "data": {
      "text/plain": [
       "'The year is 2025'"
      ]
     },
     "execution_count": 75,
     "metadata": {},
     "output_type": "execute_result"
    }
   ],
   "source": [
    "'The year is ' + '2025'"
   ]
  },
  {
   "cell_type": "code",
   "execution_count": 78,
   "id": "249b97fa",
   "metadata": {},
   "outputs": [
    {
     "data": {
      "text/plain": [
       "int"
      ]
     },
     "execution_count": 78,
     "metadata": {},
     "output_type": "execute_result"
    }
   ],
   "source": [
    "type(int('2025'))"
   ]
  },
  {
   "cell_type": "code",
   "execution_count": 79,
   "id": "79f0f953",
   "metadata": {},
   "outputs": [
    {
     "ename": "TypeError",
     "evalue": "unsupported operand type(s) for /: 'str' and 'int'",
     "output_type": "error",
     "traceback": [
      "\u001b[31m---------------------------------------------------------------------------\u001b[39m",
      "\u001b[31mTypeError\u001b[39m                                 Traceback (most recent call last)",
      "\u001b[36mCell\u001b[39m\u001b[36m \u001b[39m\u001b[32mIn[79]\u001b[39m\u001b[32m, line 1\u001b[39m\n\u001b[32m----> \u001b[39m\u001b[32m1\u001b[39m \u001b[33;43m'\u001b[39;49m\u001b[33;43mhaha\u001b[39;49m\u001b[33;43m'\u001b[39;49m\u001b[43m \u001b[49m\u001b[43m/\u001b[49m\u001b[43m \u001b[49m\u001b[32;43m2\u001b[39;49m\n",
      "\u001b[31mTypeError\u001b[39m: unsupported operand type(s) for /: 'str' and 'int'"
     ]
    }
   ],
   "source": [
    "'haha' / 2"
   ]
  },
  {
   "cell_type": "code",
   "execution_count": 80,
   "id": "c873e3a9",
   "metadata": {},
   "outputs": [
    {
     "data": {
      "text/plain": [
       "False"
      ]
     },
     "execution_count": 80,
     "metadata": {},
     "output_type": "execute_result"
    }
   ],
   "source": [
    "2 == 4"
   ]
  },
  {
   "cell_type": "code",
   "execution_count": 83,
   "id": "329ae5cc",
   "metadata": {},
   "outputs": [],
   "source": [
    "apple = 'Apple'"
   ]
  },
  {
   "cell_type": "code",
   "execution_count": 84,
   "id": "b721ee9b",
   "metadata": {},
   "outputs": [
    {
     "data": {
      "text/plain": [
       "'Apple'"
      ]
     },
     "execution_count": 84,
     "metadata": {},
     "output_type": "execute_result"
    }
   ],
   "source": [
    "apple"
   ]
  },
  {
   "cell_type": "code",
   "execution_count": 85,
   "id": "2c3bd9da",
   "metadata": {},
   "outputs": [
    {
     "data": {
      "text/plain": [
       "False"
      ]
     },
     "execution_count": 85,
     "metadata": {},
     "output_type": "execute_result"
    }
   ],
   "source": [
    "'apple' == 'Apple'"
   ]
  },
  {
   "cell_type": "code",
   "execution_count": 86,
   "id": "0f046472",
   "metadata": {},
   "outputs": [
    {
     "data": {
      "text/plain": [
       "True"
      ]
     },
     "execution_count": 86,
     "metadata": {},
     "output_type": "execute_result"
    }
   ],
   "source": [
    "'apple' != 'Apple'"
   ]
  },
  {
   "cell_type": "code",
   "execution_count": 87,
   "id": "b6143db8",
   "metadata": {},
   "outputs": [
    {
     "data": {
      "text/plain": [
       "False"
      ]
     },
     "execution_count": 87,
     "metadata": {},
     "output_type": "execute_result"
    }
   ],
   "source": [
    "'20' == 20"
   ]
  },
  {
   "cell_type": "code",
   "execution_count": 89,
   "id": "da22c40c",
   "metadata": {},
   "outputs": [
    {
     "data": {
      "text/plain": [
       "'Ada'"
      ]
     },
     "execution_count": 89,
     "metadata": {},
     "output_type": "execute_result"
    }
   ],
   "source": [
    "first_name = 'Ada'\n",
    "first_name"
   ]
  },
  {
   "cell_type": "code",
   "execution_count": 90,
   "id": "8a1951fe",
   "metadata": {},
   "outputs": [
    {
     "data": {
      "text/plain": [
       "'Lovelace'"
      ]
     },
     "execution_count": 90,
     "metadata": {},
     "output_type": "execute_result"
    }
   ],
   "source": [
    "last_name = 'Lovelace'\n",
    "last_name"
   ]
  },
  {
   "cell_type": "code",
   "execution_count": 91,
   "id": "1cfd3d5d",
   "metadata": {},
   "outputs": [
    {
     "data": {
      "text/plain": [
       "'d'"
      ]
     },
     "execution_count": 91,
     "metadata": {},
     "output_type": "execute_result"
    }
   ],
   "source": [
    "first_name[1]"
   ]
  },
  {
   "cell_type": "code",
   "execution_count": 92,
   "id": "99e2ee1a",
   "metadata": {},
   "outputs": [
    {
     "data": {
      "text/plain": [
       "'e'"
      ]
     },
     "execution_count": 92,
     "metadata": {},
     "output_type": "execute_result"
    }
   ],
   "source": [
    "last_name[3]"
   ]
  },
  {
   "cell_type": "code",
   "execution_count": 94,
   "id": "6a009128",
   "metadata": {},
   "outputs": [
    {
     "data": {
      "text/plain": [
       "'Love'"
      ]
     },
     "execution_count": 94,
     "metadata": {},
     "output_type": "execute_result"
    }
   ],
   "source": [
    "last_name[0:4]"
   ]
  },
  {
   "cell_type": "code",
   "execution_count": 98,
   "id": "a9e65e61",
   "metadata": {},
   "outputs": [
    {
     "data": {
      "text/plain": [
       "'Love'"
      ]
     },
     "execution_count": 98,
     "metadata": {},
     "output_type": "execute_result"
    }
   ],
   "source": [
    "last_name[:4]"
   ]
  },
  {
   "cell_type": "code",
   "execution_count": 99,
   "id": "0089f90a",
   "metadata": {},
   "outputs": [
    {
     "data": {
      "text/plain": [
       "'velace'"
      ]
     },
     "execution_count": 99,
     "metadata": {},
     "output_type": "execute_result"
    }
   ],
   "source": [
    "last_name[2:]"
   ]
  },
  {
   "cell_type": "code",
   "execution_count": 95,
   "id": "2e6fca97",
   "metadata": {},
   "outputs": [
    {
     "data": {
      "text/plain": [
       "'Lc'"
      ]
     },
     "execution_count": 95,
     "metadata": {},
     "output_type": "execute_result"
    }
   ],
   "source": [
    "last_name[0] + last_name[6]"
   ]
  },
  {
   "cell_type": "code",
   "execution_count": null,
   "id": "f0fe015c",
   "metadata": {},
   "outputs": [
    {
     "data": {
      "text/plain": [
       "'Lc'"
      ]
     },
     "execution_count": 97,
     "metadata": {},
     "output_type": "execute_result"
    }
   ],
   "source": [
    "last_name[0:7:6] # str[start:end+1:step]"
   ]
  },
  {
   "cell_type": "code",
   "execution_count": 100,
   "id": "0517b08a",
   "metadata": {},
   "outputs": [
    {
     "data": {
      "text/plain": [
       "'lace'"
      ]
     },
     "execution_count": 100,
     "metadata": {},
     "output_type": "execute_result"
    }
   ],
   "source": [
    "last_name[-4:]"
   ]
  },
  {
   "cell_type": "code",
   "execution_count": 101,
   "id": "f53170f0",
   "metadata": {},
   "outputs": [
    {
     "data": {
      "text/plain": [
       "'555'"
      ]
     },
     "execution_count": 101,
     "metadata": {},
     "output_type": "execute_result"
    }
   ],
   "source": [
    "phone_number = '+1 555-123-4567'\n",
    "\n",
    "phone_number[3:6]"
   ]
  },
  {
   "cell_type": "code",
   "execution_count": 102,
   "id": "b4323e6c",
   "metadata": {},
   "outputs": [
    {
     "data": {
      "text/plain": [
       "'123-4567'"
      ]
     },
     "execution_count": 102,
     "metadata": {},
     "output_type": "execute_result"
    }
   ],
   "source": [
    "phone_number[-8:]"
   ]
  },
  {
   "cell_type": "code",
   "execution_count": null,
   "id": "06215d03",
   "metadata": {},
   "outputs": [
    {
     "data": {
      "text/plain": [
       "'7654-321-555 1+'"
      ]
     },
     "execution_count": 103,
     "metadata": {},
     "output_type": "execute_result"
    }
   ],
   "source": [
    "phone_number[14::-1] #[start:end:step]"
   ]
  },
  {
   "cell_type": "code",
   "execution_count": 104,
   "id": "bb8a3759",
   "metadata": {},
   "outputs": [
    {
     "data": {
      "text/plain": [
       "23"
      ]
     },
     "execution_count": 104,
     "metadata": {},
     "output_type": "execute_result"
    }
   ],
   "source": [
    "len('hfalfjasklfjalskfjalsjf')"
   ]
  },
  {
   "cell_type": "code",
   "execution_count": 105,
   "id": "9ba7f8ec",
   "metadata": {},
   "outputs": [],
   "source": [
    "fruit = 'banana'\n",
    "sorted_fruit = sorted(fruit)\n"
   ]
  },
  {
   "cell_type": "code",
   "execution_count": 106,
   "id": "1555b58c",
   "metadata": {},
   "outputs": [
    {
     "data": {
      "text/plain": [
       "['a', 'a', 'a', 'b', 'n', 'n']"
      ]
     },
     "execution_count": 106,
     "metadata": {},
     "output_type": "execute_result"
    }
   ],
   "source": [
    "sorted_fruit"
   ]
  },
  {
   "cell_type": "code",
   "execution_count": 107,
   "id": "4bfa0ad4",
   "metadata": {},
   "outputs": [
    {
     "name": "stdout",
     "output_type": "stream",
     "text": [
      "tuesday\n"
     ]
    }
   ],
   "source": [
    "print(\"tuesday\")"
   ]
  },
  {
   "cell_type": "code",
   "execution_count": 108,
   "id": "68effe81",
   "metadata": {},
   "outputs": [
    {
     "data": {
      "text/plain": [
       "'I AM NOT YELLING'"
      ]
     },
     "execution_count": 108,
     "metadata": {},
     "output_type": "execute_result"
    }
   ],
   "source": [
    "'I am not yelling'.upper()"
   ]
  },
  {
   "cell_type": "code",
   "execution_count": 110,
   "id": "3072b289",
   "metadata": {},
   "outputs": [
    {
     "data": {
      "text/plain": [
       "3"
      ]
     },
     "execution_count": 110,
     "metadata": {},
     "output_type": "execute_result"
    }
   ],
   "source": [
    "'This string is unusual'.count('u')"
   ]
  },
  {
   "cell_type": "code",
   "execution_count": 112,
   "id": "9616665a",
   "metadata": {},
   "outputs": [
    {
     "data": {
      "text/plain": [
       "True"
      ]
     },
     "execution_count": 112,
     "metadata": {},
     "output_type": "execute_result"
    }
   ],
   "source": [
    "'file_name.csv'.endswith('csv')"
   ]
  },
  {
   "cell_type": "code",
   "execution_count": 113,
   "id": "51b15463",
   "metadata": {},
   "outputs": [
    {
     "data": {
      "text/plain": [
       "'long_file_name_with_spaces.csv'"
      ]
     },
     "execution_count": 113,
     "metadata": {},
     "output_type": "execute_result"
    }
   ],
   "source": [
    "'long file name with spaces.csv'.replace(' ', '_')"
   ]
  },
  {
   "cell_type": "code",
   "execution_count": 114,
   "id": "857ae7a5",
   "metadata": {},
   "outputs": [
    {
     "data": {
      "text/plain": [
       "'Ada'"
      ]
     },
     "execution_count": 114,
     "metadata": {},
     "output_type": "execute_result"
    }
   ],
   "source": [
    "first_name"
   ]
  },
  {
   "cell_type": "code",
   "execution_count": 115,
   "id": "94d3aef1",
   "metadata": {},
   "outputs": [
    {
     "data": {
      "text/plain": [
       "'Lovelace'"
      ]
     },
     "execution_count": 115,
     "metadata": {},
     "output_type": "execute_result"
    }
   ],
   "source": [
    "last_name"
   ]
  },
  {
   "cell_type": "code",
   "execution_count": null,
   "id": "2c02f2a5",
   "metadata": {},
   "outputs": [],
   "source": [
    "# using the .format() method"
   ]
  },
  {
   "cell_type": "code",
   "execution_count": 116,
   "id": "0aa3e246",
   "metadata": {},
   "outputs": [
    {
     "data": {
      "text/plain": [
       "'Ada Lovelace has the initials A. L.'"
      ]
     },
     "execution_count": 116,
     "metadata": {},
     "output_type": "execute_result"
    }
   ],
   "source": [
    "'Ada Lovelace has the initials {}. {}.'.format(first_name[0], last_name[0])"
   ]
  },
  {
   "cell_type": "code",
   "execution_count": 117,
   "id": "e921e3cb",
   "metadata": {},
   "outputs": [
    {
     "data": {
      "text/plain": [
       "'A'"
      ]
     },
     "execution_count": 117,
     "metadata": {},
     "output_type": "execute_result"
    }
   ],
   "source": [
    "first_name[0]"
   ]
  },
  {
   "cell_type": "code",
   "execution_count": 118,
   "id": "9013614a",
   "metadata": {},
   "outputs": [
    {
     "data": {
      "text/plain": [
       "'L'"
      ]
     },
     "execution_count": 118,
     "metadata": {},
     "output_type": "execute_result"
    }
   ],
   "source": [
    "last_name[0]"
   ]
  },
  {
   "cell_type": "code",
   "execution_count": 121,
   "id": "f571de6a",
   "metadata": {},
   "outputs": [
    {
     "data": {
      "text/plain": [
       "'My favourite vegetable is bell pepper'"
      ]
     },
     "execution_count": 121,
     "metadata": {},
     "output_type": "execute_result"
    }
   ],
   "source": [
    "'My favourite vegetable is {}'.format('bell pepper')"
   ]
  },
  {
   "cell_type": "code",
   "execution_count": 131,
   "id": "1d2f9a08",
   "metadata": {},
   "outputs": [
    {
     "data": {
      "text/plain": [
       "'My favourite fruit is pear. I love pear.'"
      ]
     },
     "execution_count": 131,
     "metadata": {},
     "output_type": "execute_result"
    }
   ],
   "source": [
    "# f-string\n",
    "\n",
    "fruit = 'pear'\n",
    "f'My favourite fruit is {fruit}. I love {fruit}.'"
   ]
  },
  {
   "cell_type": "code",
   "execution_count": null,
   "id": "bdefc7f3",
   "metadata": {},
   "outputs": [
    {
     "data": {
      "text/plain": [
       "'My favourite fruit is strawberries'"
      ]
     },
     "execution_count": 129,
     "metadata": {},
     "output_type": "execute_result"
    }
   ],
   "source": [
    "f'My favourite fruit is {\"pear\"}'"
   ]
  },
  {
   "cell_type": "code",
   "execution_count": 133,
   "id": "e650df91",
   "metadata": {},
   "outputs": [
    {
     "data": {
      "text/plain": [
       "int"
      ]
     },
     "execution_count": 133,
     "metadata": {},
     "output_type": "execute_result"
    }
   ],
   "source": [
    "type(int('17'))"
   ]
  },
  {
   "cell_type": "code",
   "execution_count": 135,
   "id": "75c09e06",
   "metadata": {},
   "outputs": [
    {
     "data": {
      "text/plain": [
       "17.4"
      ]
     },
     "execution_count": 135,
     "metadata": {},
     "output_type": "execute_result"
    }
   ],
   "source": [
    "float('17.4')"
   ]
  },
  {
   "cell_type": "code",
   "execution_count": 136,
   "id": "e5988ad6",
   "metadata": {},
   "outputs": [
    {
     "data": {
      "text/plain": [
       "'32.5'"
      ]
     },
     "execution_count": 136,
     "metadata": {},
     "output_type": "execute_result"
    }
   ],
   "source": [
    "str(32.5)"
   ]
  },
  {
   "cell_type": "code",
   "execution_count": 137,
   "id": "65940b3f",
   "metadata": {},
   "outputs": [
    {
     "data": {
      "text/plain": [
       "'13'"
      ]
     },
     "execution_count": 137,
     "metadata": {},
     "output_type": "execute_result"
    }
   ],
   "source": [
    "str(13)"
   ]
  },
  {
   "cell_type": "code",
   "execution_count": 138,
   "id": "18aa9989",
   "metadata": {},
   "outputs": [],
   "source": [
    "age = input('How old are you? ')"
   ]
  },
  {
   "cell_type": "code",
   "execution_count": 139,
   "id": "754563d8",
   "metadata": {},
   "outputs": [
    {
     "data": {
      "text/plain": [
       "'10000000'"
      ]
     },
     "execution_count": 139,
     "metadata": {},
     "output_type": "execute_result"
    }
   ],
   "source": [
    "age"
   ]
  },
  {
   "cell_type": "code",
   "execution_count": 140,
   "id": "25e91b0c",
   "metadata": {},
   "outputs": [
    {
     "name": "stdout",
     "output_type": "stream",
     "text": [
      "Next year you will be 10000001\n"
     ]
    }
   ],
   "source": [
    "print(\"Next year you will be\", int(age) + 1)"
   ]
  },
  {
   "cell_type": "code",
   "execution_count": 142,
   "id": "7a5ba1b7",
   "metadata": {},
   "outputs": [],
   "source": [
    "favourite_animal = input(\"What is your favourite animal? \")"
   ]
  },
  {
   "cell_type": "code",
   "execution_count": 143,
   "id": "3fbdc885",
   "metadata": {},
   "outputs": [
    {
     "data": {
      "text/plain": [
       "'tiger'"
      ]
     },
     "execution_count": 143,
     "metadata": {},
     "output_type": "execute_result"
    }
   ],
   "source": [
    "favourite_animal"
   ]
  },
  {
   "cell_type": "code",
   "execution_count": null,
   "id": "70759b70",
   "metadata": {},
   "outputs": [],
   "source": [
    "# not: negate the truth value of a statement \n",
    "\n",
    "# and: check if the statements on both sides are true\n",
    "\n",
    "# or: check if at least one of the statements is true"
   ]
  },
  {
   "cell_type": "markdown",
   "id": "0a455ad9",
   "metadata": {},
   "source": [
    "## `not`\n",
    "\n",
    "|X|`not` X|\n",
    "|-|-|\n",
    "|True|False|\n",
    "|False|True|"
   ]
  },
  {
   "cell_type": "code",
   "execution_count": 144,
   "id": "2c880fda",
   "metadata": {},
   "outputs": [
    {
     "data": {
      "text/plain": [
       "False"
      ]
     },
     "execution_count": 144,
     "metadata": {},
     "output_type": "execute_result"
    }
   ],
   "source": [
    "not True"
   ]
  },
  {
   "cell_type": "code",
   "execution_count": 145,
   "id": "ae81baf0",
   "metadata": {},
   "outputs": [
    {
     "data": {
      "text/plain": [
       "True"
      ]
     },
     "execution_count": 145,
     "metadata": {},
     "output_type": "execute_result"
    }
   ],
   "source": [
    "not False"
   ]
  },
  {
   "cell_type": "code",
   "execution_count": 147,
   "id": "61ac7a39",
   "metadata": {},
   "outputs": [
    {
     "data": {
      "text/plain": [
       "False"
      ]
     },
     "execution_count": 147,
     "metadata": {},
     "output_type": "execute_result"
    }
   ],
   "source": [
    "not (3 == 3)"
   ]
  },
  {
   "cell_type": "markdown",
   "id": "154b5ebf",
   "metadata": {},
   "source": [
    "## To avoid confusion and ensure consistent behaviour, it's recommended to use boolean values (`True` or `False`) explicitly when working with logical operations to ensure predictable outcomes based on boolean logic."
   ]
  },
  {
   "cell_type": "markdown",
   "id": "9611af1f",
   "metadata": {},
   "source": [
    "## `and`\n",
    "\n",
    "Evaluates to `True` if both statements are true.\n",
    "\n",
    "|X|Y|X `and` Y|\n",
    "|-|-|-|\n",
    "|True|True|True|\n",
    "|False|True|False|\n",
    "|True|False|False|\n",
    "|False|False|False|"
   ]
  },
  {
   "cell_type": "code",
   "execution_count": 150,
   "id": "e2e4c65d",
   "metadata": {},
   "outputs": [
    {
     "data": {
      "text/plain": [
       "True"
      ]
     },
     "execution_count": 150,
     "metadata": {},
     "output_type": "execute_result"
    }
   ],
   "source": [
    "(3 == 3) and (2 > 1) # True and True"
   ]
  },
  {
   "cell_type": "code",
   "execution_count": 148,
   "id": "faaa9c55",
   "metadata": {},
   "outputs": [
    {
     "data": {
      "text/plain": [
       "True"
      ]
     },
     "execution_count": 148,
     "metadata": {},
     "output_type": "execute_result"
    }
   ],
   "source": [
    "(3 == 3) "
   ]
  },
  {
   "cell_type": "code",
   "execution_count": 149,
   "id": "348334b1",
   "metadata": {},
   "outputs": [
    {
     "data": {
      "text/plain": [
       "True"
      ]
     },
     "execution_count": 149,
     "metadata": {},
     "output_type": "execute_result"
    }
   ],
   "source": [
    "(2 > 1)"
   ]
  },
  {
   "cell_type": "code",
   "execution_count": 151,
   "id": "2c68ffa1",
   "metadata": {},
   "outputs": [
    {
     "data": {
      "text/plain": [
       "False"
      ]
     },
     "execution_count": 151,
     "metadata": {},
     "output_type": "execute_result"
    }
   ],
   "source": [
    "(2 == 3) and (2 > 1)"
   ]
  },
  {
   "cell_type": "code",
   "execution_count": 152,
   "id": "7d625fd5",
   "metadata": {},
   "outputs": [
    {
     "data": {
      "text/plain": [
       "False"
      ]
     },
     "execution_count": 152,
     "metadata": {},
     "output_type": "execute_result"
    }
   ],
   "source": [
    "(2 == 3)"
   ]
  },
  {
   "cell_type": "code",
   "execution_count": 153,
   "id": "5fff7ada",
   "metadata": {},
   "outputs": [
    {
     "data": {
      "text/plain": [
       "True"
      ]
     },
     "execution_count": 153,
     "metadata": {},
     "output_type": "execute_result"
    }
   ],
   "source": [
    "(2 > 1)"
   ]
  },
  {
   "cell_type": "markdown",
   "id": "5b9c3f7a",
   "metadata": {},
   "source": [
    "## `or`\n",
    "\n",
    "Evaluates to `True` if just one of the statements is true.\n",
    "\n",
    "|X|Y|X `or` Y|\n",
    "|-|-|-|\n",
    "|True|True|True|\n",
    "|False|True|True|\n",
    "|True|False|True|\n",
    "|False|False|False|"
   ]
  },
  {
   "cell_type": "code",
   "execution_count": 157,
   "id": "c1156c6f",
   "metadata": {},
   "outputs": [
    {
     "data": {
      "text/plain": [
       "False"
      ]
     },
     "execution_count": 157,
     "metadata": {},
     "output_type": "execute_result"
    }
   ],
   "source": [
    "(\"Python\" == \"python\") or (4 <= 1) # False or False"
   ]
  },
  {
   "cell_type": "code",
   "execution_count": 155,
   "id": "b623bd25",
   "metadata": {},
   "outputs": [
    {
     "data": {
      "text/plain": [
       "False"
      ]
     },
     "execution_count": 155,
     "metadata": {},
     "output_type": "execute_result"
    }
   ],
   "source": [
    "(\"Python\" == \"python\")"
   ]
  },
  {
   "cell_type": "code",
   "execution_count": 156,
   "id": "cd30008e",
   "metadata": {},
   "outputs": [
    {
     "data": {
      "text/plain": [
       "False"
      ]
     },
     "execution_count": 156,
     "metadata": {},
     "output_type": "execute_result"
    }
   ],
   "source": [
    "(4 <= 1)"
   ]
  },
  {
   "cell_type": "code",
   "execution_count": null,
   "id": "061bb2c7",
   "metadata": {},
   "outputs": [
    {
     "data": {
      "text/plain": [
       "False"
      ]
     },
     "execution_count": 161,
     "metadata": {},
     "output_type": "execute_result"
    }
   ],
   "source": [
    "(not (500 != 200)) or (\"Monday\" == \"Tuesday\") # False or False"
   ]
  },
  {
   "cell_type": "code",
   "execution_count": 158,
   "id": "c150fd60",
   "metadata": {},
   "outputs": [
    {
     "data": {
      "text/plain": [
       "True"
      ]
     },
     "execution_count": 158,
     "metadata": {},
     "output_type": "execute_result"
    }
   ],
   "source": [
    "(500 != 200)"
   ]
  },
  {
   "cell_type": "code",
   "execution_count": 159,
   "id": "71a29955",
   "metadata": {},
   "outputs": [
    {
     "data": {
      "text/plain": [
       "False"
      ]
     },
     "execution_count": 159,
     "metadata": {},
     "output_type": "execute_result"
    }
   ],
   "source": [
    "(\"Monday\" == \"Tuesday\")"
   ]
  },
  {
   "cell_type": "markdown",
   "id": "ee47a6c7",
   "metadata": {},
   "source": [
    "## Operator precedence\n",
    "\n",
    "Boolean operators are evaluated after arithmetic and comparison operators.\n",
    "\n",
    "| Order | Operator | Description |\n",
    "|---|---|---|\n",
    "| 1 | `**` | Exponentiation |\n",
    "| 2 | `-`| Negation |\n",
    "| 3 | `*`, `/`, `//`, `%` | Multiplication, division, integer division, and modulo |\n",
    "| 4 | `+`, `-` | Addition and subtraction |\n",
    "| 5 | `<`, `<=`, `>`, `>=`, `==`, `!=` | Less than, less than or equal to, greater than, greater than or equal to, equal, not equal |\n",
    "| 6 | `not` | Not |\n",
    "| 7 | `and` | And |\n",
    "| 8 | `or` | Or|"
   ]
  },
  {
   "cell_type": "code",
   "execution_count": null,
   "id": "ab7f6f25",
   "metadata": {},
   "outputs": [],
   "source": []
  }
 ],
 "metadata": {
  "kernelspec": {
   "display_name": "python-env",
   "language": "python",
   "name": "python3"
  },
  "language_info": {
   "codemirror_mode": {
    "name": "ipython",
    "version": 3
   },
   "file_extension": ".py",
   "mimetype": "text/x-python",
   "name": "python",
   "nbconvert_exporter": "python",
   "pygments_lexer": "ipython3",
   "version": "3.11.13"
  }
 },
 "nbformat": 4,
 "nbformat_minor": 5
}
