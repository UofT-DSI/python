{
 "cells": [
  {
   "cell_type": "code",
   "execution_count": 9,
   "id": "36860799",
   "metadata": {},
   "outputs": [],
   "source": [
    "# August 21, 2025"
   ]
  },
  {
   "cell_type": "markdown",
   "id": "7fb0f1d5",
   "metadata": {},
   "source": [
    "## `not`\n",
    "\n",
    "|X|`not` X|\n",
    "|-|-|\n",
    "|True|False|\n",
    "|False|True|"
   ]
  },
  {
   "cell_type": "code",
   "execution_count": 10,
   "id": "833e8c5c",
   "metadata": {},
   "outputs": [
    {
     "data": {
      "text/plain": [
       "False"
      ]
     },
     "execution_count": 10,
     "metadata": {},
     "output_type": "execute_result"
    }
   ],
   "source": [
    "not (3 == 3)"
   ]
  },
  {
   "cell_type": "markdown",
   "id": "e4cc2032",
   "metadata": {},
   "source": [
    "## `and`\n",
    "\n",
    "Evaluates to `True` if both statements are true.\n",
    "\n",
    "|X|Y|X `and` Y|\n",
    "|-|-|-|\n",
    "|True|True|True|\n",
    "|False|True|False|\n",
    "|True|False|False|\n",
    "|False|False|False|"
   ]
  },
  {
   "cell_type": "code",
   "execution_count": 11,
   "id": "61a17c2e",
   "metadata": {},
   "outputs": [
    {
     "data": {
      "text/plain": [
       "True"
      ]
     },
     "execution_count": 11,
     "metadata": {},
     "output_type": "execute_result"
    }
   ],
   "source": [
    "(4 > 1) and (2 == 2)"
   ]
  },
  {
   "cell_type": "code",
   "execution_count": 12,
   "id": "85151bcc",
   "metadata": {},
   "outputs": [
    {
     "data": {
      "text/plain": [
       "False"
      ]
     },
     "execution_count": 12,
     "metadata": {},
     "output_type": "execute_result"
    }
   ],
   "source": [
    "(4 == 1) and (2 == 2)"
   ]
  },
  {
   "cell_type": "markdown",
   "id": "49ac662f",
   "metadata": {},
   "source": [
    "## To avoid confusion and ensure consistent behaviour, it's recommended to use boolean values (`True` or `False`) explicitly when working with logical operations to ensure predictable outcomes based on boolean logic."
   ]
  },
  {
   "cell_type": "markdown",
   "id": "05657084",
   "metadata": {},
   "source": [
    "## `or`\n",
    "\n",
    "Evaluates to `True` if just one of the statements is true.\n",
    "\n",
    "|X|Y|X `or` Y|\n",
    "|-|-|-|\n",
    "|True|True|True|\n",
    "|False|True|True|\n",
    "|True|False|True|\n",
    "|False|False|False|"
   ]
  },
  {
   "cell_type": "code",
   "execution_count": 13,
   "id": "f7b847be",
   "metadata": {},
   "outputs": [
    {
     "data": {
      "text/plain": [
       "True"
      ]
     },
     "execution_count": 13,
     "metadata": {},
     "output_type": "execute_result"
    }
   ],
   "source": [
    "'Python' == 'python' or True"
   ]
  },
  {
   "cell_type": "code",
   "execution_count": 14,
   "id": "d3f1bad5",
   "metadata": {},
   "outputs": [
    {
     "data": {
      "text/plain": [
       "False"
      ]
     },
     "execution_count": 14,
     "metadata": {},
     "output_type": "execute_result"
    }
   ],
   "source": [
    "'Python' == 'python'"
   ]
  },
  {
   "cell_type": "code",
   "execution_count": 15,
   "id": "a9efd3c7",
   "metadata": {},
   "outputs": [
    {
     "data": {
      "text/plain": [
       "False"
      ]
     },
     "execution_count": 15,
     "metadata": {},
     "output_type": "execute_result"
    }
   ],
   "source": [
    "not (7 % 2 == 1) or False"
   ]
  },
  {
   "cell_type": "code",
   "execution_count": 16,
   "id": "e1df7477",
   "metadata": {},
   "outputs": [
    {
     "data": {
      "text/plain": [
       "1"
      ]
     },
     "execution_count": 16,
     "metadata": {},
     "output_type": "execute_result"
    }
   ],
   "source": [
    "7 % 2"
   ]
  },
  {
   "cell_type": "code",
   "execution_count": 17,
   "id": "b9620c57",
   "metadata": {},
   "outputs": [
    {
     "data": {
      "text/plain": [
       "True"
      ]
     },
     "execution_count": 17,
     "metadata": {},
     "output_type": "execute_result"
    }
   ],
   "source": [
    "1 == 1"
   ]
  },
  {
   "cell_type": "code",
   "execution_count": 18,
   "id": "dba54401",
   "metadata": {},
   "outputs": [],
   "source": [
    "# and operator: return the first falsy value encountered or the last truthy value if all operands \n",
    "# are `True` based on the conditions provided\n",
    "\n",
    "# or operator: return the first truthy value encountered or the last falsy value if all operands\n",
    "# are `False` based on the conditions provided"
   ]
  },
  {
   "cell_type": "code",
   "execution_count": 19,
   "id": "486c4a6b",
   "metadata": {},
   "outputs": [
    {
     "data": {
      "text/plain": [
       "'dog'"
      ]
     },
     "execution_count": 19,
     "metadata": {},
     "output_type": "execute_result"
    }
   ],
   "source": [
    "# \"dog\" is a non-empty string, True\n",
    "# \"cat\" is a non-empty string, True\n",
    "\n",
    "\"dog\" or \"cat\" "
   ]
  },
  {
   "cell_type": "code",
   "execution_count": 20,
   "id": "a55a4a8a",
   "metadata": {},
   "outputs": [
    {
     "data": {
      "text/plain": [
       "0"
      ]
     },
     "execution_count": 20,
     "metadata": {},
     "output_type": "execute_result"
    }
   ],
   "source": [
    "# 0 is False\n",
    "\n",
    "0 or 0"
   ]
  },
  {
   "cell_type": "markdown",
   "id": "33e284de",
   "metadata": {},
   "source": [
    "## Operator precedence\n",
    "\n",
    "Boolean operators are evaluated after arithmetic and comparison operators.\n",
    "\n",
    "| Order | Operator | Description |\n",
    "|---|---|---|\n",
    "| 1 | `**` | Exponentiation |\n",
    "| 2 | `-`| Negation |\n",
    "| 3 | `*`, `/`, `//`, `%` | Multiplication, division, integer division, and modulo |\n",
    "| 4 | `+`, `-` | Addition and subtraction |\n",
    "| 5 | `<`, `<=`, `>`, `>=`, `==`, `!=` | Less than, less than or equal to, greater than, greater than or equal to, equal, not equal |\n",
    "| 6 | `not` | Not |\n",
    "| 7 | `and` | And |\n",
    "| 8 | `or` | Or|"
   ]
  },
  {
   "cell_type": "code",
   "execution_count": 21,
   "id": "b2337bd5",
   "metadata": {},
   "outputs": [
    {
     "data": {
      "text/plain": [
       "True"
      ]
     },
     "execution_count": 21,
     "metadata": {},
     "output_type": "execute_result"
    }
   ],
   "source": [
    "True and True or False"
   ]
  },
  {
   "cell_type": "code",
   "execution_count": 22,
   "id": "ec888abe",
   "metadata": {},
   "outputs": [
    {
     "data": {
      "text/plain": [
       "True"
      ]
     },
     "execution_count": 22,
     "metadata": {},
     "output_type": "execute_result"
    }
   ],
   "source": [
    "True or False"
   ]
  },
  {
   "cell_type": "code",
   "execution_count": 23,
   "id": "f3423fc1",
   "metadata": {},
   "outputs": [
    {
     "data": {
      "text/plain": [
       "False"
      ]
     },
     "execution_count": 23,
     "metadata": {},
     "output_type": "execute_result"
    }
   ],
   "source": [
    "not ((5 != 6) or (4 < 100))"
   ]
  },
  {
   "cell_type": "code",
   "execution_count": 24,
   "id": "bccb03f4",
   "metadata": {},
   "outputs": [
    {
     "data": {
      "text/plain": [
       "True"
      ]
     },
     "execution_count": 24,
     "metadata": {},
     "output_type": "execute_result"
    }
   ],
   "source": [
    "True or True"
   ]
  },
  {
   "cell_type": "code",
   "execution_count": 25,
   "id": "05431594",
   "metadata": {},
   "outputs": [],
   "source": [
    "year = 1990\n",
    "\n",
    "if year >= 2000:\n",
    "    print('We are in the 21st century.')"
   ]
  },
  {
   "cell_type": "code",
   "execution_count": 26,
   "id": "e20b919d",
   "metadata": {},
   "outputs": [
    {
     "name": "stdout",
     "output_type": "stream",
     "text": [
      "We are in the 21st century.\n"
     ]
    }
   ],
   "source": [
    "year = 2025\n",
    "\n",
    "if year >= 2000:\n",
    "    print(\"We are in the 21st century.\")\n",
    "else:\n",
    "    print(\"We are not in the 21st century.\")"
   ]
  },
  {
   "cell_type": "code",
   "execution_count": 27,
   "id": "05c050a4",
   "metadata": {},
   "outputs": [
    {
     "name": "stdout",
     "output_type": "stream",
     "text": [
      "We are in the 21st century.\n"
     ]
    }
   ],
   "source": [
    "year = 2025\n",
    "\n",
    "if year >= 2000:\n",
    "    print('We are in the 21st century.')\n",
    "elif year >= 1900:\n",
    "    print('We are in the 20th century.')\n",
    "elif year >= 1800:\n",
    "    print('We are in the 19th century.')\n",
    "else:\n",
    "    print('We have gone way back in time!')"
   ]
  },
  {
   "cell_type": "code",
   "execution_count": 28,
   "id": "b9ba8d69",
   "metadata": {},
   "outputs": [],
   "source": [
    "def eye_exam_covered(age, qualifying_condition, time_since_last_exam):\n",
    "    # age is int\n",
    "\n",
    "    # qualifying_condition is a bool: True is you have an eligible\n",
    "    # medical condition, False is you do not\n",
    "\n",
    "    # time_since_last_exam is int representing the months since your last exam\n",
    "\n",
    "    if age <= 19:\n",
    "        if time_since_last_exam >= 12:\n",
    "            return \"You are eligible for 1 major eye exam and any minor assessments\"\n",
    "        else:\n",
    "            return \"You are eligible for minor assessments, but not a major eye exam.\"\n",
    "    \n",
    "    elif 20 <= age <= 64:    \n",
    "        if qualifying_condition:\n",
    "            if time_since_last_exam >= 12:\n",
    "                return \"You are eligible for 1 major eye exam and 2 additional follow up minor assessments\"\n",
    "            else:\n",
    "                return \"It hasn't been 12 months since your last major eye exam.\"\n",
    "        else:\n",
    "            return \"You do not have an eligible medical condition affecting your eyes.\"\n",
    "        \n",
    "    elif age >= 65:\n",
    "        if time_since_last_exam >= 18:\n",
    "            return \"You are eligible for 1 major eye exam and 2 additional follow-up minor assessments\"\n",
    "        else:\n",
    "            return \"It hasn't been 18 months since your last major eye exam\"\n",
    "    \n",
    "    else:\n",
    "        return \"Invalid age input.\""
   ]
  },
  {
   "cell_type": "code",
   "execution_count": 29,
   "id": "3160470b",
   "metadata": {},
   "outputs": [
    {
     "data": {
      "text/plain": [
       "'You are eligible for 1 major eye exam and 2 additional follow-up minor assessments'"
      ]
     },
     "execution_count": 29,
     "metadata": {},
     "output_type": "execute_result"
    }
   ],
   "source": [
    "eye_exam_covered(67, True, 20)"
   ]
  },
  {
   "cell_type": "code",
   "execution_count": 30,
   "id": "592bf5ec",
   "metadata": {},
   "outputs": [
    {
     "data": {
      "text/plain": [
       "'You are eligible for 1 major eye exam and 2 additional follow up minor assessments'"
      ]
     },
     "execution_count": 30,
     "metadata": {},
     "output_type": "execute_result"
    }
   ],
   "source": [
    "eye_exam_covered(27, True, 15)"
   ]
  },
  {
   "cell_type": "code",
   "execution_count": 31,
   "id": "cb353640",
   "metadata": {},
   "outputs": [
    {
     "data": {
      "text/plain": [
       "'You are eligible for minor assessments, but not a major eye exam.'"
      ]
     },
     "execution_count": 31,
     "metadata": {},
     "output_type": "execute_result"
    }
   ],
   "source": [
    "eye_exam_covered(19, False, 11)"
   ]
  },
  {
   "cell_type": "code",
   "execution_count": 34,
   "id": "0bb21681",
   "metadata": {},
   "outputs": [
    {
     "data": {
      "text/plain": [
       "['a', 'e', 'i', 'o', 'u']"
      ]
     },
     "execution_count": 34,
     "metadata": {},
     "output_type": "execute_result"
    }
   ],
   "source": [
    "vowels = ['a', 'e', 'i', 'o', 'u']\n",
    "vowels"
   ]
  },
  {
   "cell_type": "code",
   "execution_count": 35,
   "id": "b93df2aa",
   "metadata": {},
   "outputs": [],
   "source": [
    "empty_list = [] # conventional way\n",
    "\n",
    "empty_list2 = list()"
   ]
  },
  {
   "cell_type": "code",
   "execution_count": 37,
   "id": "1706ac14",
   "metadata": {},
   "outputs": [
    {
     "data": {
      "text/plain": [
       "list"
      ]
     },
     "execution_count": 37,
     "metadata": {},
     "output_type": "execute_result"
    }
   ],
   "source": [
    "type(empty_list)"
   ]
  },
  {
   "cell_type": "code",
   "execution_count": 39,
   "id": "bfdc77fa",
   "metadata": {},
   "outputs": [],
   "source": [
    "scores = [90, 80, 82, 91, 80]\n",
    "grades = ['K', 1, 2, 3, 4, 5, 6, 7, 8, 9, 10, 11, 12]\n",
    "summary_functions = [len, sum, max, min]"
   ]
  },
  {
   "cell_type": "code",
   "execution_count": null,
   "id": "1a43a7e9",
   "metadata": {},
   "outputs": [],
   "source": [
    "mystery_solvers = [['Sherlock', 'Watson'], \n",
    "                   ['Scooby', 'Shaggy', 'Fred'], \n",
    "                   'Nancy']"
   ]
  },
  {
   "cell_type": "code",
   "execution_count": 41,
   "id": "40be8280",
   "metadata": {},
   "outputs": [
    {
     "data": {
      "text/plain": [
       "['K', 1, 2, 3, 4, 5, 6, 7, 8, 9, 10, 11, 12]"
      ]
     },
     "execution_count": 41,
     "metadata": {},
     "output_type": "execute_result"
    }
   ],
   "source": [
    "grades"
   ]
  },
  {
   "cell_type": "code",
   "execution_count": 42,
   "id": "73c342cb",
   "metadata": {},
   "outputs": [
    {
     "data": {
      "text/plain": [
       "'K'"
      ]
     },
     "execution_count": 42,
     "metadata": {},
     "output_type": "execute_result"
    }
   ],
   "source": [
    "grades[0]"
   ]
  },
  {
   "cell_type": "code",
   "execution_count": 43,
   "id": "442cbc38",
   "metadata": {},
   "outputs": [
    {
     "data": {
      "text/plain": [
       "[6, 7, 8]"
      ]
     },
     "execution_count": 43,
     "metadata": {},
     "output_type": "execute_result"
    }
   ],
   "source": [
    "grades[6:9]"
   ]
  },
  {
   "cell_type": "code",
   "execution_count": 44,
   "id": "478374d5",
   "metadata": {},
   "outputs": [
    {
     "data": {
      "text/plain": [
       "[9, 10, 11, 12]"
      ]
     },
     "execution_count": 44,
     "metadata": {},
     "output_type": "execute_result"
    }
   ],
   "source": [
    "grades[-4:]"
   ]
  },
  {
   "cell_type": "code",
   "execution_count": 45,
   "id": "df0dbf67",
   "metadata": {},
   "outputs": [
    {
     "ename": "IndexError",
     "evalue": "list index out of range",
     "output_type": "error",
     "traceback": [
      "\u001b[0;31m---------------------------------------------------------------------------\u001b[0m",
      "\u001b[0;31mIndexError\u001b[0m                                Traceback (most recent call last)",
      "Cell \u001b[0;32mIn[45], line 1\u001b[0m\n\u001b[0;32m----> 1\u001b[0m \u001b[43mgrades\u001b[49m\u001b[43m[\u001b[49m\u001b[38;5;241;43m13\u001b[39;49m\u001b[43m]\u001b[49m\n",
      "\u001b[0;31mIndexError\u001b[0m: list index out of range"
     ]
    }
   ],
   "source": [
    "grades[13]"
   ]
  },
  {
   "cell_type": "code",
   "execution_count": 46,
   "id": "99217e5d",
   "metadata": {},
   "outputs": [
    {
     "data": {
      "text/plain": [
       "True"
      ]
     },
     "execution_count": 46,
     "metadata": {},
     "output_type": "execute_result"
    }
   ],
   "source": [
    "'dog' in 'examples of pets are dogs, cats, and birds'"
   ]
  },
  {
   "cell_type": "code",
   "execution_count": 47,
   "id": "3b4260a1",
   "metadata": {},
   "outputs": [
    {
     "data": {
      "text/plain": [
       "['a', 'e', 'i', 'o', 'u']"
      ]
     },
     "execution_count": 47,
     "metadata": {},
     "output_type": "execute_result"
    }
   ],
   "source": [
    "vowels"
   ]
  },
  {
   "cell_type": "code",
   "execution_count": 49,
   "id": "926b9e8d",
   "metadata": {},
   "outputs": [
    {
     "data": {
      "text/plain": [
       "False"
      ]
     },
     "execution_count": 49,
     "metadata": {},
     "output_type": "execute_result"
    }
   ],
   "source": [
    "'y' in vowels"
   ]
  },
  {
   "cell_type": "code",
   "execution_count": 50,
   "id": "58e82724",
   "metadata": {},
   "outputs": [
    {
     "data": {
      "text/plain": [
       "37"
      ]
     },
     "execution_count": 50,
     "metadata": {},
     "output_type": "execute_result"
    }
   ],
   "source": [
    "perfect_squares = [1, 4, 9, 16, 25, 37, 49]\n",
    "\n",
    "perfect_squares[5]"
   ]
  },
  {
   "cell_type": "code",
   "execution_count": 51,
   "id": "6209aed4",
   "metadata": {},
   "outputs": [],
   "source": [
    "perfect_squares[5] = 36"
   ]
  },
  {
   "cell_type": "code",
   "execution_count": 52,
   "id": "6e39b032",
   "metadata": {},
   "outputs": [
    {
     "data": {
      "text/plain": [
       "[1, 4, 9, 16, 25, 36, 49]"
      ]
     },
     "execution_count": 52,
     "metadata": {},
     "output_type": "execute_result"
    }
   ],
   "source": [
    "perfect_squares"
   ]
  },
  {
   "cell_type": "code",
   "execution_count": 55,
   "id": "d8547186",
   "metadata": {},
   "outputs": [
    {
     "data": {
      "text/plain": [
       "['bread', 'cheese', 'bread']"
      ]
     },
     "execution_count": 55,
     "metadata": {},
     "output_type": "execute_result"
    }
   ],
   "source": [
    "julia_sandwich = ['bread', 'cheese', 'bread']\n",
    "julia_sandwich"
   ]
  },
  {
   "cell_type": "code",
   "execution_count": 56,
   "id": "a1fee9b3",
   "metadata": {},
   "outputs": [],
   "source": [
    "kaylie_sandwich = julia_sandwich"
   ]
  },
  {
   "cell_type": "code",
   "execution_count": 57,
   "id": "407adedc",
   "metadata": {},
   "outputs": [
    {
     "data": {
      "text/plain": [
       "['bread', 'cheese', 'bread']"
      ]
     },
     "execution_count": 57,
     "metadata": {},
     "output_type": "execute_result"
    }
   ],
   "source": [
    "kaylie_sandwich"
   ]
  },
  {
   "cell_type": "code",
   "execution_count": 58,
   "id": "42c233d9",
   "metadata": {},
   "outputs": [],
   "source": [
    "julia_sandwich[1] = 'tomato'"
   ]
  },
  {
   "cell_type": "code",
   "execution_count": 59,
   "id": "d50a687b",
   "metadata": {},
   "outputs": [
    {
     "data": {
      "text/plain": [
       "['bread', 'tomato', 'bread']"
      ]
     },
     "execution_count": 59,
     "metadata": {},
     "output_type": "execute_result"
    }
   ],
   "source": [
    "julia_sandwich"
   ]
  },
  {
   "cell_type": "code",
   "execution_count": 60,
   "id": "7d0d687e",
   "metadata": {},
   "outputs": [
    {
     "data": {
      "text/plain": [
       "['bread', 'tomato', 'bread']"
      ]
     },
     "execution_count": 60,
     "metadata": {},
     "output_type": "execute_result"
    }
   ],
   "source": [
    "kaylie_sandwich"
   ]
  },
  {
   "cell_type": "code",
   "execution_count": null,
   "id": "20262ed3",
   "metadata": {},
   "outputs": [],
   "source": [
    "# ^^^ lists are mutable data types"
   ]
  },
  {
   "cell_type": "code",
   "execution_count": 61,
   "id": "357aa997",
   "metadata": {},
   "outputs": [
    {
     "data": {
      "text/plain": [
       "'cheese sandwich'"
      ]
     },
     "execution_count": 61,
     "metadata": {},
     "output_type": "execute_result"
    }
   ],
   "source": [
    "julia_sandwich2 = 'cheese sandwich'\n",
    "julia_sandwich2"
   ]
  },
  {
   "cell_type": "code",
   "execution_count": 62,
   "id": "6aa5cbc2",
   "metadata": {},
   "outputs": [],
   "source": [
    "kaylie_sandwich2 = julia_sandwich2"
   ]
  },
  {
   "cell_type": "code",
   "execution_count": 63,
   "id": "0ba67a45",
   "metadata": {},
   "outputs": [
    {
     "data": {
      "text/plain": [
       "'cheese sandwich'"
      ]
     },
     "execution_count": 63,
     "metadata": {},
     "output_type": "execute_result"
    }
   ],
   "source": [
    "kaylie_sandwich2"
   ]
  },
  {
   "cell_type": "code",
   "execution_count": 64,
   "id": "46f41187",
   "metadata": {},
   "outputs": [],
   "source": [
    "julia_sandwich2 = 'tomato sandwich'"
   ]
  },
  {
   "cell_type": "code",
   "execution_count": 65,
   "id": "0fe68d48",
   "metadata": {},
   "outputs": [
    {
     "data": {
      "text/plain": [
       "'tomato sandwich'"
      ]
     },
     "execution_count": 65,
     "metadata": {},
     "output_type": "execute_result"
    }
   ],
   "source": [
    "julia_sandwich2"
   ]
  },
  {
   "cell_type": "code",
   "execution_count": 66,
   "id": "c81f7afc",
   "metadata": {},
   "outputs": [
    {
     "data": {
      "text/plain": [
       "'cheese sandwich'"
      ]
     },
     "execution_count": 66,
     "metadata": {},
     "output_type": "execute_result"
    }
   ],
   "source": [
    "kaylie_sandwich2"
   ]
  },
  {
   "cell_type": "code",
   "execution_count": 68,
   "id": "7453d1c8",
   "metadata": {},
   "outputs": [
    {
     "data": {
      "text/plain": [
       "1"
      ]
     },
     "execution_count": 68,
     "metadata": {},
     "output_type": "execute_result"
    }
   ],
   "source": [
    "a = 1\n",
    "a"
   ]
  },
  {
   "cell_type": "code",
   "execution_count": 70,
   "id": "0afaf657",
   "metadata": {},
   "outputs": [
    {
     "data": {
      "text/plain": [
       "1"
      ]
     },
     "execution_count": 70,
     "metadata": {},
     "output_type": "execute_result"
    }
   ],
   "source": [
    "b = a\n",
    "b"
   ]
  },
  {
   "cell_type": "code",
   "execution_count": 71,
   "id": "251ca6b5",
   "metadata": {},
   "outputs": [
    {
     "data": {
      "text/plain": [
       "2"
      ]
     },
     "execution_count": 71,
     "metadata": {},
     "output_type": "execute_result"
    }
   ],
   "source": [
    "a = 2\n",
    "a"
   ]
  },
  {
   "cell_type": "code",
   "execution_count": 72,
   "id": "ae3e5897",
   "metadata": {},
   "outputs": [
    {
     "data": {
      "text/plain": [
       "1"
      ]
     },
     "execution_count": 72,
     "metadata": {},
     "output_type": "execute_result"
    }
   ],
   "source": [
    "b"
   ]
  },
  {
   "cell_type": "code",
   "execution_count": 74,
   "id": "70ee88ab",
   "metadata": {},
   "outputs": [
    {
     "data": {
      "text/plain": [
       "[1, 2]"
      ]
     },
     "execution_count": 74,
     "metadata": {},
     "output_type": "execute_result"
    }
   ],
   "source": [
    "a = [1, 2]\n",
    "a"
   ]
  },
  {
   "cell_type": "code",
   "execution_count": 76,
   "id": "8ce0aeec",
   "metadata": {},
   "outputs": [
    {
     "data": {
      "text/plain": [
       "[1, 2]"
      ]
     },
     "execution_count": 76,
     "metadata": {},
     "output_type": "execute_result"
    }
   ],
   "source": [
    "b = a\n",
    "b"
   ]
  },
  {
   "cell_type": "code",
   "execution_count": 77,
   "id": "f89a9902",
   "metadata": {},
   "outputs": [
    {
     "data": {
      "text/plain": [
       "[6, 2]"
      ]
     },
     "execution_count": 77,
     "metadata": {},
     "output_type": "execute_result"
    }
   ],
   "source": [
    "a[0] = 6\n",
    "a"
   ]
  },
  {
   "cell_type": "code",
   "execution_count": 78,
   "id": "84f772b6",
   "metadata": {},
   "outputs": [
    {
     "data": {
      "text/plain": [
       "[6, 2]"
      ]
     },
     "execution_count": 78,
     "metadata": {},
     "output_type": "execute_result"
    }
   ],
   "source": [
    "b"
   ]
  },
  {
   "cell_type": "code",
   "execution_count": 79,
   "id": "28c33f2e",
   "metadata": {},
   "outputs": [],
   "source": [
    "combo = ['burger', 'fries', 'drink']\n",
    "kid_meal = list(combo)"
   ]
  },
  {
   "cell_type": "code",
   "execution_count": 80,
   "id": "858104ee",
   "metadata": {},
   "outputs": [
    {
     "data": {
      "text/plain": [
       "['burger', 'fries', 'drink']"
      ]
     },
     "execution_count": 80,
     "metadata": {},
     "output_type": "execute_result"
    }
   ],
   "source": [
    "combo"
   ]
  },
  {
   "cell_type": "code",
   "execution_count": 81,
   "id": "b118a24f",
   "metadata": {},
   "outputs": [
    {
     "data": {
      "text/plain": [
       "['burger', 'fries', 'drink']"
      ]
     },
     "execution_count": 81,
     "metadata": {},
     "output_type": "execute_result"
    }
   ],
   "source": [
    "kid_meal"
   ]
  },
  {
   "cell_type": "code",
   "execution_count": 82,
   "id": "9031f93d",
   "metadata": {},
   "outputs": [],
   "source": [
    "combo[0] = 'chicken sandwich'"
   ]
  },
  {
   "cell_type": "code",
   "execution_count": 83,
   "id": "44cdb53a",
   "metadata": {},
   "outputs": [
    {
     "data": {
      "text/plain": [
       "['chicken sandwich', 'fries', 'drink']"
      ]
     },
     "execution_count": 83,
     "metadata": {},
     "output_type": "execute_result"
    }
   ],
   "source": [
    "combo"
   ]
  },
  {
   "cell_type": "code",
   "execution_count": 84,
   "id": "6e1738ab",
   "metadata": {},
   "outputs": [
    {
     "data": {
      "text/plain": [
       "['burger', 'fries', 'drink']"
      ]
     },
     "execution_count": 84,
     "metadata": {},
     "output_type": "execute_result"
    }
   ],
   "source": [
    "kid_meal"
   ]
  },
  {
   "cell_type": "code",
   "execution_count": 85,
   "id": "2dd30b0c",
   "metadata": {},
   "outputs": [
    {
     "data": {
      "text/plain": [
       "[1, 4, 9, 16, 25, 36, 49]"
      ]
     },
     "execution_count": 85,
     "metadata": {},
     "output_type": "execute_result"
    }
   ],
   "source": [
    "perfect_squares"
   ]
  },
  {
   "cell_type": "code",
   "execution_count": 86,
   "id": "aa4f3822",
   "metadata": {},
   "outputs": [
    {
     "data": {
      "text/plain": [
       "7"
      ]
     },
     "execution_count": 86,
     "metadata": {},
     "output_type": "execute_result"
    }
   ],
   "source": [
    "len(perfect_squares)"
   ]
  },
  {
   "cell_type": "code",
   "execution_count": 87,
   "id": "7fbc0e0e",
   "metadata": {},
   "outputs": [
    {
     "data": {
      "text/plain": [
       "[1, 4, 9, 16, 25, 36, 49]"
      ]
     },
     "execution_count": 87,
     "metadata": {},
     "output_type": "execute_result"
    }
   ],
   "source": [
    "perfect_squares"
   ]
  },
  {
   "cell_type": "code",
   "execution_count": 88,
   "id": "68220fb6",
   "metadata": {},
   "outputs": [
    {
     "data": {
      "text/plain": [
       "49"
      ]
     },
     "execution_count": 88,
     "metadata": {},
     "output_type": "execute_result"
    }
   ],
   "source": [
    "max(perfect_squares)"
   ]
  },
  {
   "cell_type": "code",
   "execution_count": 89,
   "id": "1d19d501",
   "metadata": {},
   "outputs": [
    {
     "data": {
      "text/plain": [
       "[1, 4, 9, 16, 25, 36, 49]"
      ]
     },
     "execution_count": 89,
     "metadata": {},
     "output_type": "execute_result"
    }
   ],
   "source": [
    "perfect_squares"
   ]
  },
  {
   "cell_type": "code",
   "execution_count": 90,
   "id": "da7925ed",
   "metadata": {},
   "outputs": [],
   "source": [
    "perfect_squares.append(64)"
   ]
  },
  {
   "cell_type": "code",
   "execution_count": 91,
   "id": "04c7a8a9",
   "metadata": {},
   "outputs": [
    {
     "data": {
      "text/plain": [
       "[1, 4, 9, 16, 25, 36, 49, 64]"
      ]
     },
     "execution_count": 91,
     "metadata": {},
     "output_type": "execute_result"
    }
   ],
   "source": [
    "perfect_squares"
   ]
  },
  {
   "cell_type": "code",
   "execution_count": null,
   "id": "299c554f",
   "metadata": {},
   "outputs": [],
   "source": []
  }
 ],
 "metadata": {
  "kernelspec": {
   "display_name": "dsi_participant",
   "language": "python",
   "name": "python3"
  },
  "language_info": {
   "codemirror_mode": {
    "name": "ipython",
    "version": 3
   },
   "file_extension": ".py",
   "mimetype": "text/x-python",
   "name": "python",
   "nbconvert_exporter": "python",
   "pygments_lexer": "ipython3",
   "version": "3.11.8"
  }
 },
 "nbformat": 4,
 "nbformat_minor": 5
}
