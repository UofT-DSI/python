{
 "cells": [
  {
   "cell_type": "code",
   "execution_count": 1,
   "id": "a7768fe5",
   "metadata": {},
   "outputs": [
    {
     "name": "stdout",
     "output_type": "stream",
     "text": [
      "True\n",
      "False\n",
      "True\n"
     ]
    }
   ],
   "source": [
    "# Part 1: Basic Anagram Checker\n",
    "\n",
    "def anagram_checker(word_a, word_b):\n",
    "    \"\"\"\n",
    "    Check if two words are anagrams of each other.\n",
    "    Ignores case sensitivity.\n",
    "    \"\"\"\n",
    "    # Convert both words to lowercase for comparison\n",
    "    word_a = word_a.lower()\n",
    "    word_b = word_b.lower()\n",
    "\n",
    "    # Sort letters and compare\n",
    "    return sorted(word_a) == sorted(word_b)\n",
    "\n",
    "# Testing Part 1\n",
    "print(anagram_checker(\"Silent\", \"listen\"))  # True\n",
    "print(anagram_checker(\"Silent\", \"Night\"))   # False\n",
    "print(anagram_checker(\"night\", \"Thing\"))    # True\n"
   ]
  },
  {
   "cell_type": "code",
   "execution_count": 2,
   "id": "9f4c4b83",
   "metadata": {},
   "outputs": [
    {
     "name": "stdout",
     "output_type": "stream",
     "text": [
      "True\n",
      "False\n",
      "True\n"
     ]
    }
   ],
   "source": [
    "# Part 2: Expanding the Anagram Checker with Case Sensitivity\n",
    "\n",
    "def anagram_checker(word_a, word_b, is_case_sensitive=False):\n",
    "    \"\"\"\n",
    "    Check if two words are anagrams of each other.\n",
    "    Case sensitivity can be toggled with 'is_case_sensitive'.\n",
    "    \"\"\"\n",
    "\n",
    "    # If not case-sensitive, convert both words to lowercase\n",
    "    if not is_case_sensitive:\n",
    "        word_a = word_a.lower()\n",
    "        word_b = word_b.lower()\n",
    "\n",
    "    # Sort letters and compare\n",
    "    return sorted(word_a) == sorted(word_b)\n",
    "\n",
    "\n",
    "# Testing Part 2\n",
    "print(anagram_checker(\"Silent\", \"listen\", False))  # ✅ True (ignores case)\n",
    "print(anagram_checker(\"Silent\", \"Listen\", True))   # ❌ False (case-sensitive)\n",
    "print(anagram_checker(\"night\", \"Thing\", False))    # ✅ True\n"
   ]
  }
 ],
 "metadata": {
  "kernelspec": {
   "display_name": "base",
   "language": "python",
   "name": "python3"
  },
  "language_info": {
   "codemirror_mode": {
    "name": "ipython",
    "version": 3
   },
   "file_extension": ".py",
   "mimetype": "text/x-python",
   "name": "python",
   "nbconvert_exporter": "python",
   "pygments_lexer": "ipython3",
   "version": "3.12.7"
  }
 },
 "nbformat": 4,
 "nbformat_minor": 5
}
